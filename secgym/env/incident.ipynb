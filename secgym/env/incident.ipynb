{
 "cells": [
  {
   "cell_type": "code",
   "execution_count": 26,
   "metadata": {},
   "outputs": [],
   "source": [
    "import pandas as pd\n",
    "import os\n",
    "# C:\\Users\\t-yiranwu\\OneDrive - Microsoft\\Desktop\\SecRL\\secgym\\env\\data\\alpineSkiHouse\\SecurityAlert\n",
    "# secgym\\env\\data\\alpineSkiHouse\\SecurityAlert\n",
    "\n",
    "incident_path = \"./data/alphineskihouse/SecurityIncident.csv\"\n",
    "sep = \"❖\"\n",
    "\n",
    "security_incident = pd.read_csv(incident_path, sep=sep, encoding='utf-8', on_bad_lines='skip', engine='python')\n",
    "# combine all the alert files\n",
    "\n",
    "alert_path_1 = './data/alphineskihouse/SecurityAlert/SecurityAlert_0.csv'\n",
    "alert_path_2 = './data/alphineskihouse/SecurityAlert/SecurityAlert_1.csv'\n",
    "security_alert =  pd.read_csv(alert_path_1, sep=sep, encoding='utf-8', on_bad_lines='skip', engine='python')\n",
    "security_alert_2 = pd.read_csv(alert_path_2, sep=sep, encoding='utf-8', on_bad_lines='skip', engine='python')\n",
    "\n",
    "# combine them in pd\n",
    "security_alert = pd.concat([security_alert, security_alert_2])"
   ]
  },
  {
   "cell_type": "code",
   "execution_count": 27,
   "metadata": {},
   "outputs": [],
   "source": [
    "# sort by time\n",
    "security_incident[\"TimeGenerated\"] = pd.to_datetime(security_incident[\"TimeGenerated\"], format='mixed')\n",
    "security_incident = security_incident.sort_values(by=\"TimeGenerated\")\n",
    "\n",
    "security_alert[\"TimeGenerated\"] = pd.to_datetime(security_alert[\"TimeGenerated\"], format='mixed')\n",
    "security_alert = security_alert.sort_values(by=\"TimeGenerated\")"
   ]
  },
  {
   "cell_type": "code",
   "execution_count": 28,
   "metadata": {},
   "outputs": [
    {
     "data": {
      "text/plain": [
       "array([  3,   5,  38,  34,  39,  47,  48,   1,  55, 122, 134, 166])"
      ]
     },
     "execution_count": 28,
     "metadata": {},
     "output_type": "execute_result"
    }
   ],
   "source": [
    "import json\n",
    "\n",
    "# 1. Filter by LATEST label\n",
    "filtered_incidents = []\n",
    "for i, incident in security_incident.iterrows():\n",
    "    labels = json.loads(incident['Labels'])\n",
    "    # check if the incident is the latest in one line\n",
    "    is_latest = any([label['labelName'] == 'LATEST' for label in labels])\n",
    "    if is_latest:\n",
    "        filtered_incidents.append(incident)\n",
    "\n",
    "filtered_incidents = pd.DataFrame(filtered_incidents)\n",
    "\n",
    "# unique incident numbers\n",
    "incident_numbers = filtered_incidents['IncidentNumber'].unique()\n",
    "incident_numbers"
   ]
  },
  {
   "cell_type": "code",
   "execution_count": 29,
   "metadata": {},
   "outputs": [
    {
     "data": {
      "text/plain": [
       "12"
      ]
     },
     "execution_count": 29,
     "metadata": {},
     "output_type": "execute_result"
    }
   ],
   "source": [
    "# 2. for each incdent number, get the latest incident generated and put in a new dataframe\n",
    "latest_incidents = []\n",
    "for incident_number in incident_numbers:\n",
    "    incident = filtered_incidents[filtered_incidents['IncidentNumber'] == incident_number]\n",
    "    latest_incidents.append(incident.iloc[-1])\n",
    "    \n",
    "latest_incidents = pd.DataFrame(latest_incidents)\n",
    "len(latest_incidents)"
   ]
  },
  {
   "cell_type": "code",
   "execution_count": 31,
   "metadata": {},
   "outputs": [
    {
     "data": {
      "text/plain": [
       "8"
      ]
     },
     "execution_count": 31,
     "metadata": {},
     "output_type": "execute_result"
    }
   ],
   "source": [
    "start_time = pd.to_datetime(\"2024-06-18T00:00:00Z\")\n",
    "end_time = pd.to_datetime(\"2024-07-23T00:00:00Z\")\n",
    "\n",
    "latest_incidents[\"FirstActivityTime\"] = pd.to_datetime(latest_incidents[\"FirstActivityTime\"], format='mixed')\n",
    "latest_incidents = latest_incidents[latest_incidents[\"FirstActivityTime\"] > start_time]\n",
    "latest_incidents = latest_incidents[latest_incidents[\"FirstActivityTime\"] < end_time]\n",
    "len(latest_incidents)"
   ]
  },
  {
   "cell_type": "code",
   "execution_count": 32,
   "metadata": {},
   "outputs": [
    {
     "data": {
      "text/plain": [
       "TenantId                               e34d562e-ef12-4c4e-9bc0-7c6ae357c015\n",
       "TimeGenerated                              2024-07-17 22:41:41.431355+00:00\n",
       "IncidentName                           0e12105e-5e76-449d-9db5-5c70727584b2\n",
       "Title                     Human-operated ransomware attack was launched ...\n",
       "Description                                                             NaN\n",
       "Severity                                                               High\n",
       "Status                                                               Active\n",
       "Classification                                                          NaN\n",
       "ClassificationComment                                                   NaN\n",
       "ClassificationReason                                                    NaN\n",
       "Owner                     {\"objectId\":null,\"email\":null,\"assignedTo\":\"Mi...\n",
       "ProviderName                                                  Microsoft XDR\n",
       "ProviderIncidentId                                                      107\n",
       "FirstActivityTime                          2024-06-20 08:51:07.052079+00:00\n",
       "LastActivityTime                           2024-06-20 09:38:04.116591+00:00\n",
       "FirstModifiedTime                                                       NaN\n",
       "LastModifiedTime                           2024-07-17 22:41:41.431355+00:00\n",
       "CreatedTime                                2024-06-17 05:59:10.946666+00:00\n",
       "ClosedTime                                 2024-07-01 13:34:21.304567+00:00\n",
       "IncidentNumber                                                            5\n",
       "RelatedAnalyticRuleIds             [\"c04d2067-b8be-4d0e-9c09-f7a4638edccc\"]\n",
       "AlertIds                  [\"65e1cae7-3df9-e012-0e2c-6eec6da9d180\",\"3fd82...\n",
       "BookmarkIds                                                              []\n",
       "Comments                                                                 []\n",
       "Tasks                                                                    []\n",
       "Labels                    [{\"labelName\":\"HumOR\",\"labelType\":\"User\"},{\"la...\n",
       "IncidentUrl               https://portal.azure.com/#asset/Microsoft_Azur...\n",
       "AdditionalData            {\"alertsCount\":71,\"bookmarksCount\":0,\"comments...\n",
       "ModifiedBy                External application - Mimik Emails - AlpineSk...\n",
       "SourceSystem                                                          Azure\n",
       "Type                                                       SecurityIncident\n",
       "Name: 473, dtype: object"
      ]
     },
     "execution_count": 32,
     "metadata": {},
     "output_type": "execute_result"
    }
   ],
   "source": [
    "latest_incidents.iloc[0]"
   ]
  },
  {
   "cell_type": "code",
   "execution_count": 121,
   "metadata": {},
   "outputs": [],
   "source": [
    "# put the incidents to a dict:  IncidentNumber: firstActivityTime, lastActivityTime,\n",
    "# convert from pd timestamp to  datetime object\n",
    "    # 322: {\n",
    "    #     \"start_time\": datetime(2024, 8, 1, 11, 0, 0, 0, tzinfo=timezone.utc),\n",
    "    #     \"end_time\": datetime(2024, 8, 1, 14, 0, 0, 0, tzinfo=timezone.utc),\n",
    "    # },\n",
    "\n",
    "incidents = {}\n",
    "for i, incident in latest_incidents.iterrows():\n",
    "    incidents[incident[\"IncidentNumber\"]] = {\n",
    "        \"start_time\": pd.to_datetime(incident[\"FirstActivityTime\"]).to_pydatetime(),\n",
    "        \"end_time\": pd.to_datetime(incident[\"LastActivityTime\"]).to_pydatetime(),\n",
    "    }\n",
    "    "
   ]
  },
  {
   "cell_type": "code",
   "execution_count": 122,
   "metadata": {},
   "outputs": [
    {
     "data": {
      "text/plain": [
       "{5: {'start_time': datetime.datetime(2024, 6, 20, 8, 51, 7, 52079, tzinfo=<UTC>),\n",
       "  'end_time': datetime.datetime(2024, 6, 20, 9, 38, 4, 116591, tzinfo=<UTC>)},\n",
       " 38: {'start_time': datetime.datetime(2024, 6, 26, 15, 49, 16, 784267, tzinfo=<UTC>),\n",
       "  'end_time': datetime.datetime(2024, 6, 26, 16, 13, 56, 115283, tzinfo=<UTC>)},\n",
       " 34: {'start_time': datetime.datetime(2024, 6, 26, 11, 57, 25, 302556, tzinfo=<UTC>),\n",
       "  'end_time': datetime.datetime(2024, 6, 26, 13, 17, 18, 874531, tzinfo=<UTC>)},\n",
       " 39: {'start_time': datetime.datetime(2024, 6, 27, 14, 25, 58, 353842, tzinfo=<UTC>),\n",
       "  'end_time': datetime.datetime(2024, 6, 27, 22, 21, 6, 820675, tzinfo=<UTC>)},\n",
       " 55: {'start_time': datetime.datetime(2024, 7, 1, 15, 1, 28, tzinfo=<UTC>),\n",
       "  'end_time': datetime.datetime(2024, 7, 7, 0, 1, 1, 21452, tzinfo=<UTC>)},\n",
       " 122: {'start_time': datetime.datetime(2024, 7, 13, 9, 17, 30, 965401, tzinfo=<UTC>),\n",
       "  'end_time': datetime.datetime(2024, 7, 13, 9, 17, 48, 673545, tzinfo=<UTC>)},\n",
       " 134: {'start_time': datetime.datetime(2024, 7, 17, 10, 49, 35, 108080, tzinfo=<UTC>),\n",
       "  'end_time': datetime.datetime(2024, 7, 17, 11, 6, 54, tzinfo=<UTC>)},\n",
       " 166: {'start_time': datetime.datetime(2024, 7, 22, 8, 18, 18, 418000, tzinfo=<UTC>),\n",
       "  'end_time': datetime.datetime(2024, 7, 22, 9, 46, 21, tzinfo=<UTC>)}}"
      ]
     },
     "execution_count": 122,
     "metadata": {},
     "output_type": "execute_result"
    }
   ],
   "source": [
    "incidents"
   ]
  },
  {
   "cell_type": "code",
   "execution_count": 106,
   "metadata": {},
   "outputs": [
    {
     "data": {
      "text/plain": [
       "Title\n",
       "BEC financial fraud attack was launched from a compromised account (attack disruption)                                 1\n",
       "Human-operated ransomware attack was launched from a compromised asset (attack disruption)                             1\n",
       "Multi-stage incident involving Defense evasion & Discovery on one endpoint                                             1\n",
       "Multi-stage incident involving Execution & Discovery on one endpoint                                                   1\n",
       "Multi-stage incident involving Initial access & Discovery on one endpoint                                              1\n",
       "Multi-stage incident involving Initial access & Lateral movement on multiple endpoints reported by multiple sources    1\n",
       "Multi-stage incident involving Privilege escalation on multiple endpoints reported by multiple sources                 1\n",
       "SAP financial process manipulation (attack disruption)                                                                 1\n",
       "dtype: int64"
      ]
     },
     "execution_count": 106,
     "metadata": {},
     "output_type": "execute_result"
    }
   ],
   "source": [
    "latest_incidents.value_counts(\"Title\")"
   ]
  },
  {
   "cell_type": "code",
   "execution_count": 90,
   "metadata": {},
   "outputs": [
    {
     "name": "stdout",
     "output_type": "stream",
     "text": [
      "2024-06-20 08:51:07.052079+00:00 5 Human-operated ransomware attack was launched from a compromised asset (attack disruption) 71\n",
      "2024-06-26 11:57:25.302556+00:00 34 Multi-stage incident involving Execution & Discovery on one endpoint 11\n",
      "2024-06-26 15:49:16.784267+00:00 38 Multi-stage incident involving Defense evasion & Discovery on one endpoint 4\n",
      "2024-06-27 14:25:58.353842+00:00 39 Multi-stage incident involving Privilege escalation on multiple endpoints reported by multiple sources 48\n",
      "2024-07-01 15:01:28+00:00 55 Multi-stage incident involving Initial access & Lateral movement on multiple endpoints reported by multiple sources 28\n",
      "2024-07-13 09:17:30.965401+00:00 122 Multi-stage incident involving Initial access & Discovery on one endpoint 9\n",
      "2024-07-17 10:49:35.108080+00:00 134 BEC financial fraud attack was launched from a compromised account (attack disruption) 9\n",
      "2024-07-22 08:18:18.418000+00:00 166 SAP financial process manipulation (attack disruption) 11\n",
      "2024-07-23 12:19:16+00:00 175 Multi-stage incident involving Initial access & Lateral movement on multiple endpoints reported by multiple sources 33\n",
      "2024-07-29 10:32:44.433665+00:00 290 Multi-stage incident involving Privilege escalation on multiple endpoints reported by multiple sources 47\n"
     ]
    }
   ],
   "source": [
    "# sort incidents by TimeGenerated\n",
    "latest_incidents = latest_incidents.sort_values(by=\"FirstActivityTime\")\n",
    "# print name, first activity time, title\n",
    "for i, incident in latest_incidents.iterrows():\n",
    "    print(incident['FirstActivityTime'], incident['IncidentNumber'],  incident['Title'], len(json.loads(incident['AlertIds'])))"
   ]
  },
  {
   "cell_type": "code",
   "execution_count": 93,
   "metadata": {},
   "outputs": [
    {
     "name": "stdout",
     "output_type": "stream",
     "text": [
      "5\n",
      "34\n",
      "38\n",
      "39\n",
      "55\n",
      "122\n",
      "134\n",
      "166\n",
      "175\n",
      "290\n"
     ]
    }
   ],
   "source": [
    "for i, incident in latest_incidents.iterrows():\n",
    "    print(incident['IncidentNumber'])"
   ]
  },
  {
   "cell_type": "markdown",
   "metadata": {},
   "source": [
    "## Use overlap in alert names to find relation beween two incidents\n",
    "\n",
    "1. Have a large number of overlapping tags: like 19 and 25\n",
    "2. Have the same incident title"
   ]
  },
  {
   "cell_type": "code",
   "execution_count": 113,
   "metadata": {},
   "outputs": [
    {
     "name": "stdout",
     "output_type": "stream",
     "text": [
      "5 39 (71, 48, 7)\n",
      "5 55 (71, 28, 2)\n",
      "55 34 (28, 11, 2)\n",
      "55 39 (28, 48, 6)\n",
      "122 34 (9, 11, 7)\n",
      "122 55 (9, 28, 2)\n",
      "134 39 (9, 48, 2)\n",
      "134 55 (9, 28, 2)\n",
      "166 134 (11, 9, 5)\n"
     ]
    }
   ],
   "source": [
    "# print alert names\n",
    "def get_alert_titles(alert_ids: list):\n",
    "    alert_titles = []\n",
    "    for alert_id in alert_ids:\n",
    "        alert = security_alert[security_alert['SystemAlertId'] == alert_id]\n",
    "        if len(alert) > 0:\n",
    "            alert_titles.append(alert.iloc[0]['AlertName'])\n",
    "    return alert_titles\n",
    "\n",
    "def check_alert_name_overlap(incident_1, incident_2):\n",
    "    alert_ids_1 = json.loads(incident_1['AlertIds'])\n",
    "    alert_ids_2 = json.loads(incident_2['AlertIds'])\n",
    "    alert_titles_1 = get_alert_titles(alert_ids_1)\n",
    "    alert_titles_2 = get_alert_titles(alert_ids_2)\n",
    "    overlap = set(alert_titles_1).intersection(set(alert_titles_2))\n",
    "    return len(alert_ids_1), len(alert_ids_2), len(overlap)\n",
    "\n",
    "def compare_incidents(incident_1, incident_2):\n",
    "    print(incident_1['Title'])\n",
    "    print(incident_2['Title'])\n",
    "    labels_1 = [label['labelName'] for label in json.loads(incident_1['Labels'])]\n",
    "    labels_2 = [label['labelName'] for label in json.loads(incident_2['Labels'])]\n",
    "    print(labels_1)\n",
    "    print(labels_2)\n",
    "    \n",
    "    len_alerts_1, len_alerts_2, overlap = check_alert_name_overlap(incident_1, incident_2)\n",
    "    print(len_alerts_1, len_alerts_2, len(overlap))\n",
    "    \n",
    "    \n",
    "# get overlap of every two incidents\n",
    "for i, incident_1 in latest_incidents.iterrows():\n",
    "    for j, incident_2 in latest_incidents.iterrows():\n",
    "        if i < j:\n",
    "            _, _, overlap = check_alert_name_overlap(incident_1, incident_2)\n",
    "            if overlap ==0:\n",
    "                continue\n",
    "            print(incident_1['IncidentNumber'], incident_2['IncidentNumber'], check_alert_name_overlap(incident_1, incident_2))"
   ]
  },
  {
   "cell_type": "markdown",
   "metadata": {},
   "source": [
    "## History"
   ]
  },
  {
   "cell_type": "code",
   "execution_count": null,
   "metadata": {},
   "outputs": [],
   "source": [
    "\"Multi-stage incident involving Initial access & Collection on multiple endpoints reported by multiple sources\""
   ]
  },
  {
   "cell_type": "code",
   "execution_count": 8,
   "metadata": {},
   "outputs": [
    {
     "name": "stdout",
     "output_type": "stream",
     "text": [
      "Human-operated ransomware attack was launched from a compromised asset (attack disruption)\n",
      "Multi-stage incident involving Execution & Discovery on one endpoint\n",
      "Multi-stage incident involving Defense evasion & Discovery on one endpoint\n",
      "Multi-stage incident involving Privilege escalation on multiple endpoints reported by multiple sources\n",
      "BEC financial fraud attack was launched from a compromised account (attack disruption)\n",
      "Multi-stage incident involving Initial access & Lateral movement on multiple endpoints reported by multiple sources\n",
      "Multi-stage incident involving Initial access & Discovery on one endpoint\n",
      "SAP financial process manipulation (attack disruption)\n",
      "Multi-stage incident involving Initial access & Collection on multiple endpoints reported by multiple sources\n"
     ]
    }
   ],
   "source": [
    "latest_incidents = latest_incidents.drop_duplicates(subset=['Title'])\n",
    "for i, incident in latest_incidents.iterrows():\n",
    "    print( incident['Title'],)\n",
    "\n",
    "len(latest_incidents)"
   ]
  },
  {
   "cell_type": "code",
   "execution_count": 12,
   "metadata": {},
   "outputs": [
    {
     "name": "stdout",
     "output_type": "stream",
     "text": [
      "Human-operated ransomware attack was launched from a compromised asset (attack disruption) 6/20/2024, 8:51:07.052 AM\n",
      "Multi-stage incident involving Execution & Discovery on one endpoint  - Special message 6/26/2024, 11:57:25.302 AM\n",
      "Multi-stage incident involving Defense evasion & Discovery on one endpoint  - Special message 6/26/2024, 3:49:16.784 PM\n",
      "Multi-stage incident involving Privilege escalation on multiple endpoints reported by multiple sources 6/27/2024, 2:25:58.353 PM\n",
      "BEC financial fraud attack was launched from a compromised account (attack disruption) 6/4/2024, 12:21:22.478 PM\n",
      "Multi-stage incident involving Initial access & Lateral movement on multiple endpoints reported by multiple sources 7/1/2024, 3:01:28.000 PM\n",
      "Multi-stage incident involving Initial access & Discovery on one endpoint 7/13/2024, 9:17:30.965 AM\n",
      "SAP financial process manipulation (attack disruption) 7/22/2024, 8:18:18.418 AM\n",
      "Multi-stage incident involving Initial access & Collection on multiple endpoints reported by multiple sources 8/1/2024, 12:26:22.000 PM\n"
     ]
    },
    {
     "data": {
      "text/plain": [
       "['BEC financial fraud attack was launched from a compromised account (attack disruption)']"
      ]
     },
     "execution_count": 12,
     "metadata": {},
     "output_type": "execute_result"
    }
   ],
   "source": [
    "titles = [\n",
    "    \"BEC financial fraud attack was launched from a compromised account (attack disruption)\",\n",
    "    \"BEC financial fraud attack was launched from a compromised account (attack disruption)\",\n",
    "    \"Human-operated ransomware attack was launched from a compromised asset (attack disruption)\",\n",
    "    \"Multi-stage incident involving Initial access & Collection on multiple endpoints reported by multiple sources\",\n",
    "    \"Multi-stage incident involving Initial access & Discovery on one endpoint\",\n",
    "    \"Multi-stage incident involving Initial access & Lateral movement on multiple endpoints reported by multiple sources\",\n",
    "    \"Multi-stage incident involving Privilege escalation on multiple endpoints reported by multiple sources\",\n",
    "    \"SAP financial process manipulation (attack disruption)\"\n",
    "]\n",
    "\n",
    "# if not in the list, print special message\n",
    "for i, incident in latest_incidents.iterrows():\n",
    "    if incident['Title'] not in titles:\n",
    "        print(incident['Title'], \" - Special message\", incident['FirstActivityTime [UTC]'])\n",
    "    else:\n",
    "        print(incident['Title'], incident['FirstActivityTime [UTC]'])\n",
    "        del titles[titles.index(incident['Title'])]\n",
    "\n",
    "\n",
    "titles"
   ]
  },
  {
   "cell_type": "code",
   "execution_count": 75,
   "metadata": {},
   "outputs": [
    {
     "data": {
      "text/html": [
       "<div>\n",
       "<style scoped>\n",
       "    .dataframe tbody tr th:only-of-type {\n",
       "        vertical-align: middle;\n",
       "    }\n",
       "\n",
       "    .dataframe tbody tr th {\n",
       "        vertical-align: top;\n",
       "    }\n",
       "\n",
       "    .dataframe thead th {\n",
       "        text-align: right;\n",
       "    }\n",
       "</style>\n",
       "<table border=\"1\" class=\"dataframe\">\n",
       "  <thead>\n",
       "    <tr style=\"text-align: right;\">\n",
       "      <th></th>\n",
       "      <th>TenantId</th>\n",
       "      <th>TimeGenerated [UTC]</th>\n",
       "      <th>IncidentName</th>\n",
       "      <th>Title</th>\n",
       "      <th>Description</th>\n",
       "      <th>Severity</th>\n",
       "      <th>Status</th>\n",
       "      <th>Classification</th>\n",
       "      <th>ClassificationComment</th>\n",
       "      <th>ClassificationReason</th>\n",
       "      <th>...</th>\n",
       "      <th>AlertIds</th>\n",
       "      <th>BookmarkIds</th>\n",
       "      <th>Comments</th>\n",
       "      <th>Tasks</th>\n",
       "      <th>Labels</th>\n",
       "      <th>IncidentUrl</th>\n",
       "      <th>AdditionalData</th>\n",
       "      <th>ModifiedBy</th>\n",
       "      <th>SourceSystem</th>\n",
       "      <th>Type</th>\n",
       "    </tr>\n",
       "  </thead>\n",
       "  <tbody>\n",
       "    <tr>\n",
       "      <th>769</th>\n",
       "      <td>e34d562e-ef12-4c4e-9bc0-7c6ae357c015</td>\n",
       "      <td>2024-07-12 22:41:40.978</td>\n",
       "      <td>037c9652-18db-49ab-9b7d-9d8313408909</td>\n",
       "      <td>Multi-stage incident involving Execution &amp; Dis...</td>\n",
       "      <td>NaN</td>\n",
       "      <td>Informational</td>\n",
       "      <td>Active</td>\n",
       "      <td>NaN</td>\n",
       "      <td>NaN</td>\n",
       "      <td>NaN</td>\n",
       "      <td>...</td>\n",
       "      <td>[\"b1a0fd16-05e4-7bd1-5b5b-1baf8c63d8e0\",\"b67ce...</td>\n",
       "      <td>[]</td>\n",
       "      <td>[{\"message\":\"config\",\"createdTimeUtc\":\"2024-06...</td>\n",
       "      <td>[]</td>\n",
       "      <td>[{\"labelName\":\"Backdoor\",\"labelType\":\"User\"},{...</td>\n",
       "      <td>https://portal.azure.com/#asset/Microsoft_Azur...</td>\n",
       "      <td>{\"alertsCount\":11,\"bookmarksCount\":0,\"comments...</td>\n",
       "      <td>External application - Mimik Emails - AlpineSk...</td>\n",
       "      <td>Azure</td>\n",
       "      <td>SecurityIncident</td>\n",
       "    </tr>\n",
       "    <tr>\n",
       "      <th>583</th>\n",
       "      <td>e34d562e-ef12-4c4e-9bc0-7c6ae357c015</td>\n",
       "      <td>2024-08-01 12:07:27.002</td>\n",
       "      <td>11ea298e-e20e-404b-b5ca-f7276c94de7c</td>\n",
       "      <td>Multi-stage incident involving Defense evasion...</td>\n",
       "      <td>NaN</td>\n",
       "      <td>Medium</td>\n",
       "      <td>Closed</td>\n",
       "      <td>Undetermined</td>\n",
       "      <td>NaN</td>\n",
       "      <td>NaN</td>\n",
       "      <td>...</td>\n",
       "      <td>[\"197c2262-2cd9-4ca0-4c33-add856f8af63\",\"d368a...</td>\n",
       "      <td>[]</td>\n",
       "      <td>[{\"message\":\"Fileless demo\",\"createdTimeUtc\":\"...</td>\n",
       "      <td>[]</td>\n",
       "      <td>[{\"labelName\":\"Fileless\",\"labelType\":\"User\"},{...</td>\n",
       "      <td>https://portal.azure.com/#asset/Microsoft_Azur...</td>\n",
       "      <td>{\"alertsCount\":4,\"bookmarksCount\":0,\"commentsC...</td>\n",
       "      <td>u101@a.alpineskihouse.co</td>\n",
       "      <td>Azure</td>\n",
       "      <td>SecurityIncident</td>\n",
       "    </tr>\n",
       "  </tbody>\n",
       "</table>\n",
       "<p>2 rows × 31 columns</p>\n",
       "</div>"
      ],
      "text/plain": [
       "                                 TenantId     TimeGenerated [UTC]  \\\n",
       "769  e34d562e-ef12-4c4e-9bc0-7c6ae357c015 2024-07-12 22:41:40.978   \n",
       "583  e34d562e-ef12-4c4e-9bc0-7c6ae357c015 2024-08-01 12:07:27.002   \n",
       "\n",
       "                             IncidentName  \\\n",
       "769  037c9652-18db-49ab-9b7d-9d8313408909   \n",
       "583  11ea298e-e20e-404b-b5ca-f7276c94de7c   \n",
       "\n",
       "                                                 Title  Description  \\\n",
       "769  Multi-stage incident involving Execution & Dis...          NaN   \n",
       "583  Multi-stage incident involving Defense evasion...          NaN   \n",
       "\n",
       "          Severity  Status Classification  ClassificationComment  \\\n",
       "769  Informational  Active            NaN                    NaN   \n",
       "583         Medium  Closed   Undetermined                    NaN   \n",
       "\n",
       "     ClassificationReason  ...  \\\n",
       "769                   NaN  ...   \n",
       "583                   NaN  ...   \n",
       "\n",
       "                                              AlertIds BookmarkIds  \\\n",
       "769  [\"b1a0fd16-05e4-7bd1-5b5b-1baf8c63d8e0\",\"b67ce...          []   \n",
       "583  [\"197c2262-2cd9-4ca0-4c33-add856f8af63\",\"d368a...          []   \n",
       "\n",
       "                                              Comments Tasks  \\\n",
       "769  [{\"message\":\"config\",\"createdTimeUtc\":\"2024-06...    []   \n",
       "583  [{\"message\":\"Fileless demo\",\"createdTimeUtc\":\"...    []   \n",
       "\n",
       "                                                Labels  \\\n",
       "769  [{\"labelName\":\"Backdoor\",\"labelType\":\"User\"},{...   \n",
       "583  [{\"labelName\":\"Fileless\",\"labelType\":\"User\"},{...   \n",
       "\n",
       "                                           IncidentUrl  \\\n",
       "769  https://portal.azure.com/#asset/Microsoft_Azur...   \n",
       "583  https://portal.azure.com/#asset/Microsoft_Azur...   \n",
       "\n",
       "                                        AdditionalData  \\\n",
       "769  {\"alertsCount\":11,\"bookmarksCount\":0,\"comments...   \n",
       "583  {\"alertsCount\":4,\"bookmarksCount\":0,\"commentsC...   \n",
       "\n",
       "                                            ModifiedBy SourceSystem  \\\n",
       "769  External application - Mimik Emails - AlpineSk...        Azure   \n",
       "583                           u101@a.alpineskihouse.co        Azure   \n",
       "\n",
       "                 Type  \n",
       "769  SecurityIncident  \n",
       "583  SecurityIncident  \n",
       "\n",
       "[2 rows x 31 columns]"
      ]
     },
     "execution_count": 75,
     "metadata": {},
     "output_type": "execute_result"
    }
   ],
   "source": [
    "missing_titles"
   ]
  },
  {
   "cell_type": "code",
   "execution_count": 69,
   "metadata": {},
   "outputs": [
    {
     "data": {
      "text/plain": [
       "13"
      ]
     },
     "execution_count": 69,
     "metadata": {},
     "output_type": "execute_result"
    }
   ],
   "source": [
    "len(latest_incidents)"
   ]
  },
  {
   "cell_type": "code",
   "execution_count": 60,
   "metadata": {},
   "outputs": [
    {
     "name": "stdout",
     "output_type": "stream",
     "text": [
      "Num 38, Title:Multi-stage incident involving Defense evasion & Discovery on one endpoint 6/26/2024, 3:49:16.784 PM, 4\n",
      "3\n",
      "Num 5, Title:Human-operated ransomware attack was launched from a compromised asset (attack disruption) 6/20/2024, 8:51:07.052 AM, 71\n",
      "0\n",
      "Num 5 has no alerts\n",
      "Num 3, Title:BEC financial fraud attack was launched from a compromised account (attack disruption) 6/4/2024, 12:21:22.478 PM, 5\n",
      "0\n",
      "Num 3 has no alerts\n",
      "Num 39, Title:Multi-stage incident involving Privilege escalation on multiple endpoints reported by multiple sources 6/27/2024, 2:25:58.353 PM, 48\n",
      "32\n",
      "Num 34, Title:Multi-stage incident involving Execution & Discovery on one endpoint 6/26/2024, 11:57:25.302 AM, 11\n",
      "10\n",
      "Num 55, Title:Multi-stage incident involving Initial access & Lateral movement on multiple endpoints reported by multiple sources 7/1/2024, 3:01:28.000 PM, 28\n",
      "22\n",
      "Num 122, Title:Multi-stage incident involving Initial access & Discovery on one endpoint 7/13/2024, 9:17:30.965 AM, 9\n",
      "8\n",
      "Num 134, Title:BEC financial fraud attack was launched from a compromised account (attack disruption) 7/17/2024, 10:49:35.108 AM, 9\n",
      "9\n",
      "Num 166, Title:SAP financial process manipulation (attack disruption) 7/22/2024, 8:18:18.418 AM, 11\n",
      "8\n",
      "Num 175, Title:Multi-stage incident involving Initial access & Lateral movement on multiple endpoints reported by multiple sources 7/23/2024, 12:19:16.000 PM, 33\n",
      "22\n",
      "Num 290, Title:Multi-stage incident involving Privilege escalation on multiple endpoints reported by multiple sources 7/29/2024, 10:32:44.433 AM, 47\n",
      "30\n",
      "Num 322, Title:Multi-stage incident involving Initial access & Collection on multiple endpoints reported by multiple sources 8/1/2024, 12:26:22.000 PM, 9\n",
      "9\n",
      "Num 406, Title:Multi-stage incident involving Initial access & Lateral movement on multiple endpoints reported by multiple sources 8/6/2024, 5:15:43.000 PM, 25\n",
      "19\n",
      "{'Suspicious remote activity', 'A process was injected with potentially malicious code', 'Suspicious System Hardware Discovery', 'ADFS private key extraction attempt', 'Suspected AD FS DKM key read', 'System executable renamed and launched', 'Suspicious service creation', 'Suspicious service registration', 'User accessed a link in an email subsequently quarantined by ZAP', 'Activity from a Tor IP address', 'Possible attempt to steal credentials', 'Sensitive credential memory read', 'Suspicious access to LSASS service', 'Email messages containing malicious URL removed after delivery\\u200b', 'Ongoing hands-on-keyboard attack via Impacket toolkit', 'Suspected DCSync attack (replication of directory services)', 'A potentially malicious URL click was detected', 'Suspicious LDAP query', 'Suspicious Task Scheduler activity', 'Attempt to hide use of dual-purpose tool', 'A malicious PowerShell Cmdlet was invoked on the machine', 'Suspicious sequence of exploration activities'}\n",
      "{'Suspicious remote activity', 'A process was injected with potentially malicious code', 'Suspicious System Hardware Discovery', 'ADFS private key extraction attempt', 'Suspected AD FS DKM key read', 'System executable renamed and launched', 'Suspicious service creation', 'Suspicious service registration', 'User accessed a link in an email subsequently quarantined by ZAP', 'Sensitive credential memory read', 'Ongoing hands-on-keyboard attack via Impacket toolkit', 'Suspected DCSync attack (replication of directory services)', 'A potentially malicious URL click was detected', 'Suspicious LDAP query', 'Suspicious Task Scheduler activity', 'A malicious PowerShell Cmdlet was invoked on the machine', 'Email messages containing malicious URL removed after delivery\\u200b', 'Attempt to hide use of dual-purpose tool', 'Suspicious sequence of exploration activities'}\n",
      "Num 406 and 175 have common alerts\n"
     ]
    }
   ],
   "source": [
    "def get_alert_titles(alert_ids: list):\n",
    "    alert_titles = []\n",
    "    for alert_id in alert_ids:\n",
    "        alert = security_alert[security_alert['SystemAlertId'] == alert_id]\n",
    "        if len(alert) > 0:\n",
    "            alert_titles.append(alert.iloc[0]['AlertName'])\n",
    "    return alert_titles\n",
    "\n",
    "\n",
    "existing_alerts = []\n",
    "for i, incident in latest_incidents.iterrows():\n",
    "    print(f\"Num {incident['IncidentNumber']}, Title:{incident['Title']} {incident['FirstActivityTime [UTC]']}, {len(json.loads(incident['AlertIds']))}\")\n",
    "    atitles = set(get_alert_titles(json.loads(incident['AlertIds'])))\n",
    "    print(len(atitles))\n",
    "    if len(atitles) == 0:\n",
    "        print(f\"Num {incident['IncidentNumber']} has no alerts\")\n",
    "        continue\n",
    "    for inum, patitiles in existing_alerts:\n",
    "        inter = atitles.intersection(patitiles)\n",
    "        if len(inter) == min(len(atitles), len(patitiles)):\n",
    "            print(patitiles)\n",
    "            print(atitles)\n",
    "            print(f\"Num {incident['IncidentNumber']} and {inum} have common alerts\")\n",
    "    \n",
    "    existing_alerts.append((incident['IncidentNumber'], atitles))\n",
    "        "
   ]
  },
  {
   "cell_type": "code",
   "execution_count": 37,
   "metadata": {},
   "outputs": [
    {
     "name": "stdout",
     "output_type": "stream",
     "text": [
      "6/26/2024, 3:49:16.784 PM\n",
      "6/26/2024, 3:49:16.784 PM\n",
      "6/26/2024, 3:49:16.784 PM\n",
      "6/26/2024, 3:49:16.784 PM\n",
      "6/26/2024, 3:49:16.784 PM\n",
      "6/26/2024, 3:49:16.784 PM\n",
      "6/26/2024, 3:49:16.784 PM\n",
      "6/26/2024, 3:49:16.784 PM\n",
      "6/26/2024, 3:49:16.784 PM\n",
      "6/26/2024, 3:49:16.784 PM\n",
      "6/26/2024, 3:49:16.784 PM\n",
      "6/26/2024, 3:49:16.784 PM\n",
      "6/26/2024, 3:49:16.784 PM\n",
      "6/26/2024, 3:49:16.784 PM\n",
      "6/26/2024, 3:49:16.784 PM\n",
      "6/26/2024, 3:49:16.784 PM\n",
      "6/26/2024, 3:49:16.784 PM\n",
      "6/26/2024, 3:49:16.784 PM\n",
      "6/26/2024, 3:49:16.784 PM\n",
      "6/26/2024, 3:49:16.784 PM\n",
      "6/26/2024, 3:49:16.784 PM\n",
      "6/26/2024, 3:49:16.784 PM\n",
      "6/26/2024, 3:49:16.784 PM\n",
      "6/26/2024, 3:49:16.784 PM\n",
      "6/26/2024, 3:49:16.784 PM\n",
      "6/26/2024, 3:49:16.784 PM\n",
      "6/26/2024, 3:49:16.784 PM\n",
      "6/26/2024, 3:49:16.784 PM\n",
      "6/26/2024, 3:49:16.784 PM\n",
      "6/26/2024, 3:49:16.784 PM\n"
     ]
    }
   ],
   "source": [
    "# unique incident numbers\n",
    "incident_numbers = filtered_incidents['IncidentNumber'].unique()\n",
    "\n",
    "# get all incidents with the first incident number\n",
    "first_incident = filtered_incidents[filtered_incidents['IncidentNumber'] == incident_numbers[0]]\n",
    "for _, f  in first_incident.iterrows():\n",
    "    print(f['FirstActivityTime [UTC]'])"
   ]
  },
  {
   "cell_type": "code",
   "execution_count": 32,
   "metadata": {},
   "outputs": [
    {
     "name": "stdout",
     "output_type": "stream",
     "text": [
      "Incident number 3: 6/4/2024, 12:21:22.478 PM, 5\n",
      "Incident number 5: 6/20/2024, 8:51:07.052 AM, 71\n",
      "Incident number 34: 6/26/2024, 11:57:25.302 AM, 11\n",
      "Incident number 38: 6/26/2024, 3:49:16.784 PM, 4\n",
      "Incident number 39: 6/27/2024, 2:25:58.353 PM, 48\n",
      "Incident number 55: 7/2/2024, 9:45:50.756 AM, 22\n",
      "Incident number 122: 7/13/2024, 9:17:30.965 AM, 9\n",
      "Incident number 134: 7/17/2024, 10:49:35.108 AM, 6\n",
      "Incident number 166: 7/22/2024, 8:18:18.418 AM, 9\n",
      "Incident number 175: 7/23/2024, 12:19:16.000 PM, 31\n",
      "Incident number 290: 7/29/2024, 10:32:44.433 AM, 46\n",
      "Incident number 322: 8/1/2024, 12:26:22.000 PM, 9\n",
      "Incident number 406: 8/6/2024, 5:15:43.000 PM, 22\n"
     ]
    }
   ],
   "source": [
    "\n",
    "# get first entry from each unique incident number\n",
    "unique_incidents = filtered_incidents.groupby('IncidentNumber').first()\n",
    "\n",
    "# back to dataframe\n",
    "unique_incidents = unique_incidents.reset_index()\n",
    "\n",
    "for i, incident in unique_incidents.iterrows():\n",
    "    print(f\"Incident number {incident['IncidentNumber']}: {incident['FirstActivityTime [UTC]']}, {len(json.loads(incident['AlertIds']))}\")"
   ]
  },
  {
   "cell_type": "code",
   "execution_count": 33,
   "metadata": {},
   "outputs": [
    {
     "name": "stdout",
     "output_type": "stream",
     "text": [
      "Incident number 3: 6/4/2024, 12:21:22.478 PM, 5\n",
      "Incident number 5: 6/20/2024, 8:51:07.052 AM, 71\n",
      "Incident number 34: 6/26/2024, 11:57:25.302 AM, 11\n",
      "Incident number 38: 6/26/2024, 3:49:16.784 PM, 4\n",
      "Incident number 39: 6/27/2024, 2:25:58.353 PM, 48\n",
      "Incident number 55: 7/1/2024, 3:01:28.000 PM, 28\n",
      "Incident number 122: 7/13/2024, 9:17:30.965 AM, 9\n",
      "Incident number 134: 7/17/2024, 10:49:35.108 AM, 9\n",
      "Incident number 166: 7/22/2024, 8:18:18.418 AM, 11\n",
      "Incident number 175: 7/23/2024, 12:19:16.000 PM, 33\n",
      "Incident number 290: 7/29/2024, 10:32:44.433 AM, 47\n",
      "Incident number 322: 8/1/2024, 12:26:22.000 PM, 9\n",
      "Incident number 406: 8/6/2024, 5:15:43.000 PM, 25\n"
     ]
    }
   ],
   "source": [
    "# unique incident numbers\n",
    "incident_numbers = filtered_incidents['IncidentNumber'].unique()\n",
    "# get first entry from each unique incident number\n",
    "unique_incidents = filtered_incidents.groupby('IncidentNumber').last()\n",
    "\n",
    "# back to dataframe\n",
    "unique_incidents = unique_incidents.reset_index()\n",
    "\n",
    "for i, incident in unique_incidents.iterrows():\n",
    "    print(f\"Incident number {incident['IncidentNumber']}: {incident['FirstActivityTime [UTC]']}, {len(json.loads(incident['AlertIds']))}\")"
   ]
  },
  {
   "cell_type": "code",
   "execution_count": 16,
   "metadata": {},
   "outputs": [],
   "source": [
    "filtered_incidents = pd.DataFrame(filtered_incidents)\n",
    "filtered_incidents['IncidentNumber'].value_counts()\n",
    "# get unique incident numbers in a list\n",
    "incident_numbers = filtered_incidents['IncidentNumber'].unique()\n",
    "\n",
    "# get incident with number 134\n",
    "incident_134 = filtered_incidents[filtered_incidents['IncidentNumber'] == 134]"
   ]
  },
  {
   "cell_type": "code",
   "execution_count": 20,
   "metadata": {},
   "outputs": [
    {
     "name": "stdout",
     "output_type": "stream",
     "text": [
      "Incident number 3: BEC financial fraud attack was launched from a compromised account (attack disruption)\n",
      "Incident number 5: Human-operated ransomware attack was launched from a compromised asset (attack disruption)\n",
      "Incident number 34: Multi-stage incident involving Execution & Discovery on one endpoint\n",
      "Incident number 38: Multi-stage incident involving Defense evasion & Discovery on one endpoint\n",
      "Incident number 39: Multi-stage incident involving Privilege escalation on multiple endpoints reported by multiple sources\n",
      "Incident number 55: Multi-stage incident involving Initial access & Lateral movement on multiple endpoints reported by multiple sources\n",
      "Incident number 122: Multi-stage incident involving Initial access & Discovery on one endpoint\n",
      "Incident number 134: BEC financial fraud attack was launched from a compromised account (attack disruption)\n",
      "Incident number 166: SAP financial process manipulation (attack disruption)\n",
      "Incident number 175: Multi-stage incident involving Initial access & Lateral movement on multiple endpoints reported by multiple sources\n",
      "Incident number 290: Multi-stage incident involving Privilege escalation on multiple endpoints reported by multiple sources\n",
      "Incident number 322: Multi-stage incident involving Initial access & Collection on multiple endpoints reported by multiple sources\n",
      "Incident number 406: Multi-stage incident involving Initial access & Lateral movement on multiple endpoints reported by multiple sources\n"
     ]
    }
   ],
   "source": [
    "incident_numbers\n",
    "# get title of incident with different incident numbers\n",
    "incident_titles = filtered_incidents.groupby('IncidentNumber').last()\n",
    "for incident_number, title in incident_titles.items():\n",
    "    print(f\"Incident number {incident_number}: {title}\")"
   ]
  },
  {
   "cell_type": "code",
   "execution_count": null,
   "metadata": {},
   "outputs": [],
   "source": []
  },
  {
   "cell_type": "code",
   "execution_count": 21,
   "metadata": {},
   "outputs": [
    {
     "data": {
      "text/plain": [
       "13"
      ]
     },
     "execution_count": 21,
     "metadata": {},
     "output_type": "execute_result"
    }
   ],
   "source": [
    "unique_incidents = filtered_incidents.drop_duplicates(subset='IncidentNumber')\n",
    "len(unique_incidents)"
   ]
  },
  {
   "cell_type": "code",
   "execution_count": 24,
   "metadata": {},
   "outputs": [
    {
     "data": {
      "text/plain": [
       "'6/26/2024, 3:49:16.784 PM'"
      ]
     },
     "execution_count": 24,
     "metadata": {},
     "output_type": "execute_result"
    }
   ],
   "source": [
    "unique_incidents.iloc[0]['FirstActivityTime [UTC]']"
   ]
  },
  {
   "cell_type": "code",
   "execution_count": 15,
   "metadata": {},
   "outputs": [
    {
     "name": "stdout",
     "output_type": "stream",
     "text": [
      "2024-07-17 22:41:41.561000 6\n",
      "2024-07-18 14:01:51.084000 7\n",
      "2024-07-18 14:46:52.765000 8\n",
      "2024-07-18 14:57:07.462000 9\n",
      "2024-07-19 01:12:43.294000 9\n",
      "2024-07-19 22:42:11.510000 9\n",
      "2024-07-20 22:37:12.209000 9\n",
      "2024-07-21 22:37:24.365000 9\n",
      "2024-07-22 22:36:59.927000 9\n",
      "2024-07-23 22:36:35.059000 9\n",
      "2024-07-24 11:06:31.350000 9\n",
      "2024-07-24 11:21:48.743000 9\n",
      "2024-07-24 22:36:50.607000 9\n",
      "2024-07-25 22:36:47.024000 9\n",
      "2024-07-26 22:37:08.017000 9\n",
      "2024-07-27 22:37:15.390000 9\n",
      "2024-07-28 22:36:24.825000 9\n",
      "2024-07-29 22:36:50.420000 9\n",
      "2024-07-30 12:57:02.534000 9\n",
      "2024-07-30 22:41:39.505000 9\n",
      "2024-07-31 14:01:28.448000 9\n",
      "2024-07-31 14:07:08.269000 9\n",
      "2024-07-31 22:42:18.861000 9\n",
      "2024-08-01 22:41:59.963000 9\n",
      "2024-08-02 22:41:43.924000 9\n",
      "2024-08-03 22:42:28.764000 9\n",
      "2024-08-04 22:41:48.923000 9\n",
      "2024-08-05 14:37:13.098000 9\n",
      "2024-08-05 22:44:20.728000 9\n",
      "2024-08-06 22:41:32.136000 9\n",
      "2024-08-07 22:41:30.285000 9\n",
      "2024-08-08 22:41:25.253000 9\n",
      "2024-08-09 22:41:38.702000 9\n",
      "2024-08-10 22:41:50.867000 9\n",
      "2024-08-11 22:41:44.077000 9\n",
      "2024-08-12 22:41:34.324000 9\n",
      "2024-08-13 22:39:25.318000 9\n",
      "2024-08-14 22:40:25.135000 9\n",
      "2024-08-15 22:40:10.816000 9\n",
      "2024-08-16 22:40:03.168000 9\n"
     ]
    }
   ],
   "source": [
    "# iter and print time gen, number of alertids\n",
    "for i, incident in incident_134.iterrows():\n",
    "    print(incident['TimeGenerated [UTC]'], len(json.loads(incident['AlertIds'])))"
   ]
  },
  {
   "cell_type": "code",
   "execution_count": null,
   "metadata": {},
   "outputs": [],
   "source": []
  }
 ],
 "metadata": {
  "kernelspec": {
   "display_name": "secbench",
   "language": "python",
   "name": "python3"
  },
  "language_info": {
   "codemirror_mode": {
    "name": "ipython",
    "version": 3
   },
   "file_extension": ".py",
   "mimetype": "text/x-python",
   "name": "python",
   "nbconvert_exporter": "python",
   "pygments_lexer": "ipython3",
   "version": "3.11.9"
  }
 },
 "nbformat": 4,
 "nbformat_minor": 2
}
