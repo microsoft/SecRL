{
  "cells": [
    {
      "cell_type": "code",
      "execution_count": 1,
      "metadata": {
        "jupyter": {
          "outputs_hidden": false,
          "source_hidden": false
        },
        "nteract": {
          "transient": {
            "deleting": false
          }
        }
      },
      "outputs": [
        {
          "data": {
            "application/vnd.livy.statement-meta+json": {
              "execution_finish_time": "2023-10-09T19:11:17.9694417Z",
              "execution_start_time": "2023-10-09T19:11:17.969219Z",
              "livy_statement_state": "available",
              "parent_msg_id": "31ee3900-9c5f-4641-b04f-d502df4a506d",
              "queued_time": "2023-10-09T19:10:16.8357543Z",
              "session_id": "154",
              "session_start_time": "2023-10-09T19:10:17.0072951Z",
              "spark_jobs": null,
              "spark_pool": null,
              "state": "finished",
              "statement_id": -1
            },
            "text/plain": [
              "StatementMeta(, 154, -1, Finished, Available)"
            ]
          },
          "metadata": {},
          "output_type": "display_data"
        }
      ],
      "source": [
        "%%configure -f\n",
        "{\n",
        "    \"conf\":{\n",
        "        \"spark.driver.maxResultSize\":\"50g\",\n",
        "        \"spark.rpc.message.maxSize\":\"1024\",\n",
        "        \"spark.kryoserializer.buffer.max\":\"512m\"\n",
        "    }\n",
        "}"
      ]
    },
    {
      "cell_type": "code",
      "execution_count": 2,
      "metadata": {
        "jupyter": {
          "outputs_hidden": false,
          "source_hidden": false
        },
        "nteract": {
          "transient": {
            "deleting": false
          }
        },
        "tags": [
          "parameters"
        ]
      },
      "outputs": [
        {
          "data": {
            "application/vnd.livy.statement-meta+json": {
              "execution_finish_time": "2023-10-09T19:11:42.4804792Z",
              "execution_start_time": "2023-10-09T19:11:42.2948219Z",
              "livy_statement_state": "available",
              "parent_msg_id": "9765036a-b7db-45d0-827c-8dc139bba077",
              "queued_time": "2023-10-09T19:10:16.8367841Z",
              "session_id": "154",
              "session_start_time": null,
              "spark_jobs": null,
              "spark_pool": "maxpiasevoliL",
              "state": "finished",
              "statement_id": 2
            },
            "text/plain": [
              "StatementMeta(maxpiasevoliL, 154, 2, Finished, Available)"
            ]
          },
          "metadata": {},
          "output_type": "display_data"
        }
      ],
      "source": [
        "DateSliceEnd = \"\""
      ]
    },
    {
      "cell_type": "code",
      "execution_count": 3,
      "metadata": {},
      "outputs": [
        {
          "data": {
            "application/vnd.livy.statement-meta+json": {
              "execution_finish_time": "2023-10-09T19:11:44.5949005Z",
              "execution_start_time": "2023-10-09T19:11:42.701911Z",
              "livy_statement_state": "available",
              "parent_msg_id": "0e30b828-0d7d-4cc8-9ae1-515723257922",
              "queued_time": "2023-10-09T19:10:16.8378816Z",
              "session_id": "154",
              "session_start_time": null,
              "spark_jobs": null,
              "spark_pool": "maxpiasevoliL",
              "state": "finished",
              "statement_id": 3
            },
            "text/plain": [
              "StatementMeta(maxpiasevoliL, 154, 3, Finished, Available)"
            ]
          },
          "metadata": {},
          "output_type": "display_data"
        }
      ],
      "source": [
        "import datetime as dt, json, pickle\n",
        "import pyspark.sql.functions as f\n",
        "from pyspark.sql.window import Window\n",
        "from pyspark.sql.types import ArrayType, StringType, StructField, StructType, IntegerType, MapType, Row\n",
        "from pyspark.ml.feature import VectorAssembler\n",
        "import numpy as np"
      ]
    },
    {
      "cell_type": "code",
      "execution_count": 4,
      "metadata": {
        "jupyter": {
          "outputs_hidden": false,
          "source_hidden": false
        },
        "nteract": {
          "transient": {
            "deleting": false
          }
        }
      },
      "outputs": [
        {
          "data": {
            "application/vnd.livy.statement-meta+json": {
              "execution_finish_time": "2023-10-09T19:11:44.9575274Z",
              "execution_start_time": "2023-10-09T19:11:44.7858861Z",
              "livy_statement_state": "available",
              "parent_msg_id": "e81c1c23-b302-41d7-affc-64a725271987",
              "queued_time": "2023-10-09T19:10:16.8390857Z",
              "session_id": "154",
              "session_start_time": null,
              "spark_jobs": null,
              "spark_pool": "maxpiasevoliL",
              "state": "finished",
              "statement_id": 4
            },
            "text/plain": [
              "StatementMeta(maxpiasevoliL, 154, 4, Finished, Available)"
            ]
          },
          "metadata": {},
          "output_type": "display_data"
        },
        {
          "name": "stdout",
          "output_type": "stream",
          "text": [
            "Start processing timestamp:  2023-09-18 00:00:00\n",
            "End processing timestamp:  2023-10-09 00:00:00\n"
          ]
        }
      ],
      "source": [
        "date = DateSliceEnd.split('T')[0]\n",
        "end_processing_timestamp = dt.datetime.strptime(date, '%Y-%m-%d')\n",
        "start_processing_timestamp = end_processing_timestamp - dt.timedelta(days=3)\n",
        "\n",
        "print('Start processing timestamp: ', start_processing_timestamp)\n",
        "print('End processing timestamp: ', end_processing_timestamp)"
      ]
    },
    {
      "cell_type": "code",
      "execution_count": 5,
      "metadata": {
        "jupyter": {
          "outputs_hidden": false,
          "source_hidden": false
        },
        "nteract": {
          "transient": {
            "deleting": false
          }
        }
      },
      "outputs": [
        {
          "data": {
            "application/vnd.livy.statement-meta+json": {
              "execution_finish_time": "2023-10-09T19:11:45.3446393Z",
              "execution_start_time": "2023-10-09T19:11:45.165709Z",
              "livy_statement_state": "available",
              "parent_msg_id": "207491a3-191b-42a5-b2f5-d4e64259baa0",
              "queued_time": "2023-10-09T19:10:16.8408316Z",
              "session_id": "154",
              "session_start_time": null,
              "spark_jobs": null,
              "spark_pool": "maxpiasevoliL",
              "state": "finished",
              "statement_id": 5
            },
            "text/plain": [
              "StatementMeta(maxpiasevoliL, 154, 5, Finished, Available)"
            ]
          },
          "metadata": {},
          "output_type": "display_data"
        },
        {
          "name": "stdout",
          "output_type": "stream",
          "text": [
            "output path:  abfss://skg@rdamlapeussa.dfs.core.windows.net/output_data/tenant_graph_v1_all_tenants/all_data/2023-10-09\n"
          ]
        }
      ],
      "source": [
        "output_path = \"abfss://skg@rdamlapeussa.dfs.core.windows.net/output_data/tenant_graph_v1_all_tenants\"\n",
        "\n",
        "output_path = output_path + \"/all_data/\" + date\n",
        "drop_alert_type_dups_on_same_entity = False\n",
        "\n",
        "print('output path: ', output_path)"
      ]
    },
    {
      "cell_type": "code",
      "execution_count": 6,
      "metadata": {
        "jupyter": {
          "outputs_hidden": false,
          "source_hidden": false
        },
        "nteract": {
          "transient": {
            "deleting": false
          }
        }
      },
      "outputs": [
        {
          "data": {
            "application/vnd.livy.statement-meta+json": {
              "execution_finish_time": "2023-10-09T19:11:50.9470034Z",
              "execution_start_time": "2023-10-09T19:11:45.5332782Z",
              "livy_statement_state": "available",
              "parent_msg_id": "75ad12c7-1a78-43da-993b-1724657de299",
              "queued_time": "2023-10-09T19:10:16.8428084Z",
              "session_id": "154",
              "session_start_time": null,
              "spark_jobs": null,
              "spark_pool": "maxpiasevoliL",
              "state": "finished",
              "statement_id": 6
            },
            "text/plain": [
              "StatementMeta(maxpiasevoliL, 154, 6, Finished, Available)"
            ]
          },
          "metadata": {},
          "output_type": "display_data"
        }
      ],
      "source": [
        "kusto_service_name = 'eoaeusprod_eastus'\n",
        "\n",
        "def get_incident_data():\n",
        "    '''\n",
        "    Get classified security incidents\n",
        "    '''\n",
        "\n",
        "    query = f\"\"\"SecurityIncident\n",
        "    | where CreatedTime between(todatetime('{start_processing_timestamp.strftime('%Y-%m-%d')}') .. todatetime('{end_processing_timestamp.strftime('%Y-%m-%d')}'))\n",
        "    | extend IsFusionIncident = toint(Description has \"aka.ms/SentinelFusion\" or Description has \"Fusion has identified\")\n",
        "    | project WorkspaceId, IncidentNumber, IncidentName, IsFusionIncident, Severity, Title, ProviderName, AlertIds, CreatedTime, LastModifiedTime, Classification, ClassificationReason, ClosedTime, WorkspaceTenantId, IncidentDescription=Description\n",
        "    \"\"\"\n",
        "        \n",
        "    incidents_df = spark.read \\\n",
        "        .format(\"com.microsoft.kusto.spark.synapse.datasource\") \\\n",
        "        .option(\"spark.synapse.linkedService\", kusto_service_name) \\\n",
        "        .option(\"kustoDatabase\", \"SecurityInsights\") \\\n",
        "        .option(\"kustoQuery\", query) \\\n",
        "        .load()\n",
        "\n",
        "    return incidents_df\n",
        "\n",
        "incident_data = get_incident_data()"
      ]
    },
    {
      "cell_type": "code",
      "execution_count": 7,
      "metadata": {
        "jupyter": {
          "outputs_hidden": false,
          "source_hidden": false
        },
        "nteract": {
          "transient": {
            "deleting": false
          }
        }
      },
      "outputs": [
        {
          "data": {
            "application/vnd.livy.statement-meta+json": {
              "execution_finish_time": "2023-10-09T19:11:52.305716Z",
              "execution_start_time": "2023-10-09T19:11:51.1492127Z",
              "livy_statement_state": "available",
              "parent_msg_id": "5ce08f3c-66e4-4c21-87e0-0b585fad92f9",
              "queued_time": "2023-10-09T19:10:16.8451503Z",
              "session_id": "154",
              "session_start_time": null,
              "spark_jobs": null,
              "spark_pool": "maxpiasevoliL",
              "state": "finished",
              "statement_id": 7
            },
            "text/plain": [
              "StatementMeta(maxpiasevoliL, 154, 7, Finished, Available)"
            ]
          },
          "metadata": {},
          "output_type": "display_data"
        }
      ],
      "source": [
        "kusto_service_name = 'eoaeusprod_eastus'\n",
        "\n",
        "def get_alert_data():\n",
        "    '''\n",
        "    Get security alerts\n",
        "    '''\n",
        "\n",
        "    query = f\"\"\"SecurityAlert\n",
        "    | where StartTime between(todatetime('{start_processing_timestamp.strftime('%Y-%m-%d')}') .. todatetime('{end_processing_timestamp.strftime('%Y-%m-%d')}'))\n",
        "    | project SystemAlertId, Entities, AlertProviderName=ProviderName, AlertDisplayName=DisplayName, AlertSeverity, StartTime, WorkspaceId, Tactics, Techniques, WorkspaceTenantId, AlertDescription=Description\n",
        "    \"\"\"\n",
        "        \n",
        "    alerts_df = spark.read \\\n",
        "        .format(\"com.microsoft.kusto.spark.synapse.datasource\") \\\n",
        "        .option(\"spark.synapse.linkedService\", kusto_service_name) \\\n",
        "        .option(\"kustoDatabase\", \"SecurityInsights\") \\\n",
        "        .option(\"kustoQuery\", query) \\\n",
        "        .load()\n",
        "\n",
        "    return alerts_df\n",
        "\n",
        "alert_data = get_alert_data()"
      ]
    },
    {
      "cell_type": "code",
      "execution_count": 8,
      "metadata": {
        "jupyter": {
          "outputs_hidden": false,
          "source_hidden": false
        },
        "nteract": {
          "transient": {
            "deleting": false
          }
        }
      },
      "outputs": [
        {
          "data": {
            "application/vnd.livy.statement-meta+json": {
              "execution_finish_time": "2023-10-09T19:13:05.555342Z",
              "execution_start_time": "2023-10-09T19:11:52.5124926Z",
              "livy_statement_state": "available",
              "parent_msg_id": "3f9957e3-7dce-4813-8b91-15e393359859",
              "queued_time": "2023-10-09T19:10:16.8478037Z",
              "session_id": "154",
              "session_start_time": null,
              "spark_jobs": null,
              "spark_pool": "maxpiasevoliL",
              "state": "finished",
              "statement_id": 8
            },
            "text/plain": [
              "StatementMeta(maxpiasevoliL, 154, 8, Finished, Available)"
            ]
          },
          "metadata": {},
          "output_type": "display_data"
        }
      ],
      "source": [
        "window = Window.partitionBy(\"WorkspaceId\", \"IncidentNumber\").orderBy(f.col(\"LastModifiedTime\").desc())\n",
        "\n",
        "deduped_incident_data = (\n",
        "    incident_data\n",
        "        .withColumn(\"rowNumber\", f.row_number().over(window))\n",
        "        .filter(f.col(\"rowNumber\") == 1)\n",
        "        .drop(\"rowNumber\")\n",
        "        .persist()\n",
        ")"
      ]
    },
    {
      "cell_type": "code",
      "execution_count": 9,
      "metadata": {
        "jupyter": {
          "outputs_hidden": false,
          "source_hidden": false
        },
        "nteract": {
          "transient": {
            "deleting": false
          }
        }
      },
      "outputs": [
        {
          "data": {
            "application/vnd.livy.statement-meta+json": {
              "execution_finish_time": "2023-10-09T19:15:14.5485774Z",
              "execution_start_time": "2023-10-09T19:13:05.7663662Z",
              "livy_statement_state": "available",
              "parent_msg_id": "681da935-6451-4630-8944-76a4c2a6baf9",
              "queued_time": "2023-10-09T19:10:16.8523085Z",
              "session_id": "154",
              "session_start_time": null,
              "spark_jobs": null,
              "spark_pool": "maxpiasevoliL",
              "state": "finished",
              "statement_id": 9
            },
            "text/plain": [
              "StatementMeta(maxpiasevoliL, 154, 9, Finished, Available)"
            ]
          },
          "metadata": {},
          "output_type": "display_data"
        }
      ],
      "source": [
        "window = Window.partitionBy(\"WorkspaceId\", \"SystemAlertId\").orderBy(f.col(\"StartTime\").desc())\n",
        "\n",
        "deduped_alert_data = (\n",
        "    alert_data\n",
        "        .withColumn(\"rowNumber\", f.row_number().over(window))\n",
        "        .filter(f.col(\"rowNumber\") == 1)\n",
        "        .drop(\"rowNumber\")\n",
        "        .persist()\n",
        ")"
      ]
    },
    {
      "cell_type": "code",
      "execution_count": 10,
      "metadata": {
        "jupyter": {
          "outputs_hidden": false,
          "source_hidden": false
        },
        "nteract": {
          "transient": {
            "deleting": false
          }
        }
      },
      "outputs": [
        {
          "data": {
            "application/vnd.livy.statement-meta+json": {
              "execution_finish_time": "2023-10-09T19:15:15.9103092Z",
              "execution_start_time": "2023-10-09T19:15:14.7443581Z",
              "livy_statement_state": "available",
              "parent_msg_id": "4b1d1a7c-0271-4cc8-a9bd-14923cd85578",
              "queued_time": "2023-10-09T19:10:16.8548124Z",
              "session_id": "154",
              "session_start_time": null,
              "spark_jobs": null,
              "spark_pool": "maxpiasevoliL",
              "state": "finished",
              "statement_id": 10
            },
            "text/plain": [
              "StatementMeta(maxpiasevoliL, 154, 10, Finished, Available)"
            ]
          },
          "metadata": {},
          "output_type": "display_data"
        }
      ],
      "source": [
        "incident_node_attributes = (\n",
        "    deduped_incident_data\n",
        "        .withColumn(\"IncidentNodeAttributes\", f.create_map(\n",
        "            f.lit(\"IncidentNumber\"), f.col(\"IncidentNumber\"),\n",
        "            f.lit(\"WorkspaceId\"), f.col(\"WorkspaceId\"),\n",
        "            f.lit(\"TenantId\"), f.col(\"WorkspaceTenantId\"),\n",
        "            f.lit(\"Title\"), f.col(\"Title\"),\n",
        "            f.lit(\"Description\"), f.col(\"IncidentDescription\"),\n",
        "            f.lit(\"Severity\"), f.col(\"Severity\"),\n",
        "            f.lit(\"ProviderName\"), f.col(\"ProviderName\"),\n",
        "            f.lit(\"CreatedTime\"), f.col(\"CreatedTime\"),\n",
        "            f.lit(\"ClosedTime\"), f.col(\"ClosedTime\"),\n",
        "            f.lit(\"LastModifiedTime\"), f.col(\"LastModifiedTime\"),\n",
        "            f.lit(\"TimeToClassificationInMinutes\"), \n",
        "            (\n",
        "                f.coalesce(\n",
        "                    f.col(\"ClosedTime\"), \n",
        "                    f.col(\"CreatedTime\")\n",
        "                ).cast(\"long\") - f.col(\"CreatedTime\").cast(\"long\")\n",
        "            )/60,\n",
        "            f.lit(\"Classification\"), f.coalesce(f.col(\"Classification\"), f.lit(\"NoClassification\")),\n",
        "            f.lit(\"IsFusionIncident\"), ((f.col(\"IncidentDescription\").contains(\"Fusion has identified\")) | (f.col(\"IncidentDescription\").contains(\"https://aka.ms/SentinelFusion\"))).cast(\"string\"),\n",
        "            f.lit(\"node_type\"), f.lit(\"securityincident\")\n",
        "        ))\n",
        "        .withColumn(\"IncidentNodeAttributes\", f.to_json(\"IncidentNodeAttributes\"))\n",
        "        .select(\"WorkspaceId\", \"IncidentName\", \"WorkspaceTenantId\", \"IncidentNodeAttributes\")\n",
        "        .persist()\n",
        ")\n",
        "\n",
        "alert_node_attributes = (\n",
        "    deduped_alert_data\n",
        "        .withColumn(\"AlertNodeAttributes\", f.create_map(\n",
        "            f.lit(\"WorkspaceId\"), f.col(\"WorkspaceId\"),\n",
        "            f.lit(\"TenantId\"), f.col(\"WorkspaceTenantId\"),\n",
        "            f.lit(\"AlertDisplayName\"), f.col(\"AlertDisplayName\"),\n",
        "            f.lit(\"Description\"), f.col(\"AlertDescription\"),\n",
        "            f.lit(\"AlertProviderName\"), f.col(\"AlertProviderName\"),\n",
        "            f.lit(\"AlertSeverity\"), f.col(\"AlertSeverity\"),\n",
        "            f.lit(\"StartTime\"), f.col(\"StartTime\"),\n",
        "            f.lit(\"Tactics\"), f.col(\"Tactics\"),\n",
        "            f.lit(\"Techniques\"), f.col(\"Techniques\"),\n",
        "            f.lit(\"node_type\"), f.lit(\"securityalert\")\n",
        "        ))\n",
        "        .withColumn(\"AlertNodeAttributes\", f.to_json(\"AlertNodeAttributes\"))\n",
        "        .select(\"WorkspaceId\", \"SystemAlertId\", \"WorkspaceTenantId\", \"AlertNodeAttributes\")\n",
        "        .persist()\n",
        ")\n",
        "\n",
        "deduped_alert_data = deduped_alert_data.select(\"WorkspaceId\", \"WorkspaceTenantId\", \"SystemAlertId\", \"Entities\", \"AlertDisplayName\", \"AlertProviderName\", \"StartTime\").persist()"
      ]
    },
    {
      "cell_type": "code",
      "execution_count": 11,
      "metadata": {
        "jupyter": {
          "outputs_hidden": false,
          "source_hidden": false
        },
        "nteract": {
          "transient": {
            "deleting": false
          }
        }
      },
      "outputs": [
        {
          "data": {
            "application/vnd.livy.statement-meta+json": {
              "execution_finish_time": "2023-10-09T19:15:16.271465Z",
              "execution_start_time": "2023-10-09T19:15:16.0996675Z",
              "livy_statement_state": "available",
              "parent_msg_id": "f345cfb1-29d4-48c4-bf6a-d986430dc34e",
              "queued_time": "2023-10-09T19:10:16.8582821Z",
              "session_id": "154",
              "session_start_time": null,
              "spark_jobs": null,
              "spark_pool": "maxpiasevoliL",
              "state": "finished",
              "statement_id": 11
            },
            "text/plain": [
              "StatementMeta(maxpiasevoliL, 154, 11, Finished, Available)"
            ]
          },
          "metadata": {},
          "output_type": "display_data"
        }
      ],
      "source": [
        "import re, json"
      ]
    },
    {
      "cell_type": "code",
      "execution_count": 12,
      "metadata": {
        "jupyter": {
          "outputs_hidden": false,
          "source_hidden": false
        },
        "nteract": {
          "transient": {
            "deleting": false
          }
        }
      },
      "outputs": [
        {
          "data": {
            "application/vnd.livy.statement-meta+json": {
              "execution_finish_time": "2023-10-09T19:15:16.6404511Z",
              "execution_start_time": "2023-10-09T19:15:16.4661457Z",
              "livy_statement_state": "available",
              "parent_msg_id": "8b72963e-5be1-4cc1-822d-1c8cc4bf679b",
              "queued_time": "2023-10-09T19:10:16.9018164Z",
              "session_id": "154",
              "session_start_time": null,
              "spark_jobs": null,
              "spark_pool": "maxpiasevoliL",
              "state": "finished",
              "statement_id": 12
            },
            "text/plain": [
              "StatementMeta(maxpiasevoliL, 154, 12, Finished, Available)"
            ]
          },
          "metadata": {},
          "output_type": "display_data"
        }
      ],
      "source": [
        "entity_schema = StructType([\n",
        "    StructField(\"EntityType\", StringType(), nullable=False),\n",
        "    StructField(\"IdentifierField\", StringType(), nullable=False),\n",
        "    StructField(\"IdentifierValue\", StringType(), nullable=False),\n",
        "    StructField(\"EnrichedEntityNodeAttributes\", StringType(), nullable=False)\n",
        "])\n",
        "\n",
        "def process_entity_identifiers(entities_json_string):\n",
        "    try:\n",
        "        entity_dict_list = json.loads(entities_json_string)\n",
        "    except:\n",
        "        return []\n",
        "\n",
        "    def is_local_ipv4(ip_address):\n",
        "        try:\n",
        "            if ip_address == \"0.0.0.0\" or ip_address == \"127.0.0.1\" or ip_address[:7] == \"192.168\" or ip_address[:3] == \"10.\":\n",
        "                return True\n",
        "            elif (ip_address[0:4] == \"172.\"):\n",
        "                ip_address_fields = ip_address.split(\".\")\n",
        "                if len(fields) >= 2:\n",
        "                    ip_range = int(ip_address_fields[1])\n",
        "                    if ip_range >= 16 and ip_range <= 32:\n",
        "                        return True\n",
        "            \n",
        "            return False\n",
        "        except:\n",
        "            return False\n",
        "\n",
        "    def get_identifier_value(entity_dict, identifier_field):\n",
        "        return str(entity_dict[identifier_field]).lower() if identifier_field in entity_dict else \"\"\n",
        "    \n",
        "    entity_field_delimiter = \"__\"\n",
        "    def union_fields(identifier_list):\n",
        "        str_identifier_list = [str(identifier).lower() for identifier in identifier_list]\n",
        "        return entity_field_delimiter.join(str_identifier_list)\n",
        "\n",
        "    final_entities_list = []\n",
        "\n",
        "    for entity_dict in entity_dict_list:\n",
        "        if \"Type\" in entity_dict:\n",
        "            type_value = entity_dict[\"Type\"].lower()\n",
        "            node_attributes = {\"node_type\": type_value}\n",
        "            \n",
        "\n",
        "            if type_value == \"account\":\n",
        "\n",
        "                identifier_field = \"AadUserId\"\n",
        "                identifier_value = get_identifier_value(entity_dict, identifier_field)\n",
        "\n",
        "                if \"Name\" in entity_dict and entity_dict[\"Name\"] not in [\"root\", \"system\", \"guest\", \"admin\", \"administrator\", \"user\"]:\n",
        "                    node_attributes['identifier_fields'] = \"Name\"\n",
        "                    final_entities_list.append([type_value, \"Name\", entity_dict[\"Name\"], json.dumps(node_attributes.copy())])\n",
        "\n",
        "                if \"Name\" in entity_dict and entity_dict[\"Name\"] not in [\"root\", \"system\", \"guest\", \"admin\", \"administrator\", \"user\"] and \"UPNSuffix\" in entity_dict:\n",
        "                    node_attributes['identifier_fields'] = \"Email\"\n",
        "                    final_entities_list.append([type_value, \"Email\", entity_dict[\"Name\"] + \"@\"  + entity_dict['UPNSuffix'], json.dumps(node_attributes.copy())])\n",
        "                \n",
        "                if \"Sid\" in entity_dict:\n",
        "                    if entity_dict[\"Sid\"] in ['S-1-5-18']: continue\n",
        "                    node_attributes['identifier_fields'] = \"Sid\"\n",
        "                    final_entities_list.append([type_value, \"Sid\", entity_dict[\"Sid\"], json.dumps(node_attributes.copy())])\n",
        "                \n",
        "                node_attributes['identifier_fields'] = \"AadUserId\"\n",
        "\n",
        "            elif type_value == \"cloud-application\":\n",
        "\n",
        "                identifier_field = \"AppId\"\n",
        "                identifier_value = get_identifier_value(entity_dict, identifier_field)\n",
        "\n",
        "                if \"Name\" in entity_dict and \"InstanceName\" in entity_dict:\n",
        "                    node_attributes['identifier_fields'] = \"Name__InstanceName\"\n",
        "                    final_entities_list.append([type_value, \"Name__InstanceName\", union_fields([entity_dict[\"Name\"], entity_dict['InstanceName']]), json.dumps(node_attributes.copy())])\n",
        "                \n",
        "                node_attributes['identifier_fields'] = \"AppId\"\n",
        "\n",
        "            elif type_value == \"file\":\n",
        "\n",
        "                identifier_field = \"Name\"\n",
        "                identifier_value = get_identifier_value(entity_dict, identifier_field)\n",
        "\n",
        "                # if \"Name\" in entity_dict and \"Directory\" in entity_dict:\n",
        "                #     final_entities_list.append([type_value, \"Directory__Name\", entity_dict['Directory'] + entity_field_delimiter + entity_dict[\"Name\"], json.dumps(node_attributes.copy())])\n",
        "                node_attributes['identifier_fields'] = \"Name\"\n",
        "\n",
        "            elif type_value == \"filehash\":\n",
        "\n",
        "                if \"Algorithm\" in entity_dict and \"Value\" in entity_dict:\n",
        "                    node_attributes['identifier_fields'] = \"Algorithm__Value\"\n",
        "                    final_entities_list.append([type_value, \"Algorithm__Value\", union_fields([entity_dict[\"Algorithm\"], entity_dict[\"Value\"]]), json.dumps(node_attributes.copy())])\n",
        "                \n",
        "                continue\n",
        "\n",
        "            elif type_value == \"host\":\n",
        "\n",
        "                identifier_field = \"AadDeviceId\"\n",
        "                identifier_value = get_identifier_value(entity_dict, identifier_field)\n",
        "\n",
        "                if \"AzureID\" in entity_dict:\n",
        "                    node_attributes['identifier_fields'] = \"AzureID\"\n",
        "                    final_entities_list.append([type_value, \"AzureID\", entity_dict[\"AzureID\"], json.dumps(node_attributes.copy())])\n",
        "\n",
        "                if \"HostName\" in entity_dict:\n",
        "                    node_attributes['identifier_fields'] = \"HostName\"\n",
        "                    final_entities_list.append([type_value, \"HostName\", entity_dict[\"HostName\"], json.dumps(node_attributes.copy())])\n",
        "\n",
        "                if \"OMSAgentID\" in entity_dict:\n",
        "                    node_attributes['identifier_fields'] = \"OMSAgentID\"\n",
        "                    final_entities_list.append([type_value, \"OMSAgentID\", entity_dict[\"OMSAgentID\"], json.dumps(node_attributes.copy())])\n",
        "\n",
        "                node_attributes['identifier_fields'] = \"AadDeviceId\"\n",
        "\n",
        "            elif type_value == \"iotdevice\":\n",
        "\n",
        "                identifier_field = \"DeviceId\"\n",
        "                node_attributes['identifier_fields'] = \"DeviceId\"\n",
        "                identifier_value = get_identifier_value(entity_dict, identifier_field)\n",
        "\n",
        "            elif type_value == \"ip\":\n",
        "\n",
        "                identifier_field = \"Address\"\n",
        "                node_attributes['identifier_fields'] = \"Address\"\n",
        "                identifier_value = get_identifier_value(entity_dict, identifier_field)\n",
        "                if identifier_value in ('0.0.0.0', '127.0.0.1', '8.8.8.8'): continue\n",
        "                node_attributes['IsLocalIPv4'] = str(is_local_ipv4(identifier_value))\n",
        "                #if is_local_ipv4(identifier_value): continue\n",
        "            \n",
        "            elif type_value == \"mailbox\" or type_value == \"mailboxconfiguration\":\n",
        "\n",
        "                identifier_field = \"MailboxPrimaryAddress\"\n",
        "                node_attributes['identifier_fields'] = \"MailboxPrimaryAddress\"\n",
        "                identifier_value = get_identifier_value(entity_dict, identifier_field)\n",
        "\n",
        "            elif type_value == \"mailcluster\":\n",
        "\n",
        "                if \"Source\" in entity_dict and \"Query\" in entity_dict:\n",
        "                    node_attributes['identifier_fields'] = \"Source__Query\"\n",
        "                    final_entities_list.append([type_value, \"Source__Query\", union_fields([entity_dict[\"Source\"], entity_dict[\"Query\"]]), json.dumps(node_attributes.copy())])\n",
        "                \n",
        "                continue\n",
        "            \n",
        "            elif type_value == \"mailmessage\":\n",
        "\n",
        "                identifier_field = \"Sender\"\n",
        "                identifier_value = get_identifier_value(entity_dict, identifier_field)\n",
        "\n",
        "                if \"Subject\" in entity_dict: node_attributes['subject'] = entity_dict['Subject']\n",
        "\n",
        "                if \"Recipient\" in entity_dict:\n",
        "                    node_attributes['identifier_fields'] = \"Recipient\"\n",
        "                    final_entities_list.append([type_value, \"Recipient\", entity_dict[\"Recipient\"], json.dumps(node_attributes.copy())])\n",
        "\n",
        "                if \"SenderIP\" in entity_dict and entity_dict[\"SenderIP\"] not in ('0.0.0.0', '127.0.0.1', '8.8.8.8'):\n",
        "                    node_attributes['identifier_fields'] = \"SenderIP\"\n",
        "                    ip_address = entity_dict[\"SenderIP\"]\n",
        "                    copy_node_attributes = node_attributes.copy()\n",
        "                    copy_node_attributes['IsLocalIPv4'] = str(is_local_ipv4(ip_address))\n",
        "                    final_entities_list.append([type_value, \"SenderIP\", ip_address, json.dumps(copy_node_attributes)])\n",
        "                \n",
        "                node_attributes['identifier_fields'] = \"Sender\"\n",
        "\n",
        "            elif type_value == \"oauth-application\":\n",
        "\n",
        "                identifier_field = \"OAuthObjectId\"\n",
        "                identifier_value = get_identifier_value(entity_dict, identifier_field)\n",
        "\n",
        "                if \"OAuthAppId\" in entity_dict:\n",
        "                    node_attributes['identifier_fields'] = \"OAuthAppId\"\n",
        "                    final_entities_list.append([type_value, \"OAuthAppId\", entity_dict[\"OAuthAppId\"], json.dumps(node_attributes.copy())])\n",
        "                \n",
        "                node_attributes['identifier_fields'] = \"OAuthObjectId\"\n",
        "            \n",
        "            elif type_value == \"process\":\n",
        "\n",
        "                if \"ProcessId\" in entity_dict and \"CreatedTimeUtc\" in entity_dict and \"CommandLine\" in entity_dict:\n",
        "                    node_attributes['identifier_fields'] = \"ProcessId__CreatedTimeUtc__CommandLine\"\n",
        "                    final_entities_list.append([type_value, \"ProcessId__CreatedTimeUtc__CommandLine\", union_fields([entity_dict[\"ProcessId\"], entity_dict[\"CreatedTimeUtc\"], entity_dict[\"CommandLine\"]]), json.dumps(node_attributes.copy())])\n",
        "\n",
        "                if \"CommandLine\" in entity_dict:\n",
        "                    node_attributes['identifier_fields'] = \"ExtractedFileName\"\n",
        "                    command_line = str(get_identifier_value(entity_dict, \"CommandLine\")).lower()\n",
        "                    extracted_files = re.findall(r'([^\\\\\\/\\s\"\\']*\\.(?:exe|pdf|dll|xlsx|docx|zip|png|txt|ps1|html|png|tmp))', command_line)\n",
        "                    for extracted_file in extracted_files:\n",
        "                        final_entities_list.append([type_value, \"ExtractedFileName\", extracted_file, json.dumps(node_attributes.copy())])\n",
        "\n",
        "                continue\n",
        "            \n",
        "            elif type_value == \"security-group\":\n",
        "\n",
        "                identifier_field = \"ObjectGuid\"\n",
        "                identifier_value = get_identifier_value(entity_dict, identifier_field)\n",
        "\n",
        "                if \"SID\" in entity_dict:\n",
        "                    node_attributes['identifier_fields'] = \"SID\"\n",
        "                    final_entities_list.append([type_value, \"SID\", entity_dict[\"SID\"], json.dumps(node_attributes.copy())])\n",
        "                \n",
        "                node_attributes['identifier_fields'] = \"ObjectGuid\"\n",
        "\n",
        "            elif type_value == \"service-principal\":\n",
        "\n",
        "                identifier_field = \"ServicePrincipalObjectId\"\n",
        "                node_attributes['identifier_fields'] = \"ServicePrincipalObjectId\"\n",
        "                identifier_value = get_identifier_value(entity_dict, identifier_field)\n",
        "            \n",
        "            elif type_value == \"url\":\n",
        "\n",
        "                identifier_field = \"Url\"\n",
        "                node_attributes['identifier_fields'] = \"Url\"\n",
        "                identifier_value = get_identifier_value(entity_dict, identifier_field)\n",
        "            #     # TODO: add method to check if url is absolute or not\n",
        "                #node_attributes['IsAbsoluteUrl'] = str(is_absolute_url(identifier_value))\n",
        "            \n",
        "            # both cloud resource types extract the subscription id from the resource url\n",
        "            # elif type_value == \"gcp-resource\":\n",
        "\n",
        "            #     identifier_field = \"RelatedAzureResourceIds\"\n",
        "            #     resource_url = str(get_identifier_value(entity_dict, identifier_field)).lower()\n",
        "            #     match = re.search(r'(?<=subscriptions/)[0-9a-f]{8}-[0-9a-f]{4}-[0-9a-f]{4}-[0-9a-f]{4}-[0-9a-f]{12}', resource_url)\n",
        "            #     identifier_value = match.group() if match else \"\"\n",
        "            \n",
        "            elif type_value == \"azure-resource\":\n",
        "\n",
        "                identifier_field = \"ResourceId\"\n",
        "                resource_url = str(get_identifier_value(entity_dict, identifier_field)).lower()\n",
        "                identifier_value = resource_url\n",
        "\n",
        "                subscription_match = re.search(r'(?<=subscriptions/)[0-9a-f]{8}-[0-9a-f]{4}-[0-9a-f]{4}-[0-9a-f]{4}-[0-9a-f]{12}', resource_url)                \n",
        "                if subscription_match:\n",
        "                    node_attributes['identifier_fields'] = \"SubscriptionId\"\n",
        "                    final_entities_list.append([type_value, \"SubscriptionId\", subscription_match.group(), json.dumps(node_attributes.copy())])\n",
        "\n",
        "                resource_group_list = re.findall(r'resourcegroups/([^/]*)/', resource_url)\n",
        "                if len(resource_group_list):\n",
        "                    node_attributes['identifier_fields'] = \"ResourceGroup\"\n",
        "                    final_entities_list.append([type_value, \"ResourceGroup\", resource_group_list[0], json.dumps(node_attributes.copy())])\n",
        "\n",
        "                node_attributes['identifier_fields'] = \"ResourceId\"\n",
        "\n",
        "            else:\n",
        "                continue\n",
        "            \n",
        "            if identifier_value != \"\":\n",
        "                final_entities_list.append([type_value, identifier_field, identifier_value, json.dumps(node_attributes)])\n",
        "    \n",
        "    return final_entities_list\n",
        "\n",
        "process_entity_identifiers_udf = f.udf(process_entity_identifiers, ArrayType(entity_schema))"
      ]
    },
    {
      "cell_type": "code",
      "execution_count": 13,
      "metadata": {
        "jupyter": {
          "outputs_hidden": false,
          "source_hidden": false
        },
        "nteract": {
          "transient": {
            "deleting": false
          }
        }
      },
      "outputs": [
        {
          "data": {
            "application/vnd.livy.statement-meta+json": {
              "execution_finish_time": "2023-10-09T19:15:16.9860395Z",
              "execution_start_time": "2023-10-09T19:15:16.8222364Z",
              "livy_statement_state": "available",
              "parent_msg_id": "5ce0c15b-2760-42b4-b1fd-e5f9c524506b",
              "queued_time": "2023-10-09T19:10:16.9034897Z",
              "session_id": "154",
              "session_start_time": null,
              "spark_jobs": null,
              "spark_pool": "maxpiasevoliL",
              "state": "finished",
              "statement_id": 13
            },
            "text/plain": [
              "StatementMeta(maxpiasevoliL, 154, 13, Finished, Available)"
            ]
          },
          "metadata": {},
          "output_type": "display_data"
        }
      ],
      "source": [
        "deduped_alert_data_with_entities = deduped_alert_data.withColumn(\"EntityIdentifierList\", process_entity_identifiers_udf(\"Entities\")).drop(\"Entities\")"
      ]
    },
    {
      "cell_type": "code",
      "execution_count": 14,
      "metadata": {
        "jupyter": {
          "outputs_hidden": false,
          "source_hidden": false
        },
        "nteract": {
          "transient": {
            "deleting": false
          }
        }
      },
      "outputs": [
        {
          "data": {
            "application/vnd.livy.statement-meta+json": {
              "execution_finish_time": "2023-10-09T19:43:41.6239642Z",
              "execution_start_time": "2023-10-09T19:15:17.1575856Z",
              "livy_statement_state": "available",
              "parent_msg_id": "800b0c5d-1604-40cf-b293-9e1e569e6c75",
              "queued_time": "2023-10-09T19:10:16.9051143Z",
              "session_id": "154",
              "session_start_time": null,
              "spark_jobs": null,
              "spark_pool": "maxpiasevoliL",
              "state": "finished",
              "statement_id": 14
            },
            "text/plain": [
              "StatementMeta(maxpiasevoliL, 154, 14, Finished, Available)"
            ]
          },
          "metadata": {},
          "output_type": "display_data"
        },
        {
          "name": "stdout",
          "output_type": "stream",
          "text": [
            "Alert count pre-dedup:  39682511\n",
            "Incident count pre-dedup:  14117854\n",
            "Alert count post-dedup:  39682511\n",
            "Incident count post dedup:  12547490\n"
          ]
        }
      ],
      "source": [
        "deduped_alert_data_with_entities_flattened = (\n",
        "    deduped_alert_data_with_entities\n",
        "        .select(\"*\", f.explode(\"EntityIdentifierList\"))\n",
        "        .select(\"*\", \"col.*\")\n",
        "        .drop(\"col\", \"EntityIdentifierList\")\n",
        "        .where(f.col(\"IdentifierValue\") != \"\")\n",
        "        .withColumn(\"IdentifierValue\", f.lower(\"IdentifierValue\"))\n",
        ")\n",
        "\n",
        "print('Alert count pre-dedup: ', deduped_alert_data_with_entities_flattened.select(\"WorkspaceId\", \"SystemAlertId\").distinct().count())\n",
        "\n",
        "incident_to_alert_data = (\n",
        "    deduped_incident_data\n",
        "        .withColumn(\"AlertIds\", f.from_json(\"AlertIds\", ArrayType(StringType())))\n",
        "        .withColumn(\"AssociatedAlertCount\", f.size(\"AlertIds\"))\n",
        "        .select(\"*\", f.explode(\"AlertIds\").alias(\"SystemAlertId\"))\n",
        "        .where(f.col(\"SystemAlertId\") != \"\")\n",
        "        .select(\"WorkspaceId\", \"IncidentName\", \"SystemAlertId\", \"AssociatedAlertCount\", \"WorkspaceTenantId\")\n",
        "        .distinct()\n",
        ")\n",
        "\n",
        "print('Incident count pre-dedup: ', incident_to_alert_data.select(\"WorkspaceId\", \"IncidentName\").distinct().count())\n",
        "\n",
        "# account for alerts that are no longer present in alert table\n",
        "incident_window = Window.partitionBy(\"WorkspaceId\", \"IncidentName\")\n",
        "incident_to_alert_data = (\n",
        "    deduped_alert_data\n",
        "        .select(\"WorkspaceId\", \"SystemAlertId\")\n",
        "        .distinct()\n",
        "        .join(incident_to_alert_data, [\"WorkspaceId\", \"SystemAlertId\"])\n",
        ")\n",
        "\n",
        "# de-duplicate alert data again to remove duplicate alert types pointing to same entity identifier\n",
        "if drop_alert_type_dups_on_same_entity:\n",
        "    alert_window = Window.partitionBy(\"WorkspaceId\", \"AlertDisplayName\", \"AlertProviderName\", \"EntityType\", \"IdentifierField\", \"IdentifierValue\").orderBy(f.col(\"StartTime\").desc())\n",
        "\n",
        "    deduped_alert_data_with_entities_flattened = (\n",
        "        deduped_alert_data_with_entities_flattened\n",
        "            .withColumn(\"rowNumber\", f.row_number().over(alert_window))\n",
        "            .persist()\n",
        "    )\n",
        "\n",
        "    alerts_to_drop = (\n",
        "        deduped_alert_data_with_entities_flattened\n",
        "            .filter(f.col(\"rowNumber\") != 1)\n",
        "            .select(\"WorkspaceId\", \"SystemAlertId\")\n",
        "            .distinct()\n",
        "    )\n",
        "\n",
        "    deduped_alert_data_with_entities_flattened = (\n",
        "        deduped_alert_data_with_entities_flattened\n",
        "            .filter(f.col(\"rowNumber\") == 1)\n",
        "            .drop(\"rowNumber\")\n",
        "    )\n",
        "\n",
        "    # use alert-entity dedup to update incident to alert mappings\n",
        "    incident_to_alert_data = (\n",
        "        incident_to_alert_data\n",
        "            .join(alerts_to_drop, [\"WorkspaceId\", \"SystemAlertId\"], 'leftanti')\n",
        "    )\n",
        "\n",
        "deduped_alert_data_with_entities_flattened = (\n",
        "    deduped_alert_data_with_entities_flattened\n",
        "        .drop(\"AlertDisplayName\", \"AlertProviderName\", \"StartTime\")\n",
        "        .persist()\n",
        ")\n",
        "\n",
        "# drop incidents where not all alerts are present\n",
        "incident_to_alert_data = (\n",
        "    incident_to_alert_data\n",
        "        .withColumn(\"JoinedAlertCount\", f.size(f.collect_set(\"SystemAlertId\").over(incident_window)))\n",
        "        .where(f.col(\"JoinedAlertCount\") == f.col(\"AssociatedAlertCount\"))\n",
        "        .persist()\n",
        ")\n",
        "\n",
        "print('Alert count post-dedup: ', deduped_alert_data_with_entities_flattened.select(\"WorkspaceId\", \"SystemAlertId\").distinct().count())\n",
        "print('Incident count post dedup: ', incident_to_alert_data.select(\"WorkspaceId\", \"IncidentName\").distinct().count())"
      ]
    },
    {
      "cell_type": "code",
      "execution_count": 15,
      "metadata": {
        "jupyter": {
          "outputs_hidden": false,
          "source_hidden": false
        },
        "nteract": {
          "transient": {
            "deleting": false
          }
        }
      },
      "outputs": [
        {
          "data": {
            "application/vnd.livy.statement-meta+json": {
              "execution_finish_time": "2023-10-09T19:43:42.0009571Z",
              "execution_start_time": "2023-10-09T19:43:41.8164334Z",
              "livy_statement_state": "available",
              "parent_msg_id": "c5451d4c-9e4a-4c6d-9330-0b46dedaafdd",
              "queued_time": "2023-10-09T19:10:16.9067862Z",
              "session_id": "154",
              "session_start_time": null,
              "spark_jobs": null,
              "spark_pool": "maxpiasevoliL",
              "state": "finished",
              "statement_id": 15
            },
            "text/plain": [
              "StatementMeta(maxpiasevoliL, 154, 15, Finished, Available)"
            ]
          },
          "metadata": {},
          "output_type": "display_data"
        },
        {
          "name": "stdout",
          "output_type": "stream",
          "text": [
            "root\n",
            " |-- WorkspaceId: string (nullable = true)\n",
            " |-- WorkspaceTenantId: string (nullable = true)\n",
            " |-- SystemAlertId: string (nullable = true)\n",
            " |-- EntityType: string (nullable = true)\n",
            " |-- IdentifierField: string (nullable = true)\n",
            " |-- IdentifierValue: string (nullable = true)\n",
            " |-- EnrichedEntityNodeAttributes: string (nullable = true)\n",
            "\n"
          ]
        }
      ],
      "source": [
        "deduped_alert_data_with_entities_flattened.printSchema()"
      ]
    },
    {
      "cell_type": "code",
      "execution_count": 16,
      "metadata": {
        "jupyter": {
          "outputs_hidden": false,
          "source_hidden": false
        },
        "nteract": {
          "transient": {
            "deleting": false
          }
        }
      },
      "outputs": [
        {
          "data": {
            "application/vnd.livy.statement-meta+json": {
              "execution_finish_time": "2023-10-09T19:43:42.3171037Z",
              "execution_start_time": "2023-10-09T19:43:42.1536685Z",
              "livy_statement_state": "available",
              "parent_msg_id": "11ec4c0c-38b4-4380-8070-efb9ab98ae1b",
              "queued_time": "2023-10-09T19:10:16.9086542Z",
              "session_id": "154",
              "session_start_time": null,
              "spark_jobs": null,
              "spark_pool": "maxpiasevoliL",
              "state": "finished",
              "statement_id": 16
            },
            "text/plain": [
              "StatementMeta(maxpiasevoliL, 154, 16, Finished, Available)"
            ]
          },
          "metadata": {},
          "output_type": "display_data"
        }
      ],
      "source": [
        "enriched_entity_node_attributes = (\n",
        "    deduped_alert_data_with_entities_flattened\n",
        "        .select(f.col(\"WorkspaceTenantId\").alias(\"TenantId\"), \"EntityType\", \"IdentifierValue\", \"EnrichedEntityNodeAttributes\")\n",
        "        .distinct()\n",
        "        .persist()\n",
        ")\n",
        "\n",
        "deduped_alert_data_with_entities_flattened = deduped_alert_data_with_entities_flattened.drop(\"EnrichedEntityNodeAttributes\").distinct().persist()"
      ]
    },
    {
      "cell_type": "code",
      "execution_count": 17,
      "metadata": {
        "jupyter": {
          "outputs_hidden": false,
          "source_hidden": false
        },
        "nteract": {
          "transient": {
            "deleting": false
          }
        }
      },
      "outputs": [
        {
          "data": {
            "application/vnd.livy.statement-meta+json": {
              "execution_finish_time": "2023-10-09T19:44:17.5425066Z",
              "execution_start_time": "2023-10-09T19:43:42.4713012Z",
              "livy_statement_state": "available",
              "parent_msg_id": "8ca8383b-1c86-4b89-81b2-f2c573902eb9",
              "queued_time": "2023-10-09T19:10:16.9109299Z",
              "session_id": "154",
              "session_start_time": null,
              "spark_jobs": null,
              "spark_pool": "maxpiasevoliL",
              "state": "finished",
              "statement_id": 17
            },
            "text/plain": [
              "StatementMeta(maxpiasevoliL, 154, 17, Finished, Available)"
            ]
          },
          "metadata": {},
          "output_type": "display_data"
        },
        {
          "name": "stdout",
          "output_type": "stream",
          "text": [
            "+--------------------+--------------------------------------+\n",
            "|EntityType          |IdentifierField                       |\n",
            "+--------------------+--------------------------------------+\n",
            "|account             |AadUserId                             |\n",
            "|account             |Email                                 |\n",
            "|account             |Name                                  |\n",
            "|account             |Sid                                   |\n",
            "|azure-resource      |ResourceGroup                         |\n",
            "|azure-resource      |ResourceId                            |\n",
            "|azure-resource      |SubscriptionId                        |\n",
            "|cloud-application   |AppId                                 |\n",
            "|cloud-application   |Name__InstanceName                    |\n",
            "|file                |Name                                  |\n",
            "|filehash            |Algorithm__Value                      |\n",
            "|host                |AadDeviceId                           |\n",
            "|host                |AzureID                               |\n",
            "|host                |HostName                              |\n",
            "|host                |OMSAgentID                            |\n",
            "|iotdevice           |DeviceId                              |\n",
            "|ip                  |Address                               |\n",
            "|mailbox             |MailboxPrimaryAddress                 |\n",
            "|mailboxconfiguration|MailboxPrimaryAddress                 |\n",
            "|mailcluster         |Source__Query                         |\n",
            "|mailmessage         |Recipient                             |\n",
            "|mailmessage         |Sender                                |\n",
            "|mailmessage         |SenderIP                              |\n",
            "|oauth-application   |OAuthAppId                            |\n",
            "|oauth-application   |OAuthObjectId                         |\n",
            "|process             |ExtractedFileName                     |\n",
            "|process             |ProcessId__CreatedTimeUtc__CommandLine|\n",
            "|security-group      |ObjectGuid                            |\n",
            "|security-group      |SID                                   |\n",
            "|url                 |Url                                   |\n",
            "+--------------------+--------------------------------------+\n",
            "\n"
          ]
        }
      ],
      "source": [
        "(\n",
        "    deduped_alert_data_with_entities_flattened\n",
        "        .select(\"EntityType\", \"IdentifierField\")\n",
        "        .distinct()\n",
        "        .orderBy(f.col(\"EntityType\").asc(), f.col(\"IdentifierField\").asc())\n",
        "        .show(n=50, truncate=False)\n",
        ")"
      ]
    },
    {
      "cell_type": "code",
      "execution_count": 18,
      "metadata": {
        "jupyter": {
          "outputs_hidden": false,
          "source_hidden": false
        },
        "nteract": {
          "transient": {
            "deleting": false
          }
        }
      },
      "outputs": [
        {
          "data": {
            "application/vnd.livy.statement-meta+json": {
              "execution_finish_time": "2023-10-09T19:44:19.5841457Z",
              "execution_start_time": "2023-10-09T19:44:17.7203078Z",
              "livy_statement_state": "available",
              "parent_msg_id": "3e7d69e2-6dfc-4f75-9ff3-ca8872c35b0d",
              "queued_time": "2023-10-09T19:10:16.913557Z",
              "session_id": "154",
              "session_start_time": null,
              "spark_jobs": null,
              "spark_pool": "maxpiasevoliL",
              "state": "finished",
              "statement_id": 18
            },
            "text/plain": [
              "StatementMeta(maxpiasevoliL, 154, 18, Finished, Available)"
            ]
          },
          "metadata": {},
          "output_type": "display_data"
        }
      ],
      "source": [
        "header = f\"\"\"EvaluationSkillInvocations\n",
        "| where PreciseTimeStamp between(todatetime('{start_processing_timestamp.strftime('%Y-%m-%d')}') .. todatetime('{end_processing_timestamp.strftime('%Y-%m-%d')}'))\n",
        "\"\"\"\n",
        "\n",
        "regex_query = header + \"\"\"| where State == 'Completed' and Success == 'true'\n",
        "| extend SessionId = case(isempty(SessionId), sessionid, SessionId)\n",
        "| extend SkillInputs = tolower(SkillInputs)\n",
        "| extend SkillOutput = tolower(SkillOutput)\n",
        "| extend SkillInputGuids = extract_all(\"([0-9a-f]{8}-[0-9a-f]{4}-[0-9a-f]{4}-[0-9a-f]{4}-[0-9a-f]{12})\", SkillInputs)\n",
        "| extend SkillOutputGuids = extract_all(\"([0-9a-f]{8}-[0-9a-f]{4}-[0-9a-f]{4}-[0-9a-f]{4}-[0-9a-f]{12})\", SkillOutput)\n",
        "| extend SkillInputSids = extract_all(@\"(s-\\d-\\d+-[\\d-]+)\", SkillInputs)\n",
        "| extend SkillOutputSids = extract_all(@\"(s-\\d-\\d+-[\\d-]+)\", SkillOutput)\n",
        "| extend SkillInputEmails = extract_all(@\"([a-z0-9._%+-]+@[a-z0-9.-]+\\.@[a-z]{2,})\", SkillInputs)\n",
        "| extend SkillOutputEmails = extract_all(@\"([a-z0-9._%+-]+@[a-z0-9.-]+\\.[a-z]{2,})\", SkillOutput)\n",
        "| extend SkillInputIps = extract_all(@\"((?:[0-9]{1,3}\\.){3}[0-9]{1,3})\", SkillInputs)\n",
        "| extend SkillOutputIps = extract_all(@\"((?:[0-9]{1,3}\\.){3}[0-9]{1,3})\", SkillOutput)\n",
        "| extend SkillInputFiles = extract_all(@'([^\"\\\\\\/\\s]*\\.(?:exe|pdf|dll|xlsx|docx|zip|png|txt|ps1|html|png|tmp))', SkillInputs)\n",
        "| extend SkillOutputFiles = extract_all(@'([^\"\\\\\\/\\s]*\\.(?:exe|pdf|dll|xlsx|docx|zip|png|txt|ps1|html|png|tmp|json))', SkillOutput)\n",
        "| extend Identifiers = array_concat(\n",
        "    SkillInputGuids, SkillOutputGuids, \n",
        "    SkillInputEmails, SkillOutputEmails, \n",
        "    SkillInputIps, SkillOutputIps,\n",
        "    SkillInputSids, SkillOutputSids,\n",
        "    SkillInputFiles, SkillOutputFiles\n",
        ")\n",
        "| mv-expand Identifiers\n",
        "| extend Identifier = tostring(Identifiers)\n",
        "| join kind=inner(\n",
        "    Sessions\n",
        "    | distinct SessionId, TenantId\n",
        ") on SessionId\n",
        "| distinct TenantId, SessionId, SkillInvocationId, SkillName, Identifier\n",
        "\"\"\"\n",
        "\n",
        "evaluation_skill_invocations_identifiers_regex = (\n",
        "    spark\n",
        "        .read \n",
        "        .format(\"com.microsoft.kusto.spark.synapse.datasource\")\n",
        "        .option(\"spark.synapse.linkedService\", \"medeinaapiprod\")\n",
        "        .option(\"kustoDatabase\", \"medeinalogs\")\n",
        "        .option(\"authType\", \"LS\")\n",
        "        .option(\"kustoQuery\", regex_query)\n",
        "        .load()\n",
        "        .drop(\"SessionId1\")\n",
        "        .withColumn(\"ExtractedIncidentNodeAttributes\", f.lit('{\"extracted_via_regex\": \"True\"}'))\n",
        "        .withColumn(\"ExtractedAlertNodeAttributes\", f.lit('{\"extracted_via_regex\": \"True\"}'))\n",
        "        .withColumn(\"ExtractedEntityNodeAttributes\", f.lit('{\"extracted_via_regex\": \"True\"}'))\n",
        "        .withColumn(\"ExtractedEntityType\", f.lit('no_entity_type_for_regex'))\n",
        ")"
      ]
    },
    {
      "cell_type": "code",
      "execution_count": 19,
      "metadata": {
        "jupyter": {
          "outputs_hidden": false,
          "source_hidden": false
        },
        "nteract": {
          "transient": {
            "deleting": false
          }
        }
      },
      "outputs": [
        {
          "data": {
            "application/vnd.livy.statement-meta+json": {
              "execution_finish_time": "2023-10-09T19:44:32.5754968Z",
              "execution_start_time": "2023-10-09T19:44:19.7468596Z",
              "livy_statement_state": "available",
              "parent_msg_id": "d009c707-f530-4543-b307-db9352f9f621",
              "queued_time": "2023-10-09T19:10:16.9154332Z",
              "session_id": "154",
              "session_start_time": null,
              "spark_jobs": null,
              "spark_pool": "maxpiasevoliL",
              "state": "finished",
              "statement_id": 19
            },
            "text/plain": [
              "StatementMeta(maxpiasevoliL, 154, 19, Finished, Available)"
            ]
          },
          "metadata": {},
          "output_type": "display_data"
        },
        {
          "name": "stdout",
          "output_type": "stream",
          "text": [
            "Potential identifiers from regex:  657730\n"
          ]
        }
      ],
      "source": [
        "print(\"Potential identifiers from regex: \", evaluation_skill_invocations_identifiers_regex.count())"
      ]
    },
    {
      "cell_type": "markdown",
      "metadata": {
        "nteract": {
          "transient": {
            "deleting": false
          }
        }
      },
      "source": [
        "# Sentinel IncidentName Extraction\n",
        "(Skill --> Incident --> Alert --> Entity --> Alert)"
      ]
    },
    {
      "cell_type": "code",
      "execution_count": 20,
      "metadata": {
        "jupyter": {
          "outputs_hidden": false,
          "source_hidden": false
        },
        "nteract": {
          "transient": {
            "deleting": false
          }
        }
      },
      "outputs": [
        {
          "data": {
            "application/vnd.livy.statement-meta+json": {
              "execution_finish_time": "2023-10-09T19:44:32.9319561Z",
              "execution_start_time": "2023-10-09T19:44:32.7377492Z",
              "livy_statement_state": "available",
              "parent_msg_id": "33e586fa-53a7-481f-8bf0-82655f39e383",
              "queued_time": "2023-10-09T19:10:19.8402231Z",
              "session_id": "154",
              "session_start_time": null,
              "spark_jobs": null,
              "spark_pool": "maxpiasevoliL",
              "state": "finished",
              "statement_id": 20
            },
            "text/plain": [
              "StatementMeta(maxpiasevoliL, 154, 20, Finished, Available)"
            ]
          },
          "metadata": {},
          "output_type": "display_data"
        }
      ],
      "source": [
        "def join_session_and_incident_on_incident_guid(session_sdf, join_type = \"right_outer\"):\n",
        "    return (\n",
        "        deduped_incident_data\n",
        "            .select(\"WorkspaceId\", \"IncidentName\", \"WorkspaceTenantId\")\n",
        "            .distinct()\n",
        "            .join(session_sdf,\n",
        "                (deduped_incident_data.WorkspaceTenantId == session_sdf.TenantId)\n",
        "                & (deduped_incident_data.IncidentName == session_sdf.Identifier),\n",
        "                join_type\n",
        "            )\n",
        "            .select(\n",
        "                \"WorkspaceId\",\n",
        "                \"TenantId\",\n",
        "                \"IncidentName\",\n",
        "                \"SessionId\",\n",
        "                \"SkillInvocationId\",\n",
        "                \"ExtractedIncidentNodeAttributes\"\n",
        "            )\n",
        "            .persist()\n",
        "    )"
      ]
    },
    {
      "cell_type": "code",
      "execution_count": 21,
      "metadata": {
        "jupyter": {
          "outputs_hidden": false,
          "source_hidden": false
        },
        "nteract": {
          "transient": {
            "deleting": false
          }
        }
      },
      "outputs": [
        {
          "data": {
            "application/vnd.livy.statement-meta+json": {
              "execution_finish_time": "2023-10-09T19:44:43.8455352Z",
              "execution_start_time": "2023-10-09T19:44:33.1002337Z",
              "livy_statement_state": "available",
              "parent_msg_id": "5f52c009-e385-421d-9676-d79417072adf",
              "queued_time": "2023-10-09T19:10:21.1741028Z",
              "session_id": "154",
              "session_start_time": null,
              "spark_jobs": null,
              "spark_pool": "maxpiasevoliL",
              "state": "finished",
              "statement_id": 21
            },
            "text/plain": [
              "StatementMeta(maxpiasevoliL, 154, 21, Finished, Available)"
            ]
          },
          "metadata": {},
          "output_type": "display_data"
        }
      ],
      "source": [
        "regex_session_and_incident_on_incident_guid = join_session_and_incident_on_incident_guid(evaluation_skill_invocations_identifiers_regex, \"inner\")"
      ]
    },
    {
      "cell_type": "code",
      "execution_count": 22,
      "metadata": {
        "jupyter": {
          "outputs_hidden": false,
          "source_hidden": false
        },
        "nteract": {
          "transient": {
            "deleting": false
          }
        }
      },
      "outputs": [
        {
          "data": {
            "application/vnd.livy.statement-meta+json": {
              "execution_finish_time": "2023-10-09T19:44:50.9799175Z",
              "execution_start_time": "2023-10-09T19:44:44.0100937Z",
              "livy_statement_state": "available",
              "parent_msg_id": "9510f5f5-305e-41b0-8193-7572daeeb68a",
              "queued_time": "2023-10-09T19:10:21.528886Z",
              "session_id": "154",
              "session_start_time": null,
              "spark_jobs": null,
              "spark_pool": "maxpiasevoliL",
              "state": "finished",
              "statement_id": 22
            },
            "text/plain": [
              "StatementMeta(maxpiasevoliL, 154, 22, Finished, Available)"
            ]
          },
          "metadata": {},
          "output_type": "display_data"
        },
        {
          "name": "stdout",
          "output_type": "stream",
          "text": [
            "Incident identifiers extracted via regex:  679\n"
          ]
        }
      ],
      "source": [
        "print(\"Incident identifiers extracted via regex: \", regex_session_and_incident_on_incident_guid.count())"
      ]
    },
    {
      "cell_type": "code",
      "execution_count": 23,
      "metadata": {
        "jupyter": {
          "outputs_hidden": false,
          "source_hidden": false
        },
        "nteract": {
          "transient": {
            "deleting": false
          }
        }
      },
      "outputs": [
        {
          "data": {
            "application/vnd.livy.statement-meta+json": {
              "execution_finish_time": "2023-10-09T19:44:51.7381218Z",
              "execution_start_time": "2023-10-09T19:44:51.1781986Z",
              "livy_statement_state": "available",
              "parent_msg_id": "7d0ccd8c-7612-4719-97d8-d9413dbe98a4",
              "queued_time": "2023-10-09T19:10:21.7461474Z",
              "session_id": "154",
              "session_start_time": null,
              "spark_jobs": null,
              "spark_pool": "maxpiasevoliL",
              "state": "finished",
              "statement_id": 23
            },
            "text/plain": [
              "StatementMeta(maxpiasevoliL, 154, 23, Finished, Available)"
            ]
          },
          "metadata": {},
          "output_type": "display_data"
        }
      ],
      "source": [
        "# static method for extracting incident identifiers\n",
        "\"\"\"\n",
        "KQL for adding Sentinel IncidentName col\n",
        "\"\"\"\n",
        "incident_name_query_str = f\"\"\"EvaluationSkillInvocations\n",
        "| where PreciseTimeStamp between(todatetime('{start_processing_timestamp.strftime('%Y-%m-%d')}') .. todatetime('{end_processing_timestamp.strftime('%Y-%m-%d')}'))\n",
        "| where State == 'Completed' and Success == 'true'\n",
        "| where SkillName == 'GetSentinelIncidentBasicInfoByUrl'\n",
        "| extend SessionId = case(isempty(SessionId), sessionid, SessionId)\n",
        "| extend IncidentName = tostring(parse_json(SkillInputs).Url)\n",
        "| extend IncidentName = tostring(split(IncidentName, '/')[-1])\n",
        "| extend ExtractedIncidentNodeAttributes = dynamic_to_json(bag_pack(\"extracted_via_static\", \"True\"))\n",
        "| join kind=inner(\n",
        "    Sessions\n",
        "    | distinct SessionId, TenantId\n",
        ") on SessionId\n",
        "| project SessionId, SkillInvocationId, IncidentName, TenantId, ExtractedIncidentNodeAttributes\n",
        "\"\"\"\n",
        "\n",
        "evaluation_skill_invocations_incident_static_sdf = spark.read \\\n",
        "    .format(\"com.microsoft.kusto.spark.synapse.datasource\") \\\n",
        "    .option(\"spark.synapse.linkedService\", \"medeinaapiprod\") \\\n",
        "    .option(\"kustoDatabase\", \"medeinalogs\") \\\n",
        "    .option(\"authType\", \"LS\")\\\n",
        "    .option(\"kustoQuery\", incident_name_query_str) \\\n",
        "    .load() \\\n",
        "    .withColumnRenamed(\"IncidentName\", \"Identifier\")"
      ]
    },
    {
      "cell_type": "code",
      "execution_count": 24,
      "metadata": {
        "jupyter": {
          "outputs_hidden": false,
          "source_hidden": false
        },
        "nteract": {
          "transient": {
            "deleting": false
          }
        }
      },
      "outputs": [
        {
          "data": {
            "application/vnd.livy.statement-meta+json": {
              "execution_finish_time": "2023-10-09T19:44:54.7770893Z",
              "execution_start_time": "2023-10-09T19:44:51.9094681Z",
              "livy_statement_state": "available",
              "parent_msg_id": "085bb0c2-6b63-44ef-a777-0a949aaae6cd",
              "queued_time": "2023-10-09T19:10:22.067827Z",
              "session_id": "154",
              "session_start_time": null,
              "spark_jobs": null,
              "spark_pool": "maxpiasevoliL",
              "state": "finished",
              "statement_id": 24
            },
            "text/plain": [
              "StatementMeta(maxpiasevoliL, 154, 24, Finished, Available)"
            ]
          },
          "metadata": {},
          "output_type": "display_data"
        }
      ],
      "source": [
        "static_session_and_incident_on_incident_guid = join_session_and_incident_on_incident_guid(evaluation_skill_invocations_incident_static_sdf, \"inner\")"
      ]
    },
    {
      "cell_type": "code",
      "execution_count": 25,
      "metadata": {
        "jupyter": {
          "outputs_hidden": false,
          "source_hidden": false
        },
        "nteract": {
          "transient": {
            "deleting": false
          }
        }
      },
      "outputs": [
        {
          "data": {
            "application/vnd.livy.statement-meta+json": {
              "execution_finish_time": "2023-10-09T19:44:59.0484498Z",
              "execution_start_time": "2023-10-09T19:44:54.9781388Z",
              "livy_statement_state": "available",
              "parent_msg_id": "1132a483-bb94-48cb-92e8-a2fca9b845b4",
              "queued_time": "2023-10-09T19:10:22.1822602Z",
              "session_id": "154",
              "session_start_time": null,
              "spark_jobs": null,
              "spark_pool": "maxpiasevoliL",
              "state": "finished",
              "statement_id": 25
            },
            "text/plain": [
              "StatementMeta(maxpiasevoliL, 154, 25, Finished, Available)"
            ]
          },
          "metadata": {},
          "output_type": "display_data"
        },
        {
          "name": "stdout",
          "output_type": "stream",
          "text": [
            "Incident identifiers extracted via static:  31\n"
          ]
        }
      ],
      "source": [
        "print(\"Incident identifiers extracted via static: \", static_session_and_incident_on_incident_guid.count())"
      ]
    },
    {
      "cell_type": "markdown",
      "metadata": {
        "nteract": {
          "transient": {
            "deleting": false
          }
        }
      },
      "source": [
        "# Sentinel Security Alert Extraction\n",
        "(Skill --> Alert --> Entity --> Alert)"
      ]
    },
    {
      "cell_type": "code",
      "execution_count": 26,
      "metadata": {
        "jupyter": {
          "outputs_hidden": false,
          "source_hidden": false
        },
        "nteract": {
          "transient": {
            "deleting": false
          }
        }
      },
      "outputs": [
        {
          "data": {
            "application/vnd.livy.statement-meta+json": {
              "execution_finish_time": "2023-10-09T19:44:59.3797265Z",
              "execution_start_time": "2023-10-09T19:44:59.2078271Z",
              "livy_statement_state": "available",
              "parent_msg_id": "a9a4e50d-7b2b-4aed-b430-49d725615451",
              "queued_time": "2023-10-09T19:10:23.1194602Z",
              "session_id": "154",
              "session_start_time": null,
              "spark_jobs": null,
              "spark_pool": "maxpiasevoliL",
              "state": "finished",
              "statement_id": 26
            },
            "text/plain": [
              "StatementMeta(maxpiasevoliL, 154, 26, Finished, Available)"
            ]
          },
          "metadata": {},
          "output_type": "display_data"
        }
      ],
      "source": [
        "def join_session_and_alert_on_alert_guid(session_sdf, join_type = \"right_outer\"):\n",
        "    return (\n",
        "        deduped_alert_data\n",
        "            .select(\"WorkspaceId\", \"SystemAlertId\", \"WorkspaceTenantId\")\n",
        "            .distinct()\n",
        "            .join(session_sdf,\n",
        "                (deduped_alert_data.WorkspaceTenantId == session_sdf.TenantId)\n",
        "                & (deduped_alert_data.SystemAlertId == session_sdf.Identifier),\n",
        "                join_type\n",
        "            )\n",
        "            .select(\n",
        "                \"WorkspaceId\",\n",
        "                \"TenantId\",\n",
        "                \"SystemAlertId\",\n",
        "                \"SessionId\",\n",
        "                \"SkillInvocationId\",\n",
        "                \"ExtractedAlertNodeAttributes\"\n",
        "            )\n",
        "            .persist()\n",
        "    )"
      ]
    },
    {
      "cell_type": "code",
      "execution_count": 27,
      "metadata": {
        "jupyter": {
          "outputs_hidden": false,
          "source_hidden": false
        },
        "nteract": {
          "transient": {
            "deleting": false
          }
        }
      },
      "outputs": [
        {
          "data": {
            "application/vnd.livy.statement-meta+json": {
              "execution_finish_time": "2023-10-09T19:45:10.2556454Z",
              "execution_start_time": "2023-10-09T19:44:59.5443718Z",
              "livy_statement_state": "available",
              "parent_msg_id": "b469195d-5085-466e-a451-7f84c8256c44",
              "queued_time": "2023-10-09T19:10:23.3609091Z",
              "session_id": "154",
              "session_start_time": null,
              "spark_jobs": null,
              "spark_pool": "maxpiasevoliL",
              "state": "finished",
              "statement_id": 27
            },
            "text/plain": [
              "StatementMeta(maxpiasevoliL, 154, 27, Finished, Available)"
            ]
          },
          "metadata": {},
          "output_type": "display_data"
        }
      ],
      "source": [
        "regex_session_and_alert_on_alert_guid = join_session_and_alert_on_alert_guid(evaluation_skill_invocations_identifiers_regex, \"inner\")"
      ]
    },
    {
      "cell_type": "code",
      "execution_count": 28,
      "metadata": {
        "jupyter": {
          "outputs_hidden": false,
          "source_hidden": false
        },
        "nteract": {
          "transient": {
            "deleting": false
          }
        }
      },
      "outputs": [
        {
          "data": {
            "application/vnd.livy.statement-meta+json": {
              "execution_finish_time": "2023-10-09T19:45:19.2561444Z",
              "execution_start_time": "2023-10-09T19:45:10.4317734Z",
              "livy_statement_state": "available",
              "parent_msg_id": "116b2420-5f0f-4172-ae72-876cd63956c4",
              "queued_time": "2023-10-09T19:10:23.5354302Z",
              "session_id": "154",
              "session_start_time": null,
              "spark_jobs": null,
              "spark_pool": "maxpiasevoliL",
              "state": "finished",
              "statement_id": 28
            },
            "text/plain": [
              "StatementMeta(maxpiasevoliL, 154, 28, Finished, Available)"
            ]
          },
          "metadata": {},
          "output_type": "display_data"
        },
        {
          "name": "stdout",
          "output_type": "stream",
          "text": [
            "Alert identifiers extracted via regex:  167\n"
          ]
        }
      ],
      "source": [
        "print(\"Alert identifiers extracted via regex: \", regex_session_and_alert_on_alert_guid.count())"
      ]
    },
    {
      "cell_type": "code",
      "execution_count": 29,
      "metadata": {
        "jupyter": {
          "outputs_hidden": false,
          "source_hidden": false
        },
        "nteract": {
          "transient": {
            "deleting": false
          }
        }
      },
      "outputs": [
        {
          "data": {
            "application/vnd.livy.statement-meta+json": {
              "execution_finish_time": "2023-10-09T19:45:20.0199399Z",
              "execution_start_time": "2023-10-09T19:45:19.4354305Z",
              "livy_statement_state": "available",
              "parent_msg_id": "1c3788b8-5d3a-4f12-a601-f00bc1191e37",
              "queued_time": "2023-10-09T19:10:23.6975352Z",
              "session_id": "154",
              "session_start_time": null,
              "spark_jobs": null,
              "spark_pool": "maxpiasevoliL",
              "state": "finished",
              "statement_id": 29
            },
            "text/plain": [
              "StatementMeta(maxpiasevoliL, 154, 29, Finished, Available)"
            ]
          },
          "metadata": {},
          "output_type": "display_data"
        }
      ],
      "source": [
        "# static method for extracting alerts\n",
        "\"\"\"\n",
        "KQL for adding Sentinel Alerts col\n",
        "\"\"\"\n",
        "alerts_query_str = f\"\"\"EvaluationSkillInvocations\n",
        "| where PreciseTimeStamp between(todatetime('{start_processing_timestamp.strftime('%Y-%m-%d')}') .. todatetime('{end_processing_timestamp.strftime('%Y-%m-%d')}'))\n",
        "| where State == 'Completed' and Success == 'true'\n",
        "| where SkillName has 'GetSentinelIncidentAlerts'\n",
        "| extend SessionId = case(isempty(SessionId), sessionid, SessionId)\n",
        "| extend SkillOutput = parse_json(SkillOutput) \n",
        "| mv-expand SkillOutput = SkillOutput.value to typeof(dynamic)\n",
        "| extend AlertName = tostring(SkillOutput.name)\n",
        "| where isnotempty(AlertName)\n",
        "| extend ExtractedAlertNodeAttributes = dynamic_to_json(bag_pack(\"extracted_via_static\", \"True\"))\n",
        "| join kind=inner(\n",
        "    Sessions\n",
        "    | distinct SessionId, TenantId\n",
        ") on SessionId\n",
        "| project SessionId, SkillInvocationId, AlertName, TenantId, ExtractedAlertNodeAttributes\n",
        "\"\"\"\n",
        "\n",
        "evaluation_skill_invocations_alert_static_sdf = spark.read \\\n",
        "    .format(\"com.microsoft.kusto.spark.synapse.datasource\") \\\n",
        "    .option(\"spark.synapse.linkedService\", \"medeinaapiprod\") \\\n",
        "    .option(\"kustoDatabase\", \"medeinalogs\") \\\n",
        "    .option(\"authType\", \"LS\")\\\n",
        "    .option(\"kustoQuery\", alerts_query_str) \\\n",
        "    .load() \\\n",
        "    .withColumnRenamed(\"AlertName\", \"Identifier\")"
      ]
    },
    {
      "cell_type": "code",
      "execution_count": 30,
      "metadata": {
        "jupyter": {
          "outputs_hidden": false,
          "source_hidden": false
        },
        "nteract": {
          "transient": {
            "deleting": false
          }
        }
      },
      "outputs": [
        {
          "data": {
            "application/vnd.livy.statement-meta+json": {
              "execution_finish_time": "2023-10-09T19:45:24.2148728Z",
              "execution_start_time": "2023-10-09T19:45:20.1981471Z",
              "livy_statement_state": "available",
              "parent_msg_id": "8ef6a4a1-2e12-445f-a9b7-74fb55353e77",
              "queued_time": "2023-10-09T19:10:23.86035Z",
              "session_id": "154",
              "session_start_time": null,
              "spark_jobs": null,
              "spark_pool": "maxpiasevoliL",
              "state": "finished",
              "statement_id": 30
            },
            "text/plain": [
              "StatementMeta(maxpiasevoliL, 154, 30, Finished, Available)"
            ]
          },
          "metadata": {},
          "output_type": "display_data"
        },
        {
          "name": "stdout",
          "output_type": "stream",
          "text": [
            "Potential alert identifiers extracted via static:  889\n"
          ]
        }
      ],
      "source": [
        "print(\"Potential alert identifiers extracted via static: \", evaluation_skill_invocations_alert_static_sdf.count())"
      ]
    },
    {
      "cell_type": "code",
      "execution_count": 31,
      "metadata": {
        "jupyter": {
          "outputs_hidden": false,
          "source_hidden": false
        },
        "nteract": {
          "transient": {
            "deleting": false
          }
        }
      },
      "outputs": [
        {
          "data": {
            "application/vnd.livy.statement-meta+json": {
              "execution_finish_time": "2023-10-09T19:45:27.2499591Z",
              "execution_start_time": "2023-10-09T19:45:24.3669848Z",
              "livy_statement_state": "available",
              "parent_msg_id": "fd6097c6-04c7-4ae3-ae86-1ecf2a9182a6",
              "queued_time": "2023-10-09T19:10:24.1364382Z",
              "session_id": "154",
              "session_start_time": null,
              "spark_jobs": null,
              "spark_pool": "maxpiasevoliL",
              "state": "finished",
              "statement_id": 31
            },
            "text/plain": [
              "StatementMeta(maxpiasevoliL, 154, 31, Finished, Available)"
            ]
          },
          "metadata": {},
          "output_type": "display_data"
        }
      ],
      "source": [
        "static_session_and_alert_on_alert_guid = join_session_and_alert_on_alert_guid(evaluation_skill_invocations_alert_static_sdf, \"inner\")"
      ]
    },
    {
      "cell_type": "code",
      "execution_count": 32,
      "metadata": {
        "jupyter": {
          "outputs_hidden": false,
          "source_hidden": false
        },
        "nteract": {
          "transient": {
            "deleting": false
          }
        }
      },
      "outputs": [
        {
          "data": {
            "application/vnd.livy.statement-meta+json": {
              "execution_finish_time": "2023-10-09T19:45:36.8435306Z",
              "execution_start_time": "2023-10-09T19:45:27.4418747Z",
              "livy_statement_state": "available",
              "parent_msg_id": "ff5e4dcf-e24d-46e5-957d-71ee67b047ec",
              "queued_time": "2023-10-09T19:10:24.6166024Z",
              "session_id": "154",
              "session_start_time": null,
              "spark_jobs": null,
              "spark_pool": "maxpiasevoliL",
              "state": "finished",
              "statement_id": 32
            },
            "text/plain": [
              "StatementMeta(maxpiasevoliL, 154, 32, Finished, Available)"
            ]
          },
          "metadata": {},
          "output_type": "display_data"
        },
        {
          "name": "stdout",
          "output_type": "stream",
          "text": [
            "Alert identifiers extracted via static:  35\n"
          ]
        }
      ],
      "source": [
        "print(\"Alert identifiers extracted via static: \", static_session_and_alert_on_alert_guid.count())"
      ]
    },
    {
      "cell_type": "markdown",
      "metadata": {
        "nteract": {
          "transient": {
            "deleting": false
          }
        }
      },
      "source": [
        "# Sentinl V3 Security Entity Extraction\n",
        "(Skill --> Entity --> Alert)"
      ]
    },
    {
      "cell_type": "code",
      "execution_count": 33,
      "metadata": {
        "jupyter": {
          "outputs_hidden": false,
          "source_hidden": false
        },
        "nteract": {
          "transient": {
            "deleting": false
          }
        }
      },
      "outputs": [
        {
          "data": {
            "application/vnd.livy.statement-meta+json": {
              "execution_finish_time": "2023-10-09T19:45:37.1795005Z",
              "execution_start_time": "2023-10-09T19:45:37.0203516Z",
              "livy_statement_state": "available",
              "parent_msg_id": "57ef3363-258b-4b5a-988e-7a62ca286819",
              "queued_time": "2023-10-09T19:10:24.8513691Z",
              "session_id": "154",
              "session_start_time": null,
              "spark_jobs": null,
              "spark_pool": "maxpiasevoliL",
              "state": "finished",
              "statement_id": 33
            },
            "text/plain": [
              "StatementMeta(maxpiasevoliL, 154, 33, Finished, Available)"
            ]
          },
          "metadata": {},
          "output_type": "display_data"
        }
      ],
      "source": [
        "def join_session_and_alert_on_identifier(session_sdf, join_type = \"right_outer\", join_on_entity_type = True):\n",
        "    if join_on_entity_type:\n",
        "        session_and_alert_data = (\n",
        "            deduped_alert_data_with_entities_flattened\n",
        "                .join(\n",
        "                    session_sdf, \n",
        "                    (deduped_alert_data_with_entities_flattened.WorkspaceTenantId == session_sdf.TenantId) \n",
        "                        & (deduped_alert_data_with_entities_flattened.IdentifierValue == session_sdf.Identifier)\n",
        "                        & (deduped_alert_data_with_entities_flattened.EntityType == session_sdf.ExtractedEntityType),\n",
        "                    join_type\n",
        "                )\n",
        "        )\n",
        "    else:\n",
        "        # including this case since regex won't have specified entity type\n",
        "        session_and_alert_data = (\n",
        "            deduped_alert_data_with_entities_flattened\n",
        "                .join(\n",
        "                    session_sdf, \n",
        "                    (deduped_alert_data_with_entities_flattened.WorkspaceTenantId == session_sdf.TenantId) \n",
        "                        & (deduped_alert_data_with_entities_flattened.IdentifierValue == session_sdf.Identifier),\n",
        "                    join_type\n",
        "                )\n",
        "        )\n",
        "\n",
        "    session_and_alert_on_identifier = (\n",
        "        session_and_alert_data\n",
        "            .select(\n",
        "                \"WorkspaceId\",\n",
        "                \"TenantId\",\n",
        "                f.coalesce(f.col(\"EntityType\"), f.col(\"ExtractedEntityType\")).alias(\"EntityType\"),\n",
        "                f.col(\"Identifier\").alias(\"IdentifierValue\"),\n",
        "                \"SystemAlertId\",\n",
        "                \"SessionId\",\n",
        "                \"SkillInvocationId\",\n",
        "                \"ExtractedEntityNodeAttributes\"\n",
        "            )\n",
        "            .persist()\n",
        "    )\n",
        "\n",
        "    return session_and_alert_on_identifier"
      ]
    },
    {
      "cell_type": "code",
      "execution_count": 34,
      "metadata": {
        "jupyter": {
          "outputs_hidden": false,
          "source_hidden": false
        },
        "nteract": {
          "transient": {
            "deleting": false
          }
        }
      },
      "outputs": [
        {
          "data": {
            "application/vnd.livy.statement-meta+json": {
              "execution_finish_time": "2023-10-09T19:45:48.068702Z",
              "execution_start_time": "2023-10-09T19:45:37.3442257Z",
              "livy_statement_state": "available",
              "parent_msg_id": "95978287-0bca-41d5-942c-c0077fa9a808",
              "queued_time": "2023-10-09T19:10:28.0643652Z",
              "session_id": "154",
              "session_start_time": null,
              "spark_jobs": null,
              "spark_pool": "maxpiasevoliL",
              "state": "finished",
              "statement_id": 34
            },
            "text/plain": [
              "StatementMeta(maxpiasevoliL, 154, 34, Finished, Available)"
            ]
          },
          "metadata": {},
          "output_type": "display_data"
        }
      ],
      "source": [
        "regex_session_and_alert_on_identifier = join_session_and_alert_on_identifier(evaluation_skill_invocations_identifiers_regex, join_type=\"inner\", join_on_entity_type=False)"
      ]
    },
    {
      "cell_type": "code",
      "execution_count": 35,
      "metadata": {
        "jupyter": {
          "outputs_hidden": false,
          "source_hidden": false
        },
        "nteract": {
          "transient": {
            "deleting": false
          }
        }
      },
      "outputs": [
        {
          "data": {
            "application/vnd.livy.statement-meta+json": {
              "execution_finish_time": "2023-10-09T19:46:13.4554627Z",
              "execution_start_time": "2023-10-09T19:45:48.2628871Z",
              "livy_statement_state": "available",
              "parent_msg_id": "87ccceba-6c40-46b7-87fa-5fa250555b1e",
              "queued_time": "2023-10-09T19:10:28.3992112Z",
              "session_id": "154",
              "session_start_time": null,
              "spark_jobs": null,
              "spark_pool": "maxpiasevoliL",
              "state": "finished",
              "statement_id": 35
            },
            "text/plain": [
              "StatementMeta(maxpiasevoliL, 154, 35, Finished, Available)"
            ]
          },
          "metadata": {},
          "output_type": "display_data"
        },
        {
          "name": "stdout",
          "output_type": "stream",
          "text": [
            "Entities extracted via regex:  6720478\n"
          ]
        }
      ],
      "source": [
        "print(\"Entities extracted via regex: \", regex_session_and_alert_on_identifier.count())"
      ]
    },
    {
      "cell_type": "code",
      "execution_count": 36,
      "metadata": {
        "jupyter": {
          "outputs_hidden": false,
          "source_hidden": false
        },
        "nteract": {
          "transient": {
            "deleting": false
          }
        }
      },
      "outputs": [
        {
          "data": {
            "application/vnd.livy.statement-meta+json": {
              "execution_finish_time": "2023-10-09T19:46:14.7996226Z",
              "execution_start_time": "2023-10-09T19:46:13.633902Z",
              "livy_statement_state": "available",
              "parent_msg_id": "3892316b-2bfd-4148-82b4-56b9a5a6a096",
              "queued_time": "2023-10-09T19:10:28.6088492Z",
              "session_id": "154",
              "session_start_time": null,
              "spark_jobs": null,
              "spark_pool": "maxpiasevoliL",
              "state": "finished",
              "statement_id": 36
            },
            "text/plain": [
              "StatementMeta(maxpiasevoliL, 154, 36, Finished, Available)"
            ]
          },
          "metadata": {},
          "output_type": "display_data"
        },
        {
          "name": "stdout",
          "output_type": "stream",
          "text": [
            "+--------------------+-----------+\n",
            "|          EntityType|EntityCount|\n",
            "+--------------------+-----------+\n",
            "|             account|        291|\n",
            "|      azure-resource|         34|\n",
            "|                file|        212|\n",
            "|                host|         38|\n",
            "|                  ip|        627|\n",
            "|             mailbox|        775|\n",
            "|mailboxconfiguration|          1|\n",
            "|         mailmessage|        984|\n",
            "|             process|        345|\n",
            "|      security-group|          2|\n",
            "|                 url|          4|\n",
            "+--------------------+-----------+\n",
            "\n"
          ]
        }
      ],
      "source": [
        "regex_session_and_alert_on_identifier.groupBy(\"EntityType\").agg(f.size(f.collect_set(\"IdentifierValue\")).alias(\"EntityCount\")).orderBy(f.col(\"EntityType\").asc()).show(n=100)"
      ]
    },
    {
      "cell_type": "code",
      "execution_count": 37,
      "metadata": {
        "jupyter": {
          "outputs_hidden": false,
          "source_hidden": false
        },
        "nteract": {
          "transient": {
            "deleting": false
          }
        }
      },
      "outputs": [
        {
          "data": {
            "application/vnd.livy.statement-meta+json": {
              "execution_finish_time": "2023-10-09T19:46:15.5378057Z",
              "execution_start_time": "2023-10-09T19:46:14.9664136Z",
              "livy_statement_state": "available",
              "parent_msg_id": "995e311f-9de6-4545-9b25-07dc411a1d54",
              "queued_time": "2023-10-09T19:10:28.8142251Z",
              "session_id": "154",
              "session_start_time": null,
              "spark_jobs": null,
              "spark_pool": "maxpiasevoliL",
              "state": "finished",
              "statement_id": 37
            },
            "text/plain": [
              "StatementMeta(maxpiasevoliL, 154, 37, Finished, Available)"
            ]
          },
          "metadata": {},
          "output_type": "display_data"
        }
      ],
      "source": [
        "# static method for extracting entities \n",
        "header = f\"\"\"let entity_field_delimiter = \"__\";\n",
        "EvaluationSkillInvocations \n",
        "| where PreciseTimeStamp between(todatetime('{start_processing_timestamp.strftime('%Y-%m-%d')}') .. todatetime('{end_processing_timestamp.strftime('%Y-%m-%d')}'))\n",
        "\"\"\"\n",
        "\n",
        "entities_query_str = header + \"\"\"\n",
        "| where State == 'Completed' and Success == 'true'\n",
        "| where SkillName contains 'GetSentinelIncidentEntitiesByUrl'\n",
        "| extend SessionId = case(isempty(SessionId), sessionid, SessionId) \n",
        "| extend SkillOutput = parse_json(SkillOutput) \n",
        "| join kind=inner(\n",
        "    Sessions\n",
        "    | distinct SessionId, TenantId\n",
        ") on SessionId \n",
        "| mv-expand SkillOutput = todynamic(SkillOutput.entities) // to typeof(dynamic)\n",
        "| extend EntityId = tostring(SkillOutput.name)\n",
        "| extend EntityType = tolower(tostring(SkillOutput.kind))\n",
        "| extend Properties = todynamic(SkillOutput.properties) \n",
        "| where isnotempty(EntityType)\n",
        "| extend Identifiers = case(\n",
        "    EntityType == 'account', pack_array(strcat(tostring(Properties.accountName), \"@\", tostring(Properties.upnSuffix)), tostring(Properties.aadUserId), tostring(Properties.sid), tostring(Properties.accountName)),\n",
        "    EntityType == 'cloudapplication', pack_array(tostring(Properties.appId), strcat(tostring(Properties.appName), entity_field_delimiter, tostring(Properties.instanceName))),\n",
        "    EntityType == 'file', pack_array(tostring(Properties.fileName), strcat(tostring(Properties.directory), entity_field_delimiter, tostring(Properties.fileName))),\n",
        "    EntityType == 'filehash', pack_array(strcat(tostring(Properties.algorithm), entity_field_delimiter, tostring(Properties.hashValue))),\n",
        "    EntityType == 'host', pack_array(tostring(Properties.azureID), tostring(Properties.hostName), tostring(Properties.omsAgentID)),\n",
        "    EntityType == 'iotdevice', pack_array(tostring(Properties.deviceId)),\n",
        "    EntityType == 'ip', pack_array(tostring(Properties.address)),\n",
        "    EntityType == 'mailbox' or EntityType == \"mailboxconfiguration\", pack_array(tostring(Properties.mailboxPrimaryAddress)),\n",
        "    EntityType == 'mailcluster', pack_array(strcat(tostring(Properties.source), entity_field_delimiter, tostring(Properties.query))),\n",
        "    EntityType == 'mailmessage', pack_array(tostring(Properties.sender), tostring(Properties.recipient), tostring(Properties.senderIP)),\n",
        "    EntityType == 'oauth-application', pack_array(tostring(Properties.oAuthAppId)),\n",
        "    EntityType == 'process', pack_array(strcat(tostring(Properties.processId), entity_field_delimiter, tostring(Properties.creationTimeUtc), entity_field_delimiter, tostring(Properties.commandLine))),\n",
        "    EntityType == 'security-group', pack_array(tostring(Properties.sid), tostring(Properties.objectGuid)),\n",
        "    EntityType == 'service-principal', pack_array(tostring(Properties.servicePrincipalObjectId)),\n",
        "    EntityType == 'url', pack_array(tostring(Properties.url)),\n",
        "    EntityType == 'azure-resource', pack_array(\n",
        "        tolower(tostring(Properties.resourceId)),\n",
        "        extract(\"subscriptions/([0-9a-f]{8}-[0-9a-f]{4}-[0-9a-f]{4}-[0-9a-f]{4}-[0-9a-f]{12})\", 1, tostring(tolower(Properties.resourceId))),\n",
        "        extract(\"resourcegroups/([^/]*)/\", 1, tolower(tostring(Properties.resourceId)))),\n",
        "    pack_array(\"\")\n",
        ")\n",
        "| extend ExtractedEntityType = case(EntityType == \"cloudapplication\", \"cloud-application\", EntityType)\n",
        "| extend EntityTypeBag = bag_pack(\"node_type\", ExtractedEntityType, \"extracted_via_static\", \"True\")\n",
        "| extend ExtractedEntityNodeAttributes = dynamic_to_json(bag_merge(Properties, EntityTypeBag))\n",
        "| mv-expand Identifiers\n",
        "| extend Identifier = tolower(tostring(Identifiers))\n",
        "| project SessionId, SkillInvocationId, TenantId, Identifier, ExtractedEntityType, ExtractedEntityNodeAttributes\n",
        "\"\"\"\n",
        "\n",
        "evaluation_skill_invocations_entities_static_sdf = spark.read \\\n",
        "    .format(\"com.microsoft.kusto.spark.synapse.datasource\") \\\n",
        "    .option(\"spark.synapse.linkedService\", \"medeinaapiprod\") \\\n",
        "    .option(\"kustoDatabase\", \"medeinalogs\") \\\n",
        "    .option(\"authType\", \"LS\")\\\n",
        "    .option(\"kustoQuery\", entities_query_str) \\\n",
        "    .load()"
      ]
    },
    {
      "cell_type": "code",
      "execution_count": 38,
      "metadata": {
        "jupyter": {
          "outputs_hidden": false,
          "source_hidden": false
        },
        "nteract": {
          "transient": {
            "deleting": false
          }
        }
      },
      "outputs": [
        {
          "data": {
            "application/vnd.livy.statement-meta+json": {
              "execution_finish_time": "2023-10-09T19:46:20.3187995Z",
              "execution_start_time": "2023-10-09T19:46:15.7026973Z",
              "livy_statement_state": "available",
              "parent_msg_id": "2a35db46-0356-4c40-918f-3d7fc1f81acc",
              "queued_time": "2023-10-09T19:10:28.9951772Z",
              "session_id": "154",
              "session_start_time": null,
              "spark_jobs": null,
              "spark_pool": "maxpiasevoliL",
              "state": "finished",
              "statement_id": 38
            },
            "text/plain": [
              "StatementMeta(maxpiasevoliL, 154, 38, Finished, Available)"
            ]
          },
          "metadata": {},
          "output_type": "display_data"
        },
        {
          "name": "stdout",
          "output_type": "stream",
          "text": [
            "Potential entity identifiers extracted via static:  1222\n"
          ]
        }
      ],
      "source": [
        "print(\"Potential entity identifiers extracted via static: \", evaluation_skill_invocations_entities_static_sdf.count())"
      ]
    },
    {
      "cell_type": "code",
      "execution_count": 39,
      "metadata": {
        "jupyter": {
          "outputs_hidden": false,
          "source_hidden": false
        },
        "nteract": {
          "transient": {
            "deleting": false
          }
        }
      },
      "outputs": [
        {
          "data": {
            "application/vnd.livy.statement-meta+json": {
              "execution_finish_time": "2023-10-09T19:46:20.6735587Z",
              "execution_start_time": "2023-10-09T19:46:20.5009807Z",
              "livy_statement_state": "available",
              "parent_msg_id": "4ee16246-6233-48c5-ba68-b9015ab9e422",
              "queued_time": "2023-10-09T19:10:29.382945Z",
              "session_id": "154",
              "session_start_time": null,
              "spark_jobs": null,
              "spark_pool": "maxpiasevoliL",
              "state": "finished",
              "statement_id": 39
            },
            "text/plain": [
              "StatementMeta(maxpiasevoliL, 154, 39, Finished, Available)"
            ]
          },
          "metadata": {},
          "output_type": "display_data"
        },
        {
          "name": "stdout",
          "output_type": "stream",
          "text": [
            "root\n",
            " |-- SessionId: string (nullable = true)\n",
            " |-- SkillInvocationId: string (nullable = true)\n",
            " |-- TenantId: string (nullable = true)\n",
            " |-- Identifier: string (nullable = true)\n",
            " |-- ExtractedEntityType: string (nullable = true)\n",
            " |-- ExtractedEntityNodeAttributes: string (nullable = true)\n",
            "\n"
          ]
        }
      ],
      "source": [
        "evaluation_skill_invocations_entities_static_sdf.printSchema()"
      ]
    },
    {
      "cell_type": "code",
      "execution_count": 40,
      "metadata": {
        "jupyter": {
          "outputs_hidden": false,
          "source_hidden": false
        },
        "nteract": {
          "transient": {
            "deleting": false
          }
        }
      },
      "outputs": [
        {
          "data": {
            "application/vnd.livy.statement-meta+json": {
              "execution_finish_time": "2023-10-09T19:46:23.6559136Z",
              "execution_start_time": "2023-10-09T19:46:20.8254576Z",
              "livy_statement_state": "available",
              "parent_msg_id": "81304f16-b47f-4dc5-90e2-a8b41c6fe1f9",
              "queued_time": "2023-10-09T19:10:29.556726Z",
              "session_id": "154",
              "session_start_time": null,
              "spark_jobs": null,
              "spark_pool": "maxpiasevoliL",
              "state": "finished",
              "statement_id": 40
            },
            "text/plain": [
              "StatementMeta(maxpiasevoliL, 154, 40, Finished, Available)"
            ]
          },
          "metadata": {},
          "output_type": "display_data"
        }
      ],
      "source": [
        "static_session_and_alert_on_identifier = join_session_and_alert_on_identifier(evaluation_skill_invocations_entities_static_sdf)"
      ]
    },
    {
      "cell_type": "code",
      "execution_count": 41,
      "metadata": {
        "jupyter": {
          "outputs_hidden": false,
          "source_hidden": false
        },
        "nteract": {
          "transient": {
            "deleting": false
          }
        }
      },
      "outputs": [
        {
          "data": {
            "application/vnd.livy.statement-meta+json": {
              "execution_finish_time": "2023-10-09T19:46:44.8601645Z",
              "execution_start_time": "2023-10-09T19:46:23.8127811Z",
              "livy_statement_state": "available",
              "parent_msg_id": "4e4dac2b-d37a-4b6e-9dbb-746e0249d2d3",
              "queued_time": "2023-10-09T19:10:29.7692716Z",
              "session_id": "154",
              "session_start_time": null,
              "spark_jobs": null,
              "spark_pool": "maxpiasevoliL",
              "state": "finished",
              "statement_id": 41
            },
            "text/plain": [
              "StatementMeta(maxpiasevoliL, 154, 41, Finished, Available)"
            ]
          },
          "metadata": {},
          "output_type": "display_data"
        },
        {
          "name": "stdout",
          "output_type": "stream",
          "text": [
            "Entity identifiers extracted via static:  11387\n"
          ]
        }
      ],
      "source": [
        "print(\"Entity identifiers extracted via static: \", static_session_and_alert_on_identifier.count())"
      ]
    },
    {
      "cell_type": "code",
      "execution_count": 42,
      "metadata": {
        "jupyter": {
          "outputs_hidden": false,
          "source_hidden": false
        },
        "nteract": {
          "transient": {
            "deleting": false
          }
        }
      },
      "outputs": [
        {
          "data": {
            "application/vnd.livy.statement-meta+json": {
              "execution_finish_time": "2023-10-09T19:46:45.7704273Z",
              "execution_start_time": "2023-10-09T19:46:45.606249Z",
              "livy_statement_state": "available",
              "parent_msg_id": "3c66ac5b-03c7-4bcf-8fae-6ac807dd3077",
              "queued_time": "2023-10-09T19:10:29.9689253Z",
              "session_id": "154",
              "session_start_time": null,
              "spark_jobs": null,
              "spark_pool": "maxpiasevoliL",
              "state": "finished",
              "statement_id": 42
            },
            "text/plain": [
              "StatementMeta(maxpiasevoliL, 154, 42, Finished, Available)"
            ]
          },
          "metadata": {},
          "output_type": "display_data"
        },
        {
          "name": "stdout",
          "output_type": "stream",
          "text": [
            "root\n",
            " |-- WorkspaceId: string (nullable = true)\n",
            " |-- TenantId: string (nullable = true)\n",
            " |-- EntityType: string (nullable = true)\n",
            " |-- IdentifierValue: string (nullable = true)\n",
            " |-- SystemAlertId: string (nullable = true)\n",
            " |-- SessionId: string (nullable = true)\n",
            " |-- SkillInvocationId: string (nullable = true)\n",
            " |-- ExtractedEntityNodeAttributes: string (nullable = true)\n",
            "\n"
          ]
        }
      ],
      "source": [
        "static_session_and_alert_on_identifier.printSchema()"
      ]
    },
    {
      "cell_type": "code",
      "execution_count": 43,
      "metadata": {
        "jupyter": {
          "outputs_hidden": false,
          "source_hidden": false
        },
        "nteract": {
          "transient": {
            "deleting": false
          }
        }
      },
      "outputs": [
        {
          "data": {
            "application/vnd.livy.statement-meta+json": {
              "execution_finish_time": "2023-10-09T19:46:46.4899222Z",
              "execution_start_time": "2023-10-09T19:46:45.9244469Z",
              "livy_statement_state": "available",
              "parent_msg_id": "b16f814a-e770-498a-b9d2-5f18f4136e38",
              "queued_time": "2023-10-09T19:10:30.197521Z",
              "session_id": "154",
              "session_start_time": null,
              "spark_jobs": null,
              "spark_pool": "maxpiasevoliL",
              "state": "finished",
              "statement_id": 43
            },
            "text/plain": [
              "StatementMeta(maxpiasevoliL, 154, 43, Finished, Available)"
            ]
          },
          "metadata": {},
          "output_type": "display_data"
        },
        {
          "name": "stdout",
          "output_type": "stream",
          "text": [
            "check entity types for which alert enrichment is working\n",
            "+-----------------+\n",
            "|       EntityType|\n",
            "+-----------------+\n",
            "|          account|\n",
            "|cloud-application|\n",
            "|             host|\n",
            "|               ip|\n",
            "|          mailbox|\n",
            "|      mailcluster|\n",
            "|      mailmessage|\n",
            "|              url|\n",
            "+-----------------+\n",
            "\n"
          ]
        }
      ],
      "source": [
        "# check entity types for which alert enrichment is working\n",
        "print(\"check entity types for which alert enrichment is working\")\n",
        "static_session_and_alert_on_identifier.where(f.col(\"SystemAlertId\").isNotNull()).select(\"EntityType\").distinct().orderBy(f.col(\"EntityType\").asc()).show()"
      ]
    },
    {
      "cell_type": "code",
      "execution_count": 44,
      "metadata": {
        "jupyter": {
          "outputs_hidden": false,
          "source_hidden": false
        },
        "nteract": {
          "transient": {
            "deleting": false
          }
        }
      },
      "outputs": [
        {
          "data": {
            "application/vnd.livy.statement-meta+json": {
              "execution_finish_time": "2023-10-09T19:46:47.2229675Z",
              "execution_start_time": "2023-10-09T19:46:46.6431297Z",
              "livy_statement_state": "available",
              "parent_msg_id": "5ab0dd52-ca0a-428e-9267-8859bcd939a5",
              "queued_time": "2023-10-09T19:10:30.3908675Z",
              "session_id": "154",
              "session_start_time": null,
              "spark_jobs": null,
              "spark_pool": "maxpiasevoliL",
              "state": "finished",
              "statement_id": 44
            },
            "text/plain": [
              "StatementMeta(maxpiasevoliL, 154, 44, Finished, Available)"
            ]
          },
          "metadata": {},
          "output_type": "display_data"
        },
        {
          "name": "stdout",
          "output_type": "stream",
          "text": [
            "check all entity types extracted by static method\n",
            "+-----------------+\n",
            "|       EntityType|\n",
            "+-----------------+\n",
            "|          account|\n",
            "|    azureresource|\n",
            "|cloud-application|\n",
            "|    dnsresolution|\n",
            "|             file|\n",
            "|         filehash|\n",
            "|             host|\n",
            "|               ip|\n",
            "|          mailbox|\n",
            "|      mailcluster|\n",
            "|      mailmessage|\n",
            "|              url|\n",
            "+-----------------+\n",
            "\n"
          ]
        }
      ],
      "source": [
        "# check all entity types extracted by static method\n",
        "print(\"check all entity types extracted by static method\")\n",
        "static_session_and_alert_on_identifier.select(\"EntityType\").distinct().orderBy(f.col(\"EntityType\").asc()).show()"
      ]
    },
    {
      "cell_type": "code",
      "execution_count": 45,
      "metadata": {
        "jupyter": {
          "outputs_hidden": false,
          "source_hidden": false
        },
        "nteract": {
          "transient": {
            "deleting": false
          }
        }
      },
      "outputs": [
        {
          "data": {
            "application/vnd.livy.statement-meta+json": {
              "execution_finish_time": "2023-10-09T19:47:00.2684377Z",
              "execution_start_time": "2023-10-09T19:46:47.3883672Z",
              "livy_statement_state": "available",
              "parent_msg_id": "14de9031-5af5-4d0e-a9d0-715d22135b97",
              "queued_time": "2023-10-09T19:10:30.6164232Z",
              "session_id": "154",
              "session_start_time": null,
              "spark_jobs": null,
              "spark_pool": "maxpiasevoliL",
              "state": "finished",
              "statement_id": 45
            },
            "text/plain": [
              "StatementMeta(maxpiasevoliL, 154, 45, Finished, Available)"
            ]
          },
          "metadata": {},
          "output_type": "display_data"
        }
      ],
      "source": [
        "evaluation_skill_invocations_entities_induction_raw = (\n",
        "    spark\n",
        "        .read\n",
        "        .format('delta')\n",
        "        .load('abfss://mlap@rdamlapeussa.dfs.core.windows.net/skg/induction_entity_extraction/gpt_extracted_entities_prompts_v2')\n",
        "        .filter(\n",
        "            (f.col(\"ProcessedTimestamp\") >= start_processing_timestamp)\n",
        "            & (f.col(\"ProcessedTimestamp\") < end_processing_timestamp)\n",
        "        )\n",
        "        .filter(~f.col('Entities').contains(\"NONE\"))\n",
        "        .filter(~f.col('Entities').contains(\"None\"))\n",
        "        \n",
        ")"
      ]
    },
    {
      "cell_type": "code",
      "execution_count": 46,
      "metadata": {
        "jupyter": {
          "outputs_hidden": false,
          "source_hidden": false
        },
        "nteract": {
          "transient": {
            "deleting": false
          }
        }
      },
      "outputs": [
        {
          "data": {
            "application/vnd.livy.statement-meta+json": {
              "execution_finish_time": "2023-10-09T19:47:07.506002Z",
              "execution_start_time": "2023-10-09T19:47:00.4368649Z",
              "livy_statement_state": "available",
              "parent_msg_id": "2c29061e-0abb-4f5c-8745-fd704699522d",
              "queued_time": "2023-10-09T19:10:30.785525Z",
              "session_id": "154",
              "session_start_time": null,
              "spark_jobs": null,
              "spark_pool": "maxpiasevoliL",
              "state": "finished",
              "statement_id": 46
            },
            "text/plain": [
              "StatementMeta(maxpiasevoliL, 154, 46, Finished, Available)"
            ]
          },
          "metadata": {},
          "output_type": "display_data"
        }
      ],
      "source": [
        "rows = []\n",
        "for row in evaluation_skill_invocations_entities_induction_raw.collect():\n",
        "    \n",
        "    entities = row.Entities\n",
        "    session_id = row.SessionId\n",
        "    skill_invocation_id = row.SkillInvocationId\n",
        "    tenant_id = row.TenantId \n",
        "    skillname = row.SkillName\n",
        "    parsed_list = []\n",
        "    prev_type = \"\"\n",
        "    \n",
        "    for entity in str(entities).strip().split(\",\"):\n",
        "        \n",
        "        entity_ = entity.split(\":\",1)\n",
        "        if len(entity_) == 2:\n",
        "            attr_type = entity_[0]\n",
        "            value = entity_[1]\n",
        "        else:\n",
        "            continue\n",
        "\n",
        "        if attr_type == \"domain\" and prev_type == \"user\":\n",
        "            parsed_list.append(str(prev_type + \":\" + prev_value+\"@\"+value)) \n",
        "            \n",
        "        else:    \n",
        "            parsed_list.append(attr_type + \":\" + value)\n",
        "\n",
        "        prev_type = attr_type\n",
        "        prev_value = value\n",
        "\n",
        "    parsed_list_str = \",\".join(str(x) for x in parsed_list)\n",
        "    row = {}\n",
        "    row['SessionId'] = session_id\n",
        "    row['SkillInvocationId'] = skill_invocation_id\n",
        "    row['SkillName'] = skillname\n",
        "    row['TenantId'] = tenant_id\n",
        "    row['Entities'] = parsed_list_str\n",
        "    rows.append(row)\n",
        "\n",
        "schema = StructType([StructField(\"SessionId\", StringType(), True), StructField(\"SkillInvocationId\", StringType(), True), StructField(\"SkillName\", StringType(), True),\n",
        "                        StructField(\"TenantId\", StringType(), True), StructField(\"Entities\", StringType(), True),])\n",
        "evaluation_skill_invocations_entities_induction = (\n",
        "    spark\n",
        "        .createDataFrame((Row(**x) for x in rows), schema)\n",
        "        .select('*', f.explode(f.split(\"Entities\", \",\")).alias(\"EntityPair\"))\n",
        "        .select('*', f.trim(f.element_at(f.split(\"EntityPair\", \":\"), 1)).alias(\"ExtractedEntityType\"), f.trim(f.element_at(f.split(\"EntityPair\", \":\"), 2)).alias(\"Identifier\"))\n",
        "        .drop('Entities', 'EntityPair', 'SkillName')\n",
        "        .where(f.col('ExtractedEntityType').isin('user', 'device', 'ipaddress'))\n",
        "        .withColumn('ExtractedEntityType', f.when(f.col(\"ExtractedEntityType\") == \"user\", \"account\").otherwise(f.col(\"ExtractedEntityType\")))\n",
        "        .withColumn('ExtractedEntityType', f.when(f.col(\"ExtractedEntityType\") == \"ipaddress\", \"ip\").otherwise(f.col(\"ExtractedEntityType\")))\n",
        "        .distinct()\n",
        "        .withColumn(\n",
        "            'ExtractedEntityNodeAttributes', \n",
        "            f.to_json(\n",
        "                f.create_map(\n",
        "                    f.lit('node_type'), f.col(\"ExtractedEntityType\"),\n",
        "                    f.lit('extracted_via_induction'), f.lit(\"True\")\n",
        "                )\n",
        "            )\n",
        "        )\n",
        ")"
      ]
    },
    {
      "cell_type": "code",
      "execution_count": 47,
      "metadata": {
        "jupyter": {
          "outputs_hidden": false,
          "source_hidden": false
        },
        "nteract": {
          "transient": {
            "deleting": false
          }
        }
      },
      "outputs": [
        {
          "data": {
            "application/vnd.livy.statement-meta+json": {
              "execution_finish_time": "2023-10-09T19:47:09.576854Z",
              "execution_start_time": "2023-10-09T19:47:07.6696637Z",
              "livy_statement_state": "available",
              "parent_msg_id": "24f22d9e-30ac-4c2d-ac33-5c83fd4f0319",
              "queued_time": "2023-10-09T19:10:30.9744094Z",
              "session_id": "154",
              "session_start_time": null,
              "spark_jobs": null,
              "spark_pool": "maxpiasevoliL",
              "state": "finished",
              "statement_id": 47
            },
            "text/plain": [
              "StatementMeta(maxpiasevoliL, 154, 47, Finished, Available)"
            ]
          },
          "metadata": {},
          "output_type": "display_data"
        },
        {
          "name": "stdout",
          "output_type": "stream",
          "text": [
            "+-------------------+-----+\n",
            "|ExtractedEntityType|count|\n",
            "+-------------------+-----+\n",
            "|            account|  239|\n",
            "|                 ip|  104|\n",
            "|             device|   63|\n",
            "+-------------------+-----+\n",
            "\n"
          ]
        }
      ],
      "source": [
        "evaluation_skill_invocations_entities_induction.groupBy(\"ExtractedEntityType\").count().orderBy(f.col(\"count\").desc()).show()"
      ]
    },
    {
      "cell_type": "code",
      "execution_count": 48,
      "metadata": {
        "jupyter": {
          "outputs_hidden": false,
          "source_hidden": false
        },
        "nteract": {
          "transient": {
            "deleting": false
          }
        }
      },
      "outputs": [
        {
          "data": {
            "application/vnd.livy.statement-meta+json": {
              "execution_finish_time": "2023-10-09T19:47:10.3276867Z",
              "execution_start_time": "2023-10-09T19:47:09.7405475Z",
              "livy_statement_state": "available",
              "parent_msg_id": "4f9763e8-d583-46bf-a726-78340f39bf8b",
              "queued_time": "2023-10-09T19:10:31.1522257Z",
              "session_id": "154",
              "session_start_time": null,
              "spark_jobs": null,
              "spark_pool": "maxpiasevoliL",
              "state": "finished",
              "statement_id": 48
            },
            "text/plain": [
              "StatementMeta(maxpiasevoliL, 154, 48, Finished, Available)"
            ]
          },
          "metadata": {},
          "output_type": "display_data"
        },
        {
          "name": "stdout",
          "output_type": "stream",
          "text": [
            "Induction raw dataframe count:  406\n"
          ]
        }
      ],
      "source": [
        "print(\"Induction raw dataframe count: \", evaluation_skill_invocations_entities_induction.count())"
      ]
    },
    {
      "cell_type": "code",
      "execution_count": 49,
      "metadata": {
        "jupyter": {
          "outputs_hidden": false,
          "source_hidden": false
        },
        "nteract": {
          "transient": {
            "deleting": false
          }
        }
      },
      "outputs": [
        {
          "data": {
            "application/vnd.livy.statement-meta+json": {
              "execution_finish_time": "2023-10-09T19:47:10.6413696Z",
              "execution_start_time": "2023-10-09T19:47:10.4819566Z",
              "livy_statement_state": "available",
              "parent_msg_id": "a1055630-918b-414a-b642-307d72a5c5e5",
              "queued_time": "2023-10-09T19:10:31.3577911Z",
              "session_id": "154",
              "session_start_time": null,
              "spark_jobs": null,
              "spark_pool": "maxpiasevoliL",
              "state": "finished",
              "statement_id": 49
            },
            "text/plain": [
              "StatementMeta(maxpiasevoliL, 154, 49, Finished, Available)"
            ]
          },
          "metadata": {},
          "output_type": "display_data"
        }
      ],
      "source": [
        "# @Anand, include the MSR induction method for extracting alerts here\n",
        "induction_session_and_alert_on_identifier = join_session_and_alert_on_identifier(evaluation_skill_invocations_entities_induction, join_on_entity_type=False)"
      ]
    },
    {
      "cell_type": "code",
      "execution_count": 50,
      "metadata": {
        "jupyter": {
          "outputs_hidden": false,
          "source_hidden": false
        },
        "nteract": {
          "transient": {
            "deleting": false
          }
        }
      },
      "outputs": [
        {
          "data": {
            "application/vnd.livy.statement-meta+json": {
              "execution_finish_time": "2023-10-09T19:47:29.8482741Z",
              "execution_start_time": "2023-10-09T19:47:10.7920357Z",
              "livy_statement_state": "available",
              "parent_msg_id": "02deb7f3-2d5c-4839-9d7d-c9231a0c9f99",
              "queued_time": "2023-10-09T19:10:31.5744623Z",
              "session_id": "154",
              "session_start_time": null,
              "spark_jobs": null,
              "spark_pool": "maxpiasevoliL",
              "state": "finished",
              "statement_id": 50
            },
            "text/plain": [
              "StatementMeta(maxpiasevoliL, 154, 50, Finished, Available)"
            ]
          },
          "metadata": {},
          "output_type": "display_data"
        },
        {
          "name": "stdout",
          "output_type": "stream",
          "text": [
            "Total count of edges added by induction:  614\n"
          ]
        }
      ],
      "source": [
        "print(\"Total count of edges added by induction: \", induction_session_and_alert_on_identifier.count())"
      ]
    },
    {
      "cell_type": "code",
      "execution_count": 51,
      "metadata": {
        "jupyter": {
          "outputs_hidden": false,
          "source_hidden": false
        },
        "nteract": {
          "transient": {
            "deleting": false
          }
        }
      },
      "outputs": [
        {
          "data": {
            "application/vnd.livy.statement-meta+json": {
              "execution_finish_time": "2023-10-09T19:47:30.5642019Z",
              "execution_start_time": "2023-10-09T19:47:30.0169269Z",
              "livy_statement_state": "available",
              "parent_msg_id": "9a7d6b10-ba9d-46d0-8c86-19b90c35da21",
              "queued_time": "2023-10-09T19:10:31.8054378Z",
              "session_id": "154",
              "session_start_time": null,
              "spark_jobs": null,
              "spark_pool": "maxpiasevoliL",
              "state": "finished",
              "statement_id": 51
            },
            "text/plain": [
              "StatementMeta(maxpiasevoliL, 154, 51, Finished, Available)"
            ]
          },
          "metadata": {},
          "output_type": "display_data"
        },
        {
          "name": "stdout",
          "output_type": "stream",
          "text": [
            "Count of induction rows joined to sentinel alerts:  371\n"
          ]
        }
      ],
      "source": [
        "print(\"Count of induction rows joined to sentinel alerts: \", induction_session_and_alert_on_identifier.where(f.col(\"SystemAlertId\").isNull()).count())"
      ]
    },
    {
      "cell_type": "code",
      "execution_count": 52,
      "metadata": {
        "jupyter": {
          "outputs_hidden": false,
          "source_hidden": false
        },
        "nteract": {
          "transient": {
            "deleting": false
          }
        }
      },
      "outputs": [
        {
          "data": {
            "application/vnd.livy.statement-meta+json": {
              "execution_finish_time": "2023-10-09T19:47:30.8838624Z",
              "execution_start_time": "2023-10-09T19:47:30.7152101Z",
              "livy_statement_state": "available",
              "parent_msg_id": "5c154381-2384-42d8-86b0-787179696aab",
              "queued_time": "2023-10-09T19:10:32.0604224Z",
              "session_id": "154",
              "session_start_time": null,
              "spark_jobs": null,
              "spark_pool": "maxpiasevoliL",
              "state": "finished",
              "statement_id": 52
            },
            "text/plain": [
              "StatementMeta(maxpiasevoliL, 154, 52, Finished, Available)"
            ]
          },
          "metadata": {},
          "output_type": "display_data"
        },
        {
          "name": "stdout",
          "output_type": "stream",
          "text": [
            "root\n",
            " |-- WorkspaceId: string (nullable = true)\n",
            " |-- TenantId: string (nullable = true)\n",
            " |-- EntityType: string (nullable = true)\n",
            " |-- IdentifierValue: string (nullable = true)\n",
            " |-- SystemAlertId: string (nullable = true)\n",
            " |-- SessionId: string (nullable = true)\n",
            " |-- SkillInvocationId: string (nullable = true)\n",
            " |-- ExtractedEntityNodeAttributes: string (nullable = true)\n",
            "\n"
          ]
        }
      ],
      "source": [
        "induction_session_and_alert_on_identifier.printSchema()"
      ]
    },
    {
      "cell_type": "code",
      "execution_count": 53,
      "metadata": {
        "jupyter": {
          "outputs_hidden": false,
          "source_hidden": false
        },
        "nteract": {
          "transient": {
            "deleting": false
          }
        }
      },
      "outputs": [
        {
          "data": {
            "application/vnd.livy.statement-meta+json": {
              "execution_finish_time": "2023-10-09T19:47:31.2073705Z",
              "execution_start_time": "2023-10-09T19:47:31.0460432Z",
              "livy_statement_state": "available",
              "parent_msg_id": "c67a7363-0704-4181-afc4-d025c15d1a0d",
              "queued_time": "2023-10-09T19:10:32.2862924Z",
              "session_id": "154",
              "session_start_time": null,
              "spark_jobs": null,
              "spark_pool": "maxpiasevoliL",
              "state": "finished",
              "statement_id": 53
            },
            "text/plain": [
              "StatementMeta(maxpiasevoliL, 154, 53, Finished, Available)"
            ]
          },
          "metadata": {},
          "output_type": "display_data"
        },
        {
          "name": "stdout",
          "output_type": "stream",
          "text": [
            "root\n",
            " |-- WorkspaceId: string (nullable = true)\n",
            " |-- TenantId: string (nullable = true)\n",
            " |-- EntityType: string (nullable = true)\n",
            " |-- IdentifierValue: string (nullable = true)\n",
            " |-- SystemAlertId: string (nullable = true)\n",
            " |-- SessionId: string (nullable = true)\n",
            " |-- SkillInvocationId: string (nullable = true)\n",
            " |-- ExtractedEntityNodeAttributes: string (nullable = true)\n",
            "\n"
          ]
        }
      ],
      "source": [
        "static_session_and_alert_on_identifier.printSchema()"
      ]
    },
    {
      "cell_type": "code",
      "execution_count": 54,
      "metadata": {
        "jupyter": {
          "outputs_hidden": false,
          "source_hidden": false
        },
        "nteract": {
          "transient": {
            "deleting": false
          }
        }
      },
      "outputs": [
        {
          "data": {
            "application/vnd.livy.statement-meta+json": {
              "execution_finish_time": "2023-10-09T19:47:31.9712997Z",
              "execution_start_time": "2023-10-09T19:47:31.4228165Z",
              "livy_statement_state": "available",
              "parent_msg_id": "63d4f043-7910-4f1d-98f5-11d6d200d820",
              "queued_time": "2023-10-09T19:10:32.5250475Z",
              "session_id": "154",
              "session_start_time": null,
              "spark_jobs": null,
              "spark_pool": "maxpiasevoliL",
              "state": "finished",
              "statement_id": 54
            },
            "text/plain": [
              "StatementMeta(maxpiasevoliL, 154, 54, Finished, Available)"
            ]
          },
          "metadata": {},
          "output_type": "display_data"
        }
      ],
      "source": [
        "# Merge entity attributes with extraction technique attributes\n",
        "extracted_entity_node_attributes = (\n",
        "    regex_session_and_alert_on_identifier\n",
        "    .select(\"TenantId\", \"EntityType\", \"IdentifierValue\", \"ExtractedEntityNodeAttributes\")\n",
        "    .union(\n",
        "        static_session_and_alert_on_identifier.select(\"TenantId\", \"EntityType\", \"IdentifierValue\", \"ExtractedEntityNodeAttributes\")\n",
        "    )\n",
        "    .union(\n",
        "        induction_session_and_alert_on_identifier.select(\"TenantId\", \"EntityType\", \"IdentifierValue\", \"ExtractedEntityNodeAttributes\")\n",
        "    )\n",
        "    .groupBy(\"TenantId\", \"EntityType\", \"IdentifierValue\")\n",
        "    .agg(f.collect_list(\"ExtractedEntityNodeAttributes\").alias(\"ExtractedEntityNodeAttributesList\"))\n",
        ")\n",
        "\n",
        "def combine_node_attributes(enriched_node_attributes_dict, extracted_node_attributes_dict_list):\n",
        "    if extracted_node_attributes_dict_list is None:\n",
        "        extracted_node_attributes_dict_list = []\n",
        "    dict_list = extracted_node_attributes_dict_list + [enriched_node_attributes_dict]\n",
        "    return json.dumps({k:v for node_attributes_dict in dict_list for k,v in json.loads(node_attributes_dict).items()})\n",
        "\n",
        "combined_node_attributes_udf = f.udf(combine_node_attributes, StringType())\n",
        "\n",
        "entity_node_attributes = (\n",
        "    enriched_entity_node_attributes\n",
        "        .join(\n",
        "            extracted_entity_node_attributes,\n",
        "            ['TenantId', 'EntityType', 'IdentifierValue'],\n",
        "            'full_outer'\n",
        "        )\n",
        "        .fillna('{}', ['EnrichedEntityNodeAttributes'])\n",
        "        .withColumn(\"EntityNodeAttributes\", combined_node_attributes_udf(\"EnrichedEntityNodeAttributes\", \"ExtractedEntityNodeAttributesList\"))\n",
        "        .drop(\"EnrichedEntityNodeAttributes\", \"ExtractedEntityNodeAttributesList\")\n",
        "        .persist()\n",
        ")"
      ]
    },
    {
      "cell_type": "code",
      "execution_count": 55,
      "metadata": {
        "jupyter": {
          "outputs_hidden": false,
          "source_hidden": false
        },
        "nteract": {
          "transient": {
            "deleting": false
          }
        }
      },
      "outputs": [
        {
          "data": {
            "application/vnd.livy.statement-meta+json": {
              "execution_finish_time": "2023-10-09T19:47:32.6943925Z",
              "execution_start_time": "2023-10-09T19:47:32.1359743Z",
              "livy_statement_state": "available",
              "parent_msg_id": "938d0205-d6bf-46c6-afd5-4dde9107db5f",
              "queued_time": "2023-10-09T19:10:32.7614603Z",
              "session_id": "154",
              "session_start_time": null,
              "spark_jobs": null,
              "spark_pool": "maxpiasevoliL",
              "state": "finished",
              "statement_id": 55
            },
            "text/plain": [
              "StatementMeta(maxpiasevoliL, 154, 55, Finished, Available)"
            ]
          },
          "metadata": {},
          "output_type": "display_data"
        }
      ],
      "source": [
        "# Merge incident attributes\n",
        "extracted_incident_node_attributes = (\n",
        "    regex_session_and_incident_on_incident_guid\n",
        "        .select(\"WorkspaceId\", \"IncidentName\", \"ExtractedIncidentNodeAttributes\")\n",
        "        .union(\n",
        "            static_session_and_incident_on_incident_guid.select(\"WorkspaceId\", \"IncidentName\", \"ExtractedIncidentNodeAttributes\")\n",
        "        )\n",
        "        .groupBy(\"WorkspaceId\", \"IncidentName\")\n",
        "        .agg(f.collect_list(\"ExtractedIncidentNodeAttributes\").alias(\"ExtractedIncidentNodeAttributesList\"))\n",
        ")\n",
        "\n",
        "incident_node_attributes = (\n",
        "    incident_node_attributes\n",
        "        .join(\n",
        "            extracted_incident_node_attributes,\n",
        "            [\"WorkspaceId\", \"IncidentName\"],\n",
        "            'left_outer'\n",
        "        )\n",
        "        .withColumn(\"IncidentNodeAttributes\", combined_node_attributes_udf(\"IncidentNodeAttributes\", \"ExtractedIncidentNodeAttributesList\"))\n",
        "        .drop(\"ExtractedIncidentNodeAttributesList\")\n",
        "        .persist()\n",
        ")"
      ]
    },
    {
      "cell_type": "code",
      "execution_count": 56,
      "metadata": {
        "jupyter": {
          "outputs_hidden": false,
          "source_hidden": false
        },
        "nteract": {
          "transient": {
            "deleting": false
          }
        }
      },
      "outputs": [
        {
          "data": {
            "application/vnd.livy.statement-meta+json": {
              "execution_finish_time": "2023-10-09T19:47:33.0366127Z",
              "execution_start_time": "2023-10-09T19:47:32.8620346Z",
              "livy_statement_state": "available",
              "parent_msg_id": "14df9c80-e6db-436d-a881-b02dcaf75e8b",
              "queued_time": "2023-10-09T19:10:33.1091439Z",
              "session_id": "154",
              "session_start_time": null,
              "spark_jobs": null,
              "spark_pool": "maxpiasevoliL",
              "state": "finished",
              "statement_id": 56
            },
            "text/plain": [
              "StatementMeta(maxpiasevoliL, 154, 56, Finished, Available)"
            ]
          },
          "metadata": {},
          "output_type": "display_data"
        }
      ],
      "source": [
        "# Merge incident attributes\n",
        "extracted_alert_node_attributes = (\n",
        "    regex_session_and_alert_on_alert_guid\n",
        "        .select(\"WorkspaceId\", \"SystemAlertId\", \"ExtractedAlertNodeAttributes\")\n",
        "        .union(\n",
        "            static_session_and_alert_on_alert_guid.select(\"WorkspaceId\", \"SystemAlertId\", \"ExtractedAlertNodeAttributes\")\n",
        "        )\n",
        "        .groupBy(\"WorkspaceId\", \"SystemAlertId\")\n",
        "        .agg(f.collect_list(\"ExtractedAlertNodeAttributes\").alias(\"ExtractedAlertNodeAttributesList\"))\n",
        ")\n",
        "\n",
        "alert_node_attributes = (\n",
        "    alert_node_attributes\n",
        "        .join(\n",
        "            extracted_alert_node_attributes,\n",
        "            [\"WorkspaceId\", \"SystemAlertId\"],\n",
        "            'left_outer'\n",
        "        )\n",
        "        .withColumn(\"AlertNodeAttributes\", combined_node_attributes_udf(\"AlertNodeAttributes\", \"ExtractedAlertNodeAttributesList\"))\n",
        "        .drop(\"ExtractedAlertNodeAttributesList\")\n",
        "        .persist()\n",
        ")"
      ]
    },
    {
      "cell_type": "markdown",
      "metadata": {
        "nteract": {
          "transient": {
            "deleting": false
          }
        }
      },
      "source": [
        "# Construct Networkx Graphs"
      ]
    },
    {
      "cell_type": "code",
      "execution_count": 57,
      "metadata": {
        "jupyter": {
          "outputs_hidden": false,
          "source_hidden": false
        },
        "nteract": {
          "transient": {
            "deleting": false
          }
        }
      },
      "outputs": [
        {
          "data": {
            "application/vnd.livy.statement-meta+json": {
              "execution_finish_time": "2023-10-09T19:48:30.4926745Z",
              "execution_start_time": "2023-10-09T19:47:33.2003382Z",
              "livy_statement_state": "available",
              "parent_msg_id": "7a4b3b4b-da6a-4d4f-8c8f-11a5993e3f2c",
              "queued_time": "2023-10-09T19:10:33.9199934Z",
              "session_id": "154",
              "session_start_time": null,
              "spark_jobs": null,
              "spark_pool": "maxpiasevoliL",
              "state": "finished",
              "statement_id": 57
            },
            "text/plain": [
              "StatementMeta(maxpiasevoliL, 154, 57, Finished, Available)"
            ]
          },
          "metadata": {},
          "output_type": "display_data"
        },
        {
          "name": "stdout",
          "output_type": "stream",
          "text": [
            "Prompt count:  8952\n",
            "Tenant count:  52\n"
          ]
        }
      ],
      "source": [
        "# Get session nodes and properties\n",
        "\n",
        "from pyspark.sql.functions import col, to_timestamp\n",
        "\n",
        "evaluation_skill_invocations_query_str = f\"\"\"EvaluationSkillInvocations\n",
        "| where isnotempty(PromptId)\n",
        "| where PreciseTimeStamp between(todatetime('{start_processing_timestamp.strftime('%Y-%m-%d')}') .. todatetime('{end_processing_timestamp.strftime('%Y-%m-%d')}'))\n",
        "| where State == \"Completed\" and Success == \"true\"  \n",
        "| extend SessionId = case(isempty(SessionId), sessionid, SessionId)\n",
        "| extend SkillInputs = replace_regex(SkillInputs, @\"\\\\\\\\u0022\", \" \") // replace unicode quotation mark\n",
        "| distinct SessionId, PromptId, SkillInvocationId, SkillName, SkillInputs, SkillOutput, ParentSkillInvocationId, PreciseTimeStamp\n",
        "| join kind=inner(\n",
        "    Sessions\n",
        "    | distinct SessionId, TenantId\n",
        ") on SessionId\n",
        "\"\"\"\n",
        "\n",
        "\"\"\"\n",
        "KQL for adding Prompt col\n",
        "\"\"\"\n",
        "prompt_query_str = f\"\"\"EvaluationSkillInvocations\n",
        "| where PreciseTimeStamp between(todatetime('{start_processing_timestamp.strftime('%Y-%m-%d')}') .. todatetime('{end_processing_timestamp.strftime('%Y-%m-%d')}'))\n",
        "| where isnotempty(PromptId)\n",
        "| where State == \"Completed\" and Success == \"true\"\n",
        "| extend SessionId = case(isempty(SessionId), sessionid, SessionId)\n",
        "| where SkillName == 'Prompt' and not(SkillInputs has('Sort the following JSON objects'))\n",
        "| extend Prompt = tostring(parse_json(SkillInputs).Input)\n",
        "| where isnotempty(Prompt)\n",
        "| summarize Prompt=tostring(make_set(Prompt)), MinPreciseTimeStamp=min(PreciseTimeStamp), MaxPreciseTimeStamp=max(PreciseTimeStamp) by SessionId, PromptId\n",
        "| join kind=inner(\n",
        "    Sessions\n",
        "    | distinct SessionId, TenantId\n",
        ") on SessionId\n",
        "\"\"\"\n",
        "\n",
        "evaluation_skill_invocations_sdf  = spark.read \\\n",
        "    .format(\"com.microsoft.kusto.spark.synapse.datasource\") \\\n",
        "    .option(\"spark.synapse.linkedService\", \"medeinaapiprod\") \\\n",
        "    .option(\"kustoDatabase\", \"medeinalogs\") \\\n",
        "    .option(\"authType\", \"LS\")\\\n",
        "    .option(\"kustoQuery\", evaluation_skill_invocations_query_str) \\\n",
        "    .load()\n",
        "\n",
        "evaluation_skill_invocations_prompt_sdf = spark.read \\\n",
        "    .format(\"com.microsoft.kusto.spark.synapse.datasource\") \\\n",
        "    .option(\"spark.synapse.linkedService\", \"medeinaapiprod\") \\\n",
        "    .option(\"kustoDatabase\", \"medeinalogs\") \\\n",
        "    .option(\"authType\", \"LS\")\\\n",
        "    .option(\"kustoQuery\", prompt_query_str) \\\n",
        "    .load()\n",
        "\n",
        "print('Prompt count: ', evaluation_skill_invocations_prompt_sdf.count())\n",
        "\n",
        "session_ids_sdf = evaluation_skill_invocations_prompt_sdf.select(\"SessionId\").distinct()\n",
        "prompt_ids_sdf = evaluation_skill_invocations_prompt_sdf.select(\"PromptId\").distinct()\n",
        "\n",
        "evaluation_skill_invocations_sdf = evaluation_skill_invocations_sdf.join(prompt_ids_sdf, \"PromptId\").persist()\n",
        "\n",
        "tenant_ids_sdf = evaluation_skill_invocations_sdf.select(\"TenantId\").distinct()\n",
        "\n",
        "print('Tenant count: ', tenant_ids_sdf.count())\n",
        "\n",
        "skill_ids_sdf = evaluation_skill_invocations_sdf.select(\"SkillInvocationId\").distinct()"
      ]
    },
    {
      "cell_type": "code",
      "execution_count": 58,
      "metadata": {
        "jupyter": {
          "outputs_hidden": false,
          "source_hidden": false
        },
        "nteract": {
          "transient": {
            "deleting": false
          }
        }
      },
      "outputs": [
        {
          "data": {
            "application/vnd.livy.statement-meta+json": {
              "execution_finish_time": "2023-10-09T19:48:30.8201513Z",
              "execution_start_time": "2023-10-09T19:48:30.6588788Z",
              "livy_statement_state": "available",
              "parent_msg_id": "eda7035e-d559-40c9-b465-615c2d23bf85",
              "queued_time": "2023-10-09T19:10:34.2615128Z",
              "session_id": "154",
              "session_start_time": null,
              "spark_jobs": null,
              "spark_pool": "maxpiasevoliL",
              "state": "finished",
              "statement_id": 58
            },
            "text/plain": [
              "StatementMeta(maxpiasevoliL, 154, 58, Finished, Available)"
            ]
          },
          "metadata": {},
          "output_type": "display_data"
        }
      ],
      "source": [
        "edges_df = spark.createDataFrame(\n",
        "    data = spark.sparkContext.emptyRDD(), \n",
        "    schema = StructType([\n",
        "    StructField(\"WorkspaceId\", StringType(), nullable=False),\n",
        "    StructField(\"TenantId\", StringType(), nullable=False),\n",
        "    StructField(\"Source\", StringType(), nullable=False),\n",
        "    StructField(\"Target\", StringType(), nullable=False)])\n",
        ")"
      ]
    },
    {
      "cell_type": "code",
      "execution_count": 59,
      "metadata": {
        "jupyter": {
          "outputs_hidden": false,
          "source_hidden": false
        },
        "nteract": {
          "transient": {
            "deleting": false
          }
        }
      },
      "outputs": [
        {
          "data": {
            "application/vnd.livy.statement-meta+json": {
              "execution_finish_time": "2023-10-09T19:48:31.1504441Z",
              "execution_start_time": "2023-10-09T19:48:30.978109Z",
              "livy_statement_state": "available",
              "parent_msg_id": "289acc6b-17b7-4687-b659-145e55bf558f",
              "queued_time": "2023-10-09T19:10:34.4778748Z",
              "session_id": "154",
              "session_start_time": null,
              "spark_jobs": null,
              "spark_pool": "maxpiasevoliL",
              "state": "finished",
              "statement_id": 59
            },
            "text/plain": [
              "StatementMeta(maxpiasevoliL, 154, 59, Finished, Available)"
            ]
          },
          "metadata": {},
          "output_type": "display_data"
        }
      ],
      "source": [
        "# skill to incident edges\n",
        "for session_and_incident in [\n",
        "    regex_session_and_incident_on_incident_guid,\n",
        "    static_session_and_incident_on_incident_guid\n",
        "]:\n",
        "\n",
        "    edges_df = (\n",
        "        edges_df\n",
        "            .union(session_and_incident\n",
        "                .join(skill_ids_sdf, \"SkillInvocationId\")\n",
        "                .select(\n",
        "                    \"WorkspaceId\", \n",
        "                    \"TenantId\", \n",
        "                    f.concat_ws(\"__\", \"TenantId\", f.lit(\"SkillInvocationId\"), \"SkillInvocationId\").alias(\"Source\"), \n",
        "                    f.concat_ws(\"__\", \"TenantId\", f.lit(\"securityincident\"), \"IncidentName\").alias(\"Target\")\n",
        "                )\n",
        "            )\n",
        "    )"
      ]
    },
    {
      "cell_type": "code",
      "execution_count": 60,
      "metadata": {
        "jupyter": {
          "outputs_hidden": false,
          "source_hidden": false
        },
        "nteract": {
          "transient": {
            "deleting": false
          }
        }
      },
      "outputs": [
        {
          "data": {
            "application/vnd.livy.statement-meta+json": {
              "execution_finish_time": "2023-10-09T19:48:31.5099035Z",
              "execution_start_time": "2023-10-09T19:48:31.3448699Z",
              "livy_statement_state": "available",
              "parent_msg_id": "5e3ad96c-6089-4dc9-8a00-ae3f7e54d014",
              "queued_time": "2023-10-09T19:10:34.6998817Z",
              "session_id": "154",
              "session_start_time": null,
              "spark_jobs": null,
              "spark_pool": "maxpiasevoliL",
              "state": "finished",
              "statement_id": 60
            },
            "text/plain": [
              "StatementMeta(maxpiasevoliL, 154, 60, Finished, Available)"
            ]
          },
          "metadata": {},
          "output_type": "display_data"
        }
      ],
      "source": [
        "# skill to alert edges\n",
        "for session_and_alert in [\n",
        "    regex_session_and_alert_on_alert_guid,\n",
        "    static_session_and_alert_on_alert_guid\n",
        "]:\n",
        "    edges_df = (\n",
        "        edges_df\n",
        "            .union(session_and_alert\n",
        "                .join(skill_ids_sdf, \"SkillInvocationId\")\n",
        "                .select(\n",
        "                    \"WorkspaceId\", \n",
        "                    \"TenantId\", \n",
        "                    f.concat_ws(\"__\", \"TenantId\", f.lit(\"SkillInvocationId\"), \"SkillInvocationId\").alias(\"Source\"), \n",
        "                    f.concat_ws(\"__\", \"TenantId\", f.lit(\"securityalert\"), \"SystemAlertId\").alias(\"Target\")\n",
        "                )\n",
        "            )\n",
        "    )"
      ]
    },
    {
      "cell_type": "code",
      "execution_count": 61,
      "metadata": {
        "jupyter": {
          "outputs_hidden": false,
          "source_hidden": false
        },
        "nteract": {
          "transient": {
            "deleting": false
          }
        }
      },
      "outputs": [
        {
          "data": {
            "application/vnd.livy.statement-meta+json": {
              "execution_finish_time": "2023-10-09T19:48:31.8504357Z",
              "execution_start_time": "2023-10-09T19:48:31.6845583Z",
              "livy_statement_state": "available",
              "parent_msg_id": "f7197181-dc04-4eef-ba9f-66ae89567c73",
              "queued_time": "2023-10-09T19:10:34.9812551Z",
              "session_id": "154",
              "session_start_time": null,
              "spark_jobs": null,
              "spark_pool": "maxpiasevoliL",
              "state": "finished",
              "statement_id": 61
            },
            "text/plain": [
              "StatementMeta(maxpiasevoliL, 154, 61, Finished, Available)"
            ]
          },
          "metadata": {},
          "output_type": "display_data"
        }
      ],
      "source": [
        "# skill to entity edges\n",
        "for session_and_entity in [\n",
        "    regex_session_and_alert_on_identifier,\n",
        "    static_session_and_alert_on_identifier,\n",
        "    induction_session_and_alert_on_identifier\n",
        "]:\n",
        "\n",
        "    edges_df = (\n",
        "        edges_df\n",
        "            .union(session_and_entity\n",
        "                .join(skill_ids_sdf, \"SkillInvocationId\")\n",
        "                .select(\n",
        "                    \"WorkspaceId\", \n",
        "                    \"TenantId\", \n",
        "                    f.concat_ws(\"__\", \"TenantId\", f.lit(\"SkillInvocationId\"), \"SkillInvocationId\").alias(\"Source\"), \n",
        "                    f.concat_ws(\"__\", \"TenantId\", \"EntityType\", \"IdentifierValue\").alias(\"Target\")\n",
        "                )\n",
        "            )\n",
        "    )"
      ]
    },
    {
      "cell_type": "code",
      "execution_count": 62,
      "metadata": {
        "jupyter": {
          "outputs_hidden": false,
          "source_hidden": false
        },
        "nteract": {
          "transient": {
            "deleting": false
          }
        }
      },
      "outputs": [
        {
          "data": {
            "application/vnd.livy.statement-meta+json": {
              "execution_finish_time": "2023-10-09T19:48:32.2105683Z",
              "execution_start_time": "2023-10-09T19:48:32.0093281Z",
              "livy_statement_state": "available",
              "parent_msg_id": "31e861a7-fc80-420a-b7ef-65dcc2ca277d",
              "queued_time": "2023-10-09T19:10:35.4811349Z",
              "session_id": "154",
              "session_start_time": null,
              "spark_jobs": null,
              "spark_pool": "maxpiasevoliL",
              "state": "finished",
              "statement_id": 62
            },
            "text/plain": [
              "StatementMeta(maxpiasevoliL, 154, 62, Finished, Available)"
            ]
          },
          "metadata": {},
          "output_type": "display_data"
        }
      ],
      "source": [
        "# incident to alert edges\n",
        "edges_df = (\n",
        "    edges_df\n",
        "        .union(\n",
        "            incident_to_alert_data\n",
        "                .withColumnRenamed(\"WorkspaceTenantId\", \"TenantId\")\n",
        "                #.join(tenant_ids_sdf, \"TenantId\")\n",
        "                .select(\n",
        "                    \"WorkspaceId\", \n",
        "                    \"TenantId\", \n",
        "                    f.concat_ws(\"__\", \"TenantId\", f.lit(\"securityincident\"), \"IncidentName\").alias(\"Source\"),\n",
        "                    f.concat_ws(\"__\", \"TenantId\", f.lit(\"securityalert\"), \"SystemAlertId\").alias(\"Target\")\n",
        "                )\n",
        "        )\n",
        ")"
      ]
    },
    {
      "cell_type": "code",
      "execution_count": 63,
      "metadata": {
        "jupyter": {
          "outputs_hidden": false,
          "source_hidden": false
        },
        "nteract": {
          "transient": {
            "deleting": false
          }
        }
      },
      "outputs": [
        {
          "data": {
            "application/vnd.livy.statement-meta+json": {
              "execution_finish_time": "2023-10-09T19:48:32.5312269Z",
              "execution_start_time": "2023-10-09T19:48:32.3603127Z",
              "livy_statement_state": "available",
              "parent_msg_id": "c1d2bdd4-aed7-492b-81e6-65c617f8e822",
              "queued_time": "2023-10-09T19:10:35.7456642Z",
              "session_id": "154",
              "session_start_time": null,
              "spark_jobs": null,
              "spark_pool": "maxpiasevoliL",
              "state": "finished",
              "statement_id": 63
            },
            "text/plain": [
              "StatementMeta(maxpiasevoliL, 154, 63, Finished, Available)"
            ]
          },
          "metadata": {},
          "output_type": "display_data"
        }
      ],
      "source": [
        "# alert to entity edges\n",
        "edges_df = (\n",
        "    edges_df\n",
        "        .union(\n",
        "            deduped_alert_data_with_entities_flattened\n",
        "                .withColumnRenamed(\"WorkspaceTenantId\", \"TenantId\")\n",
        "                #.join(tenant_ids_sdf, \"TenantId\")\n",
        "                .select(\n",
        "                    \"WorkspaceId\", \n",
        "                    \"TenantId\", \n",
        "                    f.concat_ws(\"__\", \"TenantId\", f.lit(\"securityalert\"), \"SystemAlertId\").alias(\"Source\"),\n",
        "                    f.concat_ws(\"__\", \"TenantId\", \"EntityType\", \"IdentifierValue\").alias(\"Target\")\n",
        "                )\n",
        "        )\n",
        ")"
      ]
    },
    {
      "cell_type": "code",
      "execution_count": 64,
      "metadata": {
        "jupyter": {
          "outputs_hidden": false,
          "source_hidden": false
        },
        "nteract": {
          "transient": {
            "deleting": false
          }
        }
      },
      "outputs": [
        {
          "data": {
            "application/vnd.livy.statement-meta+json": {
              "execution_finish_time": "2023-10-09T19:48:32.8625353Z",
              "execution_start_time": "2023-10-09T19:48:32.6941092Z",
              "livy_statement_state": "available",
              "parent_msg_id": "788a665a-2c0e-4031-aa6f-66c72b90286b",
              "queued_time": "2023-10-09T19:10:35.9771038Z",
              "session_id": "154",
              "session_start_time": null,
              "spark_jobs": null,
              "spark_pool": "maxpiasevoliL",
              "state": "finished",
              "statement_id": 64
            },
            "text/plain": [
              "StatementMeta(maxpiasevoliL, 154, 64, Finished, Available)"
            ]
          },
          "metadata": {},
          "output_type": "display_data"
        }
      ],
      "source": [
        "edges_df = (\n",
        "    edges_df\n",
        "        .union(\n",
        "            evaluation_skill_invocations_sdf\n",
        "                .select(\n",
        "                    f.lit(\"\").alias(\"WorkspaceId\"), \n",
        "                    \"TenantId\", \n",
        "                    f.concat_ws(\"__\", \"TenantId\", f.lit(\"SessionId\"), \"SessionId\").alias(\"Source\"),\n",
        "                    f.concat_ws(\"__\", \"TenantId\", f.lit(\"PromptId\"), \"PromptId\").alias(\"Target\")\n",
        "                )\n",
        "        )\n",
        "        .union(\n",
        "            evaluation_skill_invocations_sdf\n",
        "                .select(\n",
        "                    f.lit(\"\").alias(\"WorkspaceId\"), \n",
        "                    \"TenantId\", \n",
        "                    f.concat_ws(\"__\", \"TenantId\", f.lit(\"PromptId\"), \"PromptId\").alias(\"Source\"),\n",
        "                    f.concat_ws(\"__\", \"TenantId\", f.lit(\"SkillInvocationId\"), \"SkillInvocationId\").alias(\"Target\")\n",
        "                )\n",
        "        )\n",
        ")"
      ]
    },
    {
      "cell_type": "code",
      "execution_count": 65,
      "metadata": {
        "jupyter": {
          "outputs_hidden": false,
          "source_hidden": false
        },
        "nteract": {
          "transient": {
            "deleting": false
          }
        }
      },
      "outputs": [
        {
          "data": {
            "application/vnd.livy.statement-meta+json": {
              "execution_finish_time": "2023-10-09T19:48:33.1981713Z",
              "execution_start_time": "2023-10-09T19:48:33.0075743Z",
              "livy_statement_state": "available",
              "parent_msg_id": "fd77619b-42db-4c50-9907-eac91c4c6d67",
              "queued_time": "2023-10-09T19:10:36.2385742Z",
              "session_id": "154",
              "session_start_time": null,
              "spark_jobs": null,
              "spark_pool": "maxpiasevoliL",
              "state": "finished",
              "statement_id": 65
            },
            "text/plain": [
              "StatementMeta(maxpiasevoliL, 154, 65, Finished, Available)"
            ]
          },
          "metadata": {},
          "output_type": "display_data"
        },
        {
          "name": "stdout",
          "output_type": "stream",
          "text": [
            "root\n",
            " |-- PromptId: string (nullable = true)\n",
            " |-- SessionId: string (nullable = true)\n",
            " |-- SkillInvocationId: string (nullable = true)\n",
            " |-- SkillName: string (nullable = true)\n",
            " |-- SkillInputs: string (nullable = true)\n",
            " |-- SkillOutput: string (nullable = true)\n",
            " |-- ParentSkillInvocationId: string (nullable = true)\n",
            " |-- PreciseTimeStamp: timestamp (nullable = true)\n",
            " |-- SessionId1: string (nullable = true)\n",
            " |-- TenantId: string (nullable = true)\n",
            "\n"
          ]
        }
      ],
      "source": [
        "evaluation_skill_invocations_sdf.printSchema()"
      ]
    },
    {
      "cell_type": "code",
      "execution_count": 66,
      "metadata": {
        "jupyter": {
          "outputs_hidden": false,
          "source_hidden": false
        },
        "nteract": {
          "transient": {
            "deleting": false
          }
        }
      },
      "outputs": [
        {
          "data": {
            "application/vnd.livy.statement-meta+json": {
              "execution_finish_time": "2023-10-09T19:48:37.3215523Z",
              "execution_start_time": "2023-10-09T19:48:33.3475391Z",
              "livy_statement_state": "available",
              "parent_msg_id": "ab94d05b-a133-44bc-b0fb-d76638ab9c8a",
              "queued_time": "2023-10-09T19:10:36.4738701Z",
              "session_id": "154",
              "session_start_time": null,
              "spark_jobs": null,
              "spark_pool": "maxpiasevoliL",
              "state": "finished",
              "statement_id": 66
            },
            "text/plain": [
              "StatementMeta(maxpiasevoliL, 154, 66, Finished, Available)"
            ]
          },
          "metadata": {},
          "output_type": "display_data"
        }
      ],
      "source": [
        "import datetime as dt, datetime as dt, pandas as pd, networkx as nx"
      ]
    },
    {
      "cell_type": "code",
      "execution_count": 67,
      "metadata": {
        "jupyter": {
          "outputs_hidden": false,
          "source_hidden": false
        },
        "nteract": {
          "transient": {
            "deleting": false
          }
        }
      },
      "outputs": [
        {
          "data": {
            "application/vnd.livy.statement-meta+json": {
              "execution_finish_time": "2023-10-09T19:48:37.6506275Z",
              "execution_start_time": "2023-10-09T19:48:37.4839968Z",
              "livy_statement_state": "available",
              "parent_msg_id": "0a2095e2-dee4-4305-87f8-7e81e749b7c3",
              "queued_time": "2023-10-09T19:10:36.8015241Z",
              "session_id": "154",
              "session_start_time": null,
              "spark_jobs": null,
              "spark_pool": "maxpiasevoliL",
              "state": "finished",
              "statement_id": 67
            },
            "text/plain": [
              "StatementMeta(maxpiasevoliL, 154, 67, Finished, Available)"
            ]
          },
          "metadata": {},
          "output_type": "display_data"
        }
      ],
      "source": [
        "node_attributes_df = spark.createDataFrame(\n",
        "    data = spark.sparkContext.emptyRDD(), \n",
        "    schema = StructType([\n",
        "    StructField(\"TenantId\", StringType(), nullable=False),\n",
        "    StructField(\"NodeId\", StringType(), nullable=False),\n",
        "    StructField(\"NodeAttributes\", StringType(), nullable=False)])\n",
        ")"
      ]
    },
    {
      "cell_type": "code",
      "execution_count": 68,
      "metadata": {
        "jupyter": {
          "outputs_hidden": false,
          "source_hidden": false
        },
        "nteract": {
          "transient": {
            "deleting": false
          }
        }
      },
      "outputs": [
        {
          "data": {
            "application/vnd.livy.statement-meta+json": {
              "execution_finish_time": "2023-10-09T19:48:38.4777018Z",
              "execution_start_time": "2023-10-09T19:48:37.8361854Z",
              "livy_statement_state": "available",
              "parent_msg_id": "20016864-8de8-46d5-9103-3281db96d917",
              "queued_time": "2023-10-09T19:10:37.0429763Z",
              "session_id": "154",
              "session_start_time": null,
              "spark_jobs": null,
              "spark_pool": "maxpiasevoliL",
              "state": "finished",
              "statement_id": 68
            },
            "text/plain": [
              "StatementMeta(maxpiasevoliL, 154, 68, Finished, Available)"
            ]
          },
          "metadata": {},
          "output_type": "display_data"
        }
      ],
      "source": [
        "# session, prompt and skill attributes\n",
        "node_attributes_df = (\n",
        "    node_attributes_df\n",
        "        .union(\n",
        "            evaluation_skill_invocations_sdf\n",
        "                .groupBy('TenantId', 'SessionId')\n",
        "                .agg(\n",
        "                    f.min('PreciseTimeStamp').alias('MinPreciseTimeStamp'),\n",
        "                    f.max('PreciseTimeStamp').alias('MaxPreciseTimeStamp')\n",
        "                )\n",
        "                .select(\n",
        "                    'TenantId',\n",
        "                    f.concat_ws(\"__\", \"TenantId\", f.lit(\"SessionId\"), \"SessionId\"),\n",
        "                    f.to_json(\n",
        "                        f.create_map(\n",
        "                            f.lit(\"node_type\"), f.lit(\"SessionId\"),\n",
        "                            f.lit(\"MinPreciseTimeStamp\"), f.col(\"MinPreciseTimeStamp\"),\n",
        "                            f.lit(\"MaxPreciseTimeStamp\"), f.col(\"MaxPreciseTimeStamp\")\n",
        "                        )\n",
        "                    )\n",
        "                )\n",
        "        )\n",
        "        .union(\n",
        "            evaluation_skill_invocations_prompt_sdf\n",
        "                .select(\n",
        "                    'TenantId',\n",
        "                    f.concat_ws(\"__\", \"TenantId\", f.lit(\"PromptId\"), \"PromptId\"),\n",
        "                    f.to_json(\n",
        "                        f.create_map(\n",
        "                            f.lit(\"node_type\"), f.lit(\"PromptId\"),\n",
        "                            f.lit(\"Prompt\"), f.col(\"Prompt\"),\n",
        "                            f.lit(\"MinPreciseTimeStamp\"), f.col(\"MinPreciseTimeStamp\"),\n",
        "                            f.lit(\"MaxPreciseTimeStamp\"), f.col(\"MaxPreciseTimeStamp\")\n",
        "                        )\n",
        "                    )\n",
        "                )\n",
        "        )\n",
        "        .union(\n",
        "            evaluation_skill_invocations_sdf\n",
        "                .select(\n",
        "                    'TenantId',\n",
        "                    f.concat_ws(\"__\", \"TenantId\", f.lit(\"SkillInvocationId\"), \"SkillInvocationId\"),\n",
        "                    f.to_json(\n",
        "                        f.create_map(\n",
        "                            f.lit(\"node_type\"), f.lit(\"SkillInvocationId\"),\n",
        "                            f.lit(\"SkillName\"), f.col(\"SkillName\"),\n",
        "                            f.lit(\"SkillInputs\"), f.col(\"SkillInputs\"),\n",
        "                            f.lit(\"SkillOutput\"), f.col(\"SkillOutput\"),\n",
        "                            f.lit(\"ParentSkillInvocationId\"), f.col(\"ParentSkillInvocationId\"),\n",
        "                            f.lit(\"PreciseTimeStamp\"), f.col(\"PreciseTimeStamp\"),\n",
        "                        )\n",
        "                    )\n",
        "                )\n",
        "        )\n",
        ")\n"
      ]
    },
    {
      "cell_type": "code",
      "execution_count": 69,
      "metadata": {
        "jupyter": {
          "outputs_hidden": false,
          "source_hidden": false
        },
        "nteract": {
          "transient": {
            "deleting": false
          }
        }
      },
      "outputs": [
        {
          "data": {
            "application/vnd.livy.statement-meta+json": {
              "execution_finish_time": "2023-10-09T19:48:38.7940819Z",
              "execution_start_time": "2023-10-09T19:48:38.6305946Z",
              "livy_statement_state": "available",
              "parent_msg_id": "b654e9c8-7c49-4a3c-a9ce-92f5a40d9587",
              "queued_time": "2023-10-09T19:10:37.3514282Z",
              "session_id": "154",
              "session_start_time": null,
              "spark_jobs": null,
              "spark_pool": "maxpiasevoliL",
              "state": "finished",
              "statement_id": 69
            },
            "text/plain": [
              "StatementMeta(maxpiasevoliL, 154, 69, Finished, Available)"
            ]
          },
          "metadata": {},
          "output_type": "display_data"
        }
      ],
      "source": [
        "# incident, alert, entity attributes\n",
        "node_attributes_df = (\n",
        "    node_attributes_df\n",
        "        .union(\n",
        "            incident_node_attributes\n",
        "                .withColumnRenamed(\"WorkspaceTenantId\", \"TenantId\")\n",
        "                # .join(\n",
        "                #     tenant_ids_sdf,\n",
        "                #     'TenantId'\n",
        "                # )\n",
        "                .select(\n",
        "                    'TenantId',\n",
        "                    f.concat_ws(\"__\", \"TenantId\", f.lit(\"securityincident\"), \"IncidentName\"),\n",
        "                    'IncidentNodeAttributes'\n",
        "                )\n",
        "        )\n",
        "        .union(\n",
        "            alert_node_attributes\n",
        "                .withColumnRenamed(\"WorkspaceTenantId\", \"TenantId\")\n",
        "                # .join(\n",
        "                #     tenant_ids_sdf,\n",
        "                #     'TenantId'\n",
        "                # )\n",
        "                .select(\n",
        "                    'TenantId',\n",
        "                    f.concat_ws(\"__\", \"TenantId\", f.lit(\"securityalert\"), \"SystemAlertId\"),\n",
        "                    'AlertNodeAttributes'\n",
        "                )\n",
        "        )\n",
        "        .union(\n",
        "            entity_node_attributes\n",
        "                # .join(\n",
        "                #     tenant_ids_sdf,\n",
        "                #     'TenantId'\n",
        "                # )\n",
        "                .select(\n",
        "                    'TenantId',\n",
        "                    f.concat_ws(\"__\", \"TenantId\", \"EntityType\", \"IdentifierValue\"),\n",
        "                    'EntityNodeAttributes'\n",
        "                )\n",
        "        )\n",
        ")\n"
      ]
    },
    {
      "cell_type": "code",
      "execution_count": 70,
      "metadata": {
        "jupyter": {
          "outputs_hidden": false,
          "source_hidden": false
        },
        "nteract": {
          "transient": {
            "deleting": false
          }
        }
      },
      "outputs": [
        {
          "data": {
            "application/vnd.livy.statement-meta+json": {
              "execution_finish_time": "2023-10-09T19:48:44.4270871Z",
              "execution_start_time": "2023-10-09T19:48:38.9779631Z",
              "livy_statement_state": "available",
              "parent_msg_id": "33d9c9cb-04e5-4578-88b2-78781212bf88",
              "queued_time": "2023-10-09T19:10:37.640706Z",
              "session_id": "154",
              "session_start_time": null,
              "spark_jobs": null,
              "spark_pool": "maxpiasevoliL",
              "state": "finished",
              "statement_id": 70
            },
            "text/plain": [
              "StatementMeta(maxpiasevoliL, 154, 70, Finished, Available)"
            ]
          },
          "metadata": {},
          "output_type": "display_data"
        }
      ],
      "source": [
        "edges_df = edges_df.distinct().persist()\n",
        "node_attributes_df = node_attributes_df.distinct().persist()"
      ]
    },
    {
      "cell_type": "markdown",
      "metadata": {
        "nteract": {
          "transient": {
            "deleting": false
          }
        }
      },
      "source": [
        "# COOK Enrichment"
      ]
    },
    {
      "cell_type": "code",
      "execution_count": 71,
      "metadata": {
        "jupyter": {
          "outputs_hidden": false,
          "source_hidden": false
        },
        "nteract": {
          "transient": {
            "deleting": false
          }
        }
      },
      "outputs": [
        {
          "data": {
            "application/vnd.livy.statement-meta+json": {
              "execution_finish_time": "2023-10-09T19:48:44.7880137Z",
              "execution_start_time": "2023-10-09T19:48:44.6200644Z",
              "livy_statement_state": "available",
              "parent_msg_id": "915b43bc-44ca-4938-b556-72790344e971",
              "queued_time": "2023-10-09T19:10:38.5570128Z",
              "session_id": "154",
              "session_start_time": null,
              "spark_jobs": null,
              "spark_pool": "maxpiasevoliL",
              "state": "finished",
              "statement_id": 71
            },
            "text/plain": [
              "StatementMeta(maxpiasevoliL, 154, 71, Finished, Available)"
            ]
          },
          "metadata": {},
          "output_type": "display_data"
        }
      ],
      "source": [
        "cook_path_str = \"abfss://skg@rdamlapeussa.dfs.core.windows.net/input_data/cook_ontology_9_5_23\""
      ]
    },
    {
      "cell_type": "code",
      "execution_count": 72,
      "metadata": {
        "jupyter": {
          "outputs_hidden": false,
          "source_hidden": false
        },
        "nteract": {
          "transient": {
            "deleting": false
          }
        }
      },
      "outputs": [
        {
          "data": {
            "application/vnd.livy.statement-meta+json": {
              "execution_finish_time": "2023-10-09T19:48:47.832584Z",
              "execution_start_time": "2023-10-09T19:48:44.9401333Z",
              "livy_statement_state": "available",
              "parent_msg_id": "e93aa757-7a4c-4bb2-97a5-abe3eb390f3a",
              "queued_time": "2023-10-09T19:10:38.9360356Z",
              "session_id": "154",
              "session_start_time": null,
              "spark_jobs": null,
              "spark_pool": "maxpiasevoliL",
              "state": "finished",
              "statement_id": 72
            },
            "text/plain": [
              "StatementMeta(maxpiasevoliL, 154, 72, Finished, Available)"
            ]
          },
          "metadata": {},
          "output_type": "display_data"
        }
      ],
      "source": [
        "cook_subgraph = {}\n",
        "\n",
        "rdf = spark.read.format(\"delta\").load(cook_path_str)\n",
        "\n",
        "for row in rdf.collect():\n",
        "    v = row.Value\n",
        "    k = row.Key\n",
        "    \n",
        "    v_pickled = pickle.loads(v)\n",
        "    cook_subgraph[k] = v_pickled\n",
        "\n",
        "cook_ontology_graph = cook_subgraph[\"cc_subgraph\"]"
      ]
    },
    {
      "cell_type": "code",
      "execution_count": 73,
      "metadata": {
        "jupyter": {
          "outputs_hidden": false,
          "source_hidden": false
        },
        "nteract": {
          "transient": {
            "deleting": false
          }
        }
      },
      "outputs": [
        {
          "data": {
            "application/vnd.livy.statement-meta+json": {
              "execution_finish_time": "2023-10-09T19:48:49.1338783Z",
              "execution_start_time": "2023-10-09T19:48:48.0367534Z",
              "livy_statement_state": "available",
              "parent_msg_id": "44b0a0c7-17b9-4e00-83ac-c2abd85894ab",
              "queued_time": "2023-10-09T19:10:39.3700333Z",
              "session_id": "154",
              "session_start_time": null,
              "spark_jobs": null,
              "spark_pool": "maxpiasevoliL",
              "state": "finished",
              "statement_id": 73
            },
            "text/plain": [
              "StatementMeta(maxpiasevoliL, 154, 73, Finished, Available)"
            ]
          },
          "metadata": {},
          "output_type": "display_data"
        }
      ],
      "source": [
        "def make_edges_df(G):\n",
        "    edges = []\n",
        "    for source, target in G.edges():\n",
        "        node_dict = {'Source': source, 'Target': target}\n",
        "        edges.append(node_dict)\n",
        "    return pd.DataFrame(edges)\n",
        "\n",
        "def make_node_attr_df(G):\n",
        "    nodes = []\n",
        "    for node, attribute in G.nodes(data=True):\n",
        "        node_dict = {'NodeId': node, 'NodeAttributes': attribute}\n",
        "        nodes.append(node_dict)\n",
        "    return pd.DataFrame(nodes)\n",
        "\n",
        "def make_edge_attr_df(G):\n",
        "    edges = []\n",
        "    for start_node, end_node, attribute in G.edges(data=True):\n",
        "        edge_dict = {'Source': start_node, 'Target': end_node, 'EdgeAttributes': attribute}\n",
        "        edges.append(edge_dict)\n",
        "    return pd.DataFrame(edges)"
      ]
    },
    {
      "cell_type": "code",
      "execution_count": 74,
      "metadata": {
        "jupyter": {
          "outputs_hidden": false,
          "source_hidden": false
        },
        "nteract": {
          "transient": {
            "deleting": false
          }
        }
      },
      "outputs": [
        {
          "data": {
            "application/vnd.livy.statement-meta+json": {
              "execution_finish_time": "2023-10-09T19:48:49.8343411Z",
              "execution_start_time": "2023-10-09T19:48:49.2845404Z",
              "livy_statement_state": "available",
              "parent_msg_id": "370fb892-3204-46da-b28a-ab14aa6f2ad7",
              "queued_time": "2023-10-09T19:10:39.6542002Z",
              "session_id": "154",
              "session_start_time": null,
              "spark_jobs": null,
              "spark_pool": "maxpiasevoliL",
              "state": "finished",
              "statement_id": 74
            },
            "text/plain": [
              "StatementMeta(maxpiasevoliL, 154, 74, Finished, Available)"
            ]
          },
          "metadata": {},
          "output_type": "display_data"
        }
      ],
      "source": [
        "# Convert cook subgraph (networkx graph) => cook_edges_df, cook_node_attr_df, cook_edges_attr_df\n",
        "cook_edges_pdf = make_edges_df(cook_ontology_graph)\n",
        "cook_edges_sdf = spark.createDataFrame(\n",
        "    data = cook_edges_pdf, \n",
        "    schema = StructType([\n",
        "    StructField(\"Source\", StringType(), nullable=False),\n",
        "    StructField(\"Target\", StringType(), nullable=False)])\n",
        ")\n",
        "\n",
        "cook_node_attr_pdf = make_node_attr_df(cook_ontology_graph)\n",
        "cook_node_attr_pdf['NodeAttributes'] = cook_node_attr_pdf['NodeAttributes'].apply(lambda x: json.dumps(x))\n",
        "cook_node_attr_sdf = spark.createDataFrame(\n",
        "    data = cook_node_attr_pdf, \n",
        "    schema = StructType([\n",
        "    StructField(\"NodeId\", StringType(), nullable=False),\n",
        "    StructField(\"NodeAttributes\", StringType(), nullable=False)])\n",
        ")\n",
        "\n",
        "cook_edge_attr_pdf = make_edge_attr_df(cook_ontology_graph)\n",
        "cook_edge_attr_pdf['EdgeAttributes'] = cook_edge_attr_pdf['EdgeAttributes'].apply(lambda x: json.dumps(x))\n",
        "cook_edge_attr_sdf = spark.createDataFrame(\n",
        "    data = cook_edge_attr_pdf, \n",
        "    schema = StructType([\n",
        "    StructField(\"Source\", StringType(), nullable=False),\n",
        "    StructField(\"Target\", StringType(), nullable=False),\n",
        "    StructField(\"EdgeAttributes\", StringType(), nullable=False)])\n",
        ")"
      ]
    },
    {
      "cell_type": "code",
      "execution_count": 75,
      "metadata": {
        "jupyter": {
          "outputs_hidden": false,
          "source_hidden": false
        },
        "nteract": {
          "transient": {
            "deleting": false
          }
        }
      },
      "outputs": [
        {
          "data": {
            "application/vnd.livy.statement-meta+json": {
              "execution_finish_time": "2023-10-09T19:55:09.8149862Z",
              "execution_start_time": "2023-10-09T19:48:49.9985301Z",
              "livy_statement_state": "available",
              "parent_msg_id": "ebf8a744-262e-4915-b402-d5af06e78452",
              "queued_time": "2023-10-09T19:10:39.8841323Z",
              "session_id": "154",
              "session_start_time": null,
              "spark_jobs": null,
              "spark_pool": "maxpiasevoliL",
              "state": "finished",
              "statement_id": 75
            },
            "text/plain": [
              "StatementMeta(maxpiasevoliL, 154, 75, Finished, Available)"
            ]
          },
          "metadata": {},
          "output_type": "display_data"
        }
      ],
      "source": [
        "# Enrich node_attributes_df with AlertDisplayName\n",
        "# Define the schema of the JSON string\n",
        "alert_properties_schema = StructType([\n",
        "    StructField(\"node_type\", StringType()),\n",
        "    StructField(\"AlertDisplayName\", StringType())\n",
        "])\n",
        "\n",
        "alert_node_attributes_df = (\n",
        "    node_attributes_df\n",
        "        .withColumn(\"node_type\", f.from_json(f.col(\"NodeAttributes\"), alert_properties_schema).getItem(\"node_type\"))\n",
        "        .filter(f.col(\"node_type\") == \"securityalert\")\n",
        "        .withColumn(\"AlertDisplayName\", f.from_json(f.col(\"NodeAttributes\"), alert_properties_schema).getItem(\"AlertDisplayName\"))\n",
        "        .persist()\n",
        ")\n",
        "\n",
        "alert_node_attr_pdf = alert_node_attributes_df.toPandas()"
      ]
    },
    {
      "cell_type": "code",
      "execution_count": 76,
      "metadata": {
        "jupyter": {
          "outputs_hidden": false,
          "source_hidden": false
        },
        "nteract": {
          "transient": {
            "deleting": false
          }
        }
      },
      "outputs": [
        {
          "data": {
            "application/vnd.livy.statement-meta+json": {
              "execution_finish_time": "2023-10-09T19:55:37.6487217Z",
              "execution_start_time": "2023-10-09T19:55:09.9861802Z",
              "livy_statement_state": "available",
              "parent_msg_id": "501a96e4-5801-42fb-b66a-892c0bb75298",
              "queued_time": "2023-10-09T19:10:40.0881748Z",
              "session_id": "154",
              "session_start_time": null,
              "spark_jobs": null,
              "spark_pool": "maxpiasevoliL",
              "state": "finished",
              "statement_id": 76
            },
            "text/plain": [
              "StatementMeta(maxpiasevoliL, 154, 76, Finished, Available)"
            ]
          },
          "metadata": {},
          "output_type": "display_data"
        },
        {
          "name": "stdout",
          "output_type": "stream",
          "text": [
            "Number of tenants joined to COOK ontology:  6340\n"
          ]
        }
      ],
      "source": [
        "# Merge alerts and cook detections df\n",
        "cook_node_attr_pdf['displayName'] = cook_node_attr_pdf['NodeAttributes'].apply(lambda x: json.loads(x)['properties']['displayName'])\n",
        "cook_node_attr_pdf['node_type'] = cook_node_attr_pdf['NodeAttributes'].apply(lambda x: json.loads(x)['node_type'])\n",
        "\n",
        "cook_alerts_tenant_pdf = pd.merge(alert_node_attr_pdf, cook_node_attr_pdf, left_on='AlertDisplayName', right_on='displayName')\n",
        "\n",
        "cook_alerts_tenant_sdf = spark.createDataFrame(cook_alerts_tenant_pdf)\n",
        "\n",
        "cook_tenant_ids = cook_alerts_tenant_pdf['TenantId'].unique().tolist()\n",
        "cook_tenant_ids_df = spark.createDataFrame(cook_tenant_ids, StringType()).toDF(\"TenantId\")\n",
        "\n",
        "print(\"Number of tenants joined to COOK ontology: \", len(cook_tenant_ids))"
      ]
    },
    {
      "cell_type": "code",
      "execution_count": 77,
      "metadata": {
        "jupyter": {
          "outputs_hidden": false,
          "source_hidden": false
        },
        "nteract": {
          "transient": {
            "deleting": false
          }
        }
      },
      "outputs": [
        {
          "data": {
            "application/vnd.livy.statement-meta+json": {
              "execution_finish_time": "2023-10-09T19:55:37.9865383Z",
              "execution_start_time": "2023-10-09T19:55:37.8129101Z",
              "livy_statement_state": "available",
              "parent_msg_id": "48a26f9b-cf37-4bb2-abba-7683a6c48b50",
              "queued_time": "2023-10-09T19:10:40.2906234Z",
              "session_id": "154",
              "session_start_time": null,
              "spark_jobs": null,
              "spark_pool": "maxpiasevoliL",
              "state": "finished",
              "statement_id": 77
            },
            "text/plain": [
              "StatementMeta(maxpiasevoliL, 154, 77, Finished, Available)"
            ]
          },
          "metadata": {},
          "output_type": "display_data"
        }
      ],
      "source": [
        "# alert -> cook detection edges\n",
        "edges_df = (\n",
        "    edges_df\n",
        "        .unionByName(\n",
        "            cook_alerts_tenant_sdf\n",
        "                .select(\n",
        "                    f.lit(\"\").alias(\"WorkspaceId\"), \n",
        "                    \"TenantId\", \n",
        "                    col(\"NodeId_x\").alias(\"Source\"),\n",
        "                    col(\"NodeId_y\").alias(\"Target\")\n",
        "                )\n",
        "        )\n",
        ")"
      ]
    },
    {
      "cell_type": "code",
      "execution_count": 78,
      "metadata": {
        "jupyter": {
          "outputs_hidden": false,
          "source_hidden": false
        },
        "nteract": {
          "transient": {
            "deleting": false
          }
        }
      },
      "outputs": [
        {
          "data": {
            "application/vnd.livy.statement-meta+json": {
              "execution_finish_time": "2023-10-09T19:55:38.3480554Z",
              "execution_start_time": "2023-10-09T19:55:38.1696157Z",
              "livy_statement_state": "available",
              "parent_msg_id": "6c3910d9-0dec-469a-a531-7bfbd77f519b",
              "queued_time": "2023-10-09T19:10:40.4407148Z",
              "session_id": "154",
              "session_start_time": null,
              "spark_jobs": null,
              "spark_pool": "maxpiasevoliL",
              "state": "finished",
              "statement_id": 78
            },
            "text/plain": [
              "StatementMeta(maxpiasevoliL, 154, 78, Finished, Available)"
            ]
          },
          "metadata": {},
          "output_type": "display_data"
        }
      ],
      "source": [
        "# Create a Cartesian product of cook_tenant_ids_df and cook_edges_sdf\n",
        "cook_edges_tenant_cartesian_df = cook_tenant_ids_df.crossJoin(cook_edges_sdf)\n",
        "cook_edges_tenant_cartesian_df_selected = cook_edges_tenant_cartesian_df.select(\n",
        "    f.lit(\"\").alias(\"WorkspaceId\"),\n",
        "    \"TenantId\",\n",
        "    \"Source\",\n",
        "    \"Target\"\n",
        ")\n",
        "\n",
        "edges_df = edges_df.unionByName(cook_edges_tenant_cartesian_df_selected)"
      ]
    },
    {
      "cell_type": "code",
      "execution_count": 79,
      "metadata": {
        "jupyter": {
          "outputs_hidden": false,
          "source_hidden": false
        },
        "nteract": {
          "transient": {
            "deleting": false
          }
        }
      },
      "outputs": [
        {
          "data": {
            "application/vnd.livy.statement-meta+json": {
              "execution_finish_time": "2023-10-09T19:55:38.6684278Z",
              "execution_start_time": "2023-10-09T19:55:38.4971885Z",
              "livy_statement_state": "available",
              "parent_msg_id": "68f446e3-9ae6-404b-a251-32cbd71bed77",
              "queued_time": "2023-10-09T19:10:40.7432155Z",
              "session_id": "154",
              "session_start_time": null,
              "spark_jobs": null,
              "spark_pool": "maxpiasevoliL",
              "state": "finished",
              "statement_id": 79
            },
            "text/plain": [
              "StatementMeta(maxpiasevoliL, 154, 79, Finished, Available)"
            ]
          },
          "metadata": {},
          "output_type": "display_data"
        }
      ],
      "source": [
        "# Create a Cartesian product of cook_tenant_ids_df and cook_node_attr_sdf\n",
        "node_attr_tenant_cartesian_df = cook_tenant_ids_df.crossJoin(cook_node_attr_sdf)\n",
        "node_attr_tenant_cartesian_df_selected = node_attr_tenant_cartesian_df.select(\n",
        "    \"TenantId\",\n",
        "    \"NodeId\",\n",
        "    \"NodeAttributes\"\n",
        ")\n",
        "\n",
        "node_attributes_df = node_attributes_df.unionByName(node_attr_tenant_cartesian_df_selected)"
      ]
    },
    {
      "cell_type": "code",
      "execution_count": 80,
      "metadata": {
        "jupyter": {
          "outputs_hidden": false,
          "source_hidden": false
        },
        "nteract": {
          "transient": {
            "deleting": false
          }
        }
      },
      "outputs": [
        {
          "data": {
            "application/vnd.livy.statement-meta+json": {
              "execution_finish_time": "2023-10-09T19:55:39.0278039Z",
              "execution_start_time": "2023-10-09T19:55:38.8517714Z",
              "livy_statement_state": "available",
              "parent_msg_id": "218b776c-d11c-43ac-839c-c25944731425",
              "queued_time": "2023-10-09T19:10:40.9896021Z",
              "session_id": "154",
              "session_start_time": null,
              "spark_jobs": null,
              "spark_pool": "maxpiasevoliL",
              "state": "finished",
              "statement_id": 80
            },
            "text/plain": [
              "StatementMeta(maxpiasevoliL, 154, 80, Finished, Available)"
            ]
          },
          "metadata": {},
          "output_type": "display_data"
        }
      ],
      "source": [
        "edge_attributes_df = spark.createDataFrame(\n",
        "    data = spark.sparkContext.emptyRDD(), \n",
        "    schema = StructType([\n",
        "    StructField(\"TenantId\", StringType(), nullable=False),\n",
        "    StructField(\"Source\", StringType(), nullable=False),\n",
        "    StructField(\"Target\", StringType(), nullable=False),\n",
        "    StructField(\"EdgeAttributes\", StringType(), nullable=False)])\n",
        ")"
      ]
    },
    {
      "cell_type": "code",
      "execution_count": 81,
      "metadata": {
        "jupyter": {
          "outputs_hidden": false,
          "source_hidden": false
        },
        "nteract": {
          "transient": {
            "deleting": false
          }
        }
      },
      "outputs": [
        {
          "data": {
            "application/vnd.livy.statement-meta+json": {
              "execution_finish_time": "2023-10-09T19:55:39.3564953Z",
              "execution_start_time": "2023-10-09T19:55:39.1870164Z",
              "livy_statement_state": "available",
              "parent_msg_id": "03f116ef-e01d-4bce-a17c-b5cc2e976e45",
              "queued_time": "2023-10-09T19:10:41.2245434Z",
              "session_id": "154",
              "session_start_time": null,
              "spark_jobs": null,
              "spark_pool": "maxpiasevoliL",
              "state": "finished",
              "statement_id": 81
            },
            "text/plain": [
              "StatementMeta(maxpiasevoliL, 154, 81, Finished, Available)"
            ]
          },
          "metadata": {},
          "output_type": "display_data"
        }
      ],
      "source": [
        "# Create a Cartesian product of tenant_ids_df and cook_edge_attr_sdf\n",
        "edges_attr_tenant_cartesian_df = cook_tenant_ids_df.crossJoin(cook_edge_attr_sdf)\n",
        "edges_attr_tenant_cartesian_df_selected = edges_attr_tenant_cartesian_df.select(\n",
        "    \"TenantId\",\n",
        "    \"Source\",\n",
        "    \"Target\",\n",
        "    \"EdgeAttributes\"\n",
        ")\n",
        "\n",
        "edge_attributes_df = edge_attributes_df.unionByName(edges_attr_tenant_cartesian_df_selected)"
      ]
    },
    {
      "cell_type": "markdown",
      "metadata": {
        "nteract": {
          "transient": {
            "deleting": false
          }
        }
      },
      "source": [
        "# Write Tenant Graph DataFrames"
      ]
    },
    {
      "cell_type": "code",
      "execution_count": 82,
      "metadata": {
        "jupyter": {
          "outputs_hidden": false,
          "source_hidden": false
        },
        "nteract": {
          "transient": {
            "deleting": false
          }
        }
      },
      "outputs": [
        {
          "data": {
            "application/vnd.livy.statement-meta+json": {
              "execution_finish_time": "2023-10-09T19:55:40.1149198Z",
              "execution_start_time": "2023-10-09T19:55:39.5316485Z",
              "livy_statement_state": "available",
              "parent_msg_id": "afb9d4e9-9570-4b96-8a8e-f73b86ae5fbb",
              "queued_time": "2023-10-09T19:10:41.4383855Z",
              "session_id": "154",
              "session_start_time": null,
              "spark_jobs": null,
              "spark_pool": "maxpiasevoliL",
              "state": "finished",
              "statement_id": 82
            },
            "text/plain": [
              "StatementMeta(maxpiasevoliL, 154, 82, Finished, Available)"
            ]
          },
          "metadata": {},
          "output_type": "display_data"
        }
      ],
      "source": [
        "edges_df = edges_df.distinct().withColumn(\"ProcessedTimestamp\", f.lit(start_processing_timestamp)).persist()\n",
        "node_attributes_df = node_attributes_df.distinct().withColumn(\"ProcessedTimestamp\", f.lit(start_processing_timestamp)).persist()\n",
        "edge_attributes_df = edge_attributes_df.distinct().withColumn(\"ProcessedTimestamp\", f.lit(start_processing_timestamp)).persist()"
      ]
    },
    {
      "cell_type": "code",
      "execution_count": 83,
      "metadata": {
        "jupyter": {
          "outputs_hidden": false,
          "source_hidden": false
        },
        "nteract": {
          "transient": {
            "deleting": false
          }
        }
      },
      "outputs": [
        {
          "data": {
            "application/vnd.livy.statement-meta+json": {
              "execution_finish_time": "2023-10-09T19:58:06.2580654Z",
              "execution_start_time": "2023-10-09T19:55:40.2934222Z",
              "livy_statement_state": "available",
              "parent_msg_id": "200c8f72-984d-430b-b621-e2ec57788213",
              "queued_time": "2023-10-09T19:10:41.7339748Z",
              "session_id": "154",
              "session_start_time": null,
              "spark_jobs": null,
              "spark_pool": "maxpiasevoliL",
              "state": "finished",
              "statement_id": 83
            },
            "text/plain": [
              "StatementMeta(maxpiasevoliL, 154, 83, Finished, Available)"
            ]
          },
          "metadata": {},
          "output_type": "display_data"
        }
      ],
      "source": [
        "edges_df.write.mode('overwrite').parquet(output_path + '/edges')"
      ]
    },
    {
      "cell_type": "code",
      "execution_count": 84,
      "metadata": {
        "jupyter": {
          "outputs_hidden": false,
          "source_hidden": false
        },
        "nteract": {
          "transient": {
            "deleting": false
          }
        }
      },
      "outputs": [
        {
          "data": {
            "application/vnd.livy.statement-meta+json": {
              "execution_finish_time": "2023-10-09T19:59:21.5782836Z",
              "execution_start_time": "2023-10-09T19:58:06.4242406Z",
              "livy_statement_state": "available",
              "parent_msg_id": "cfbe8c81-3e39-48b8-ab27-5c697d72cc23",
              "queued_time": "2023-10-09T19:10:41.9523874Z",
              "session_id": "154",
              "session_start_time": null,
              "spark_jobs": null,
              "spark_pool": "maxpiasevoliL",
              "state": "finished",
              "statement_id": 84
            },
            "text/plain": [
              "StatementMeta(maxpiasevoliL, 154, 84, Finished, Available)"
            ]
          },
          "metadata": {},
          "output_type": "display_data"
        }
      ],
      "source": [
        "node_attributes_df.write.mode('overwrite').parquet(output_path + '/node_attributes')"
      ]
    },
    {
      "cell_type": "code",
      "execution_count": 85,
      "metadata": {
        "jupyter": {
          "outputs_hidden": false,
          "source_hidden": false
        },
        "nteract": {
          "transient": {
            "deleting": false
          }
        }
      },
      "outputs": [
        {
          "data": {
            "application/vnd.livy.statement-meta+json": {
              "execution_finish_time": "2023-10-09T19:59:47.0681316Z",
              "execution_start_time": "2023-10-09T19:59:21.80716Z",
              "livy_statement_state": "available",
              "parent_msg_id": "1818bd8c-7c2e-49a3-9761-4715c3de7e87",
              "queued_time": "2023-10-09T19:10:42.1986792Z",
              "session_id": "154",
              "session_start_time": null,
              "spark_jobs": null,
              "spark_pool": "maxpiasevoliL",
              "state": "finished",
              "statement_id": 85
            },
            "text/plain": [
              "StatementMeta(maxpiasevoliL, 154, 85, Finished, Available)"
            ]
          },
          "metadata": {},
          "output_type": "display_data"
        }
      ],
      "source": [
        "edge_attributes_df.write.mode('overwrite').parquet(output_path + '/edge_attributes')"
      ]
    }
  ],
  "metadata": {
    "description": null,
    "kernelspec": {
      "display_name": "secbench",
      "language": "python",
      "name": "python3"
    },
    "language_info": {
      "name": "python",
      "version": "3.11.9"
    },
    "save_output": true,
    "synapse_widget": {
      "state": {},
      "version": "0.1"
    }
  },
  "nbformat": 4,
  "nbformat_minor": 2
}
