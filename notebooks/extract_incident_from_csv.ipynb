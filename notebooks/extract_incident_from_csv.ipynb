{
 "cells": [
  {
   "cell_type": "code",
   "execution_count": 8,
   "metadata": {},
   "outputs": [],
   "source": [
    "import pandas as pd\n",
    "import os\n",
    "# C:\\Users\\t-yiranwu\\OneDrive - Microsoft\\Desktop\\SecRL\\secgym\\env\\data\\alpineSkiHouse\\SecurityAlert\n",
    "# secgym\\env\\data\\alpineSkiHouse\\SecurityAlert\n",
    "\n",
    "incident_path = \"./data_anonymized/alphineskihouse/SecurityIncident.csv\"\n",
    "sep = \"❖\"\n",
    "\n",
    "security_incident = pd.read_csv(incident_path, sep=sep, encoding='utf-8', on_bad_lines='skip', engine='python')\n",
    "# combine all the alert files\n",
    "\n",
    "alert_path_1 = './data_anonymized/alphineskihouse/SecurityAlert/SecurityAlert_0.csv'\n",
    "alert_path_2 = './data_anonymized/alphineskihouse/SecurityAlert/SecurityAlert_1.csv'\n",
    "security_alert =  pd.read_csv(alert_path_1, sep=sep, encoding='utf-8', on_bad_lines='skip', engine='python')\n",
    "security_alert_2 = pd.read_csv(alert_path_2, sep=sep, encoding='utf-8', on_bad_lines='skip', engine='python')\n",
    "\n",
    "# combine them in pd\n",
    "security_alert = pd.concat([security_alert, security_alert_2])"
   ]
  },
  {
   "cell_type": "code",
   "execution_count": 9,
   "metadata": {},
   "outputs": [],
   "source": [
    "# sort by time\n",
    "security_incident[\"TimeGenerated\"] = pd.to_datetime(security_incident[\"TimeGenerated\"], format='mixed')\n",
    "security_incident = security_incident.sort_values(by=\"TimeGenerated\")\n",
    "\n",
    "security_alert[\"TimeGenerated\"] = pd.to_datetime(security_alert[\"TimeGenerated\"], format='mixed')\n",
    "security_alert = security_alert.sort_values(by=\"TimeGenerated\")"
   ]
  },
  {
   "cell_type": "code",
   "execution_count": 10,
   "metadata": {},
   "outputs": [
    {
     "data": {
      "text/plain": [
       "(Timestamp('2024-07-02 22:41:59.791774+0000', tz='UTC'),\n",
       " Timestamp('2024-08-02 22:41:44.537137+0000', tz='UTC'))"
      ]
     },
     "execution_count": 10,
     "metadata": {},
     "output_type": "execute_result"
    }
   ],
   "source": [
    "# get earliest and latest time for security incident\n",
    "earliest_time = security_incident[\"TimeGenerated\"].min()\n",
    "latest_time = security_incident[\"TimeGenerated\"].max()\n",
    "\n",
    "earliest_time, latest_time"
   ]
  },
  {
   "cell_type": "code",
   "execution_count": 11,
   "metadata": {},
   "outputs": [
    {
     "data": {
      "text/plain": [
       "array([ 55,  38,   5,   3,  39,  34, 122, 134, 166, 175, 290, 322])"
      ]
     },
     "execution_count": 11,
     "metadata": {},
     "output_type": "execute_result"
    }
   ],
   "source": [
    "import json\n",
    "\n",
    "# 1. Filter by LATEST label\n",
    "filtered_incidents = []\n",
    "for i, incident in security_incident.iterrows():\n",
    "    labels = json.loads(incident['Labels'])\n",
    "    # check if the incident is the latest in one line\n",
    "    is_latest = any([label['labelName'] == 'LATEST' for label in labels])\n",
    "    if is_latest:\n",
    "        filtered_incidents.append(incident)\n",
    "\n",
    "filtered_incidents = pd.DataFrame(filtered_incidents)\n",
    "\n",
    "# unique incident numbers\n",
    "incident_numbers = filtered_incidents['IncidentNumber'].unique()\n",
    "incident_numbers"
   ]
  },
  {
   "cell_type": "code",
   "execution_count": 12,
   "metadata": {},
   "outputs": [
    {
     "data": {
      "text/plain": [
       "12"
      ]
     },
     "execution_count": 12,
     "metadata": {},
     "output_type": "execute_result"
    }
   ],
   "source": [
    "# 2. for each incdent number, get the latest incident generated and put in a new dataframe\n",
    "latest_incidents = []\n",
    "for incident_number in incident_numbers:\n",
    "    incident = filtered_incidents[filtered_incidents['IncidentNumber'] == incident_number]\n",
    "    latest_incidents.append(incident.iloc[-1])\n",
    "    \n",
    "latest_incidents = pd.DataFrame(latest_incidents)\n",
    "len(latest_incidents)"
   ]
  },
  {
   "cell_type": "code",
   "execution_count": 13,
   "metadata": {},
   "outputs": [
    {
     "name": "stdout",
     "output_type": "stream",
     "text": [
      "8\n"
     ]
    },
    {
     "data": {
      "text/plain": [
       "array([ 55,  38,   5,  39,  34, 134, 166, 322])"
      ]
     },
     "execution_count": 13,
     "metadata": {},
     "output_type": "execute_result"
    }
   ],
   "source": [
    "# 3. filter by time and remove repeated incidents\n",
    "start_time = pd.to_datetime(\"2024-06-18T00:00:00Z\")\n",
    "end_time = pd.to_datetime(\"2024-08-02T00:00:00Z\")\n",
    "\n",
    "latest_incidents[\"FirstActivityTime\"] = pd.to_datetime(latest_incidents[\"FirstActivityTime\"], format='mixed')\n",
    "latest_incidents = latest_incidents[latest_incidents[\"FirstActivityTime\"] > start_time]\n",
    "latest_incidents = latest_incidents[latest_incidents[\"FirstActivityTime\"] < end_time]\n",
    "\n",
    "\n",
    "# remove 290, 175, 122\n",
    "latest_incidents = latest_incidents[latest_incidents['IncidentNumber'] != 290]\n",
    "latest_incidents = latest_incidents[latest_incidents['IncidentNumber'] != 175]\n",
    "latest_incidents = latest_incidents[latest_incidents['IncidentNumber'] != 122]\n",
    "\n",
    "print(len(latest_incidents))\n",
    "\n",
    "incident_numbers = latest_incidents['IncidentNumber'].unique()\n",
    "incident_numbers"
   ]
  },
  {
   "cell_type": "code",
   "execution_count": 14,
   "metadata": {},
   "outputs": [
    {
     "name": "stdout",
     "output_type": "stream",
     "text": [
      "55 34 (28, 11, 2)\n",
      "5 55 (71, 28, 2)\n",
      "5 39 (71, 48, 7)\n",
      "39 55 (48, 28, 6)\n",
      "134 55 (9, 28, 2)\n",
      "134 39 (9, 48, 2)\n",
      "134 166 (9, 11, 5)\n",
      "134 322 (9, 9, 2)\n",
      "322 55 (9, 28, 3)\n",
      "322 39 (9, 48, 2)\n"
     ]
    }
   ],
   "source": [
    "# print alert names\n",
    "def get_alert_titles(alert_ids: list):\n",
    "    alert_titles = []\n",
    "    for alert_id in alert_ids:\n",
    "        alert = security_alert[security_alert['SystemAlertId'] == alert_id]\n",
    "        if len(alert) > 0:\n",
    "            alert_titles.append(alert.iloc[0]['AlertName'])\n",
    "    return alert_titles\n",
    "\n",
    "def check_alert_name_overlap(incident_1, incident_2):\n",
    "    alert_ids_1 = json.loads(incident_1['AlertIds'])\n",
    "    alert_ids_2 = json.loads(incident_2['AlertIds'])\n",
    "    alert_titles_1 = get_alert_titles(alert_ids_1)\n",
    "    alert_titles_2 = get_alert_titles(alert_ids_2)\n",
    "    overlap = set(alert_titles_1).intersection(set(alert_titles_2))\n",
    "    return len(alert_ids_1), len(alert_ids_2), len(overlap)\n",
    "\n",
    "def compare_incidents(incident_1, incident_2):\n",
    "    print(incident_1['Title'])\n",
    "    print(incident_2['Title'])\n",
    "    labels_1 = [label['labelName'] for label in json.loads(incident_1['Labels'])]\n",
    "    labels_2 = [label['labelName'] for label in json.loads(incident_2['Labels'])]\n",
    "    print(labels_1)\n",
    "    print(labels_2)\n",
    "    \n",
    "    len_alerts_1, len_alerts_2, overlap = check_alert_name_overlap(incident_1, incident_2)\n",
    "    print(len_alerts_1, len_alerts_2, len(overlap))\n",
    "    \n",
    "    \n",
    "# get overlap of every two incidents\n",
    "for i, incident_1 in latest_incidents.iterrows():\n",
    "    for j, incident_2 in latest_incidents.iterrows():\n",
    "        if i < j:\n",
    "            _, _, overlap = check_alert_name_overlap(incident_1, incident_2)\n",
    "            if overlap ==0:\n",
    "                continue\n",
    "            print(incident_1['IncidentNumber'], incident_2['IncidentNumber'], check_alert_name_overlap(incident_1, incident_2))"
   ]
  },
  {
   "cell_type": "code",
   "execution_count": null,
   "metadata": {},
   "outputs": [],
   "source": []
  },
  {
   "cell_type": "code",
   "execution_count": 15,
   "metadata": {},
   "outputs": [
    {
     "data": {
      "text/plain": [
       "TenantId                               e34d562e-ef12-4c4e-9bc0-7c6ae357c015\n",
       "TimeGenerated                              2024-07-22 22:36:59.791921+00:00\n",
       "IncidentName                           c5085ef5-1d1d-441e-b1d7-d8ae258445e8\n",
       "Title                     Multi-stage incident involving Initial access ...\n",
       "Description                                                             NaN\n",
       "Severity                                                               High\n",
       "Status                                                               Active\n",
       "Classification                                                          NaN\n",
       "ClassificationComment                                                   NaN\n",
       "ClassificationReason                                                    NaN\n",
       "Owner                     {\"objectId\":null,\"email\":null,\"assignedTo\":\"Mi...\n",
       "ProviderName                                                  Microsoft XDR\n",
       "ProviderIncidentId                                                      384\n",
       "FirstActivityTime                                 2024-07-01 15:01:28+00:00\n",
       "LastActivityTime                           2024-07-07 00:01:01.021452+00:00\n",
       "FirstModifiedTime                                                       NaN\n",
       "LastModifiedTime                           2024-07-22 22:36:59.791921+00:00\n",
       "CreatedTime                                2024-07-02 09:51:14.890000+00:00\n",
       "ClosedTime                                 2024-07-10 07:31:33.327919+00:00\n",
       "IncidentNumber                                                           55\n",
       "RelatedAnalyticRuleIds             [\"18600122-d839-48cf-861d-6c7fe6297cf6\"]\n",
       "AlertIds                  [\"e80d90d3-a9be-8883-1b79-2aa5c94b761c\",\"02d76...\n",
       "BookmarkIds                                                              []\n",
       "Comments                  [{\"message\":\"123\",\"createdTimeUtc\":\"2024-07-02...\n",
       "Tasks                                                                    []\n",
       "Labels                    [{\"labelName\":\"LATEST\",\"labelType\":\"User\"},{\"l...\n",
       "IncidentUrl               https://portal.azure.com/#asset/Microsoft_Azur...\n",
       "AdditionalData            {\"alertsCount\":28,\"bookmarksCount\":0,\"comments...\n",
       "ModifiedBy                                       u642@ash.alpineskihouse.co\n",
       "SourceSystem                                                          Azure\n",
       "Type                                                       SecurityIncident\n",
       "Name: 771, dtype: object"
      ]
     },
     "execution_count": 15,
     "metadata": {},
     "output_type": "execute_result"
    }
   ],
   "source": [
    "latest_incidents.iloc[0]"
   ]
  },
  {
   "cell_type": "code",
   "execution_count": 16,
   "metadata": {},
   "outputs": [],
   "source": [
    "# put the incidents to a dict:  IncidentNumber: firstActivityTime, lastActivityTime,\n",
    "# convert from pd timestamp to  datetime object\n",
    "    # 322: {\n",
    "    #     \"start_time\": datetime(2024, 8, 1, 11, 0, 0, 0, tzinfo=timezone.utc),\n",
    "    #     \"end_time\": datetime(2024, 8, 1, 14, 0, 0, 0, tzinfo=timezone.utc),\n",
    "    # },\n",
    "\n",
    "incidents = {}\n",
    "for i, incident in latest_incidents.iterrows():\n",
    "    incidents[incident[\"IncidentNumber\"]] = {\n",
    "        \"start_time\": pd.to_datetime(incident[\"FirstActivityTime\"]).to_pydatetime(),\n",
    "        \"end_time\": pd.to_datetime(incident[\"LastActivityTime\"]).to_pydatetime(),\n",
    "    }\n",
    "    "
   ]
  },
  {
   "cell_type": "code",
   "execution_count": 17,
   "metadata": {},
   "outputs": [
    {
     "data": {
      "text/plain": [
       "{55: {'start_time': datetime.datetime(2024, 7, 1, 15, 1, 28, tzinfo=datetime.timezone.utc),\n",
       "  'end_time': datetime.datetime(2024, 7, 7, 0, 1, 1, 21452, tzinfo=datetime.timezone.utc)},\n",
       " 38: {'start_time': datetime.datetime(2024, 6, 26, 15, 49, 16, 784267, tzinfo=datetime.timezone.utc),\n",
       "  'end_time': datetime.datetime(2024, 6, 26, 16, 13, 56, 115283, tzinfo=datetime.timezone.utc)},\n",
       " 5: {'start_time': datetime.datetime(2024, 6, 20, 8, 51, 7, 52079, tzinfo=datetime.timezone.utc),\n",
       "  'end_time': datetime.datetime(2024, 6, 20, 9, 38, 4, 116591, tzinfo=datetime.timezone.utc)},\n",
       " 39: {'start_time': datetime.datetime(2024, 6, 27, 14, 25, 58, 353842, tzinfo=datetime.timezone.utc),\n",
       "  'end_time': datetime.datetime(2024, 6, 27, 22, 21, 6, 820675, tzinfo=datetime.timezone.utc)},\n",
       " 34: {'start_time': datetime.datetime(2024, 6, 26, 11, 57, 25, 302556, tzinfo=datetime.timezone.utc),\n",
       "  'end_time': datetime.datetime(2024, 6, 26, 13, 17, 18, 874531, tzinfo=datetime.timezone.utc)},\n",
       " 134: {'start_time': datetime.datetime(2024, 7, 17, 10, 49, 35, 108080, tzinfo=datetime.timezone.utc),\n",
       "  'end_time': datetime.datetime(2024, 7, 17, 11, 6, 54, tzinfo=datetime.timezone.utc)},\n",
       " 166: {'start_time': datetime.datetime(2024, 7, 22, 8, 18, 18, 418000, tzinfo=datetime.timezone.utc),\n",
       "  'end_time': datetime.datetime(2024, 7, 22, 9, 46, 21, tzinfo=datetime.timezone.utc)},\n",
       " 322: {'start_time': datetime.datetime(2024, 8, 1, 12, 26, 22, tzinfo=datetime.timezone.utc),\n",
       "  'end_time': datetime.datetime(2024, 8, 1, 12, 37, 30, 277218, tzinfo=datetime.timezone.utc)}}"
      ]
     },
     "execution_count": 17,
     "metadata": {},
     "output_type": "execute_result"
    }
   ],
   "source": [
    "incidents"
   ]
  },
  {
   "cell_type": "code",
   "execution_count": 18,
   "metadata": {},
   "outputs": [
    {
     "data": {
      "text/plain": [
       "Title\n",
       "BEC financial fraud attack was launched from a compromised account (attack disruption)                                 1\n",
       "HuLuke-operated ransomware attack was launched from a compromised asset (attack disruption)                            1\n",
       "Multi-stage incident involving Defense evasion & Discovery on one endpoint                                             1\n",
       "Multi-stage incident involving Execution & Discovery on one endpoint                                                   1\n",
       "Multi-stage incident involving Initial access & Collection on multiple endpoints reported by multiple sources          1\n",
       "Multi-stage incident involving Initial access & Lateral movement on multiple endpoints reported by multiple sources    1\n",
       "Multi-stage incident involving Privilege escalation on multiple endpoints reported by multiple sources                 1\n",
       "SAP financial process Lukeipulation (attack disruption)                                                                1\n",
       "Name: count, dtype: int64"
      ]
     },
     "execution_count": 18,
     "metadata": {},
     "output_type": "execute_result"
    }
   ],
   "source": [
    "latest_incidents.value_counts(\"Title\")"
   ]
  },
  {
   "cell_type": "code",
   "execution_count": 19,
   "metadata": {},
   "outputs": [
    {
     "name": "stdout",
     "output_type": "stream",
     "text": [
      "2024-06-20 08:51:07.052079+00:00 5 HuLuke-operated ransomware attack was launched from a compromised asset (attack disruption) 71\n",
      "2024-06-26 11:57:25.302556+00:00 34 Multi-stage incident involving Execution & Discovery on one endpoint 11\n",
      "2024-06-26 15:49:16.784267+00:00 38 Multi-stage incident involving Defense evasion & Discovery on one endpoint 4\n",
      "2024-06-27 14:25:58.353842+00:00 39 Multi-stage incident involving Privilege escalation on multiple endpoints reported by multiple sources 48\n",
      "2024-07-01 15:01:28+00:00 55 Multi-stage incident involving Initial access & Lateral movement on multiple endpoints reported by multiple sources 28\n",
      "2024-07-17 10:49:35.108080+00:00 134 BEC financial fraud attack was launched from a compromised account (attack disruption) 9\n",
      "2024-07-22 08:18:18.418000+00:00 166 SAP financial process Lukeipulation (attack disruption) 11\n",
      "2024-08-01 12:26:22+00:00 322 Multi-stage incident involving Initial access & Collection on multiple endpoints reported by multiple sources 9\n"
     ]
    }
   ],
   "source": [
    "# sort incidents by TimeGenerated\n",
    "latest_incidents = latest_incidents.sort_values(by=\"FirstActivityTime\")\n",
    "# print name, first activity time, title\n",
    "for i, incident in latest_incidents.iterrows():\n",
    "    print(incident['FirstActivityTime'], incident['IncidentNumber'],  incident['Title'], len(json.loads(incident['AlertIds'])))"
   ]
  },
  {
   "cell_type": "code",
   "execution_count": 20,
   "metadata": {},
   "outputs": [
    {
     "name": "stdout",
     "output_type": "stream",
     "text": [
      "5\n",
      "34\n",
      "38\n",
      "39\n",
      "55\n",
      "134\n",
      "166\n",
      "322\n"
     ]
    }
   ],
   "source": [
    "for i, incident in latest_incidents.iterrows():\n",
    "    print(incident['IncidentNumber'])"
   ]
  },
  {
   "cell_type": "markdown",
   "metadata": {},
   "source": [
    "## Use overlap in alert names to find relation beween two incidents\n",
    "\n",
    "1. Have a large number of overlapping tags: like 19 and 25\n",
    "2. Have the same incident title"
   ]
  },
  {
   "cell_type": "code",
   "execution_count": 21,
   "metadata": {},
   "outputs": [
    {
     "name": "stdout",
     "output_type": "stream",
     "text": [
      "5 39 (71, 48, 7)\n",
      "5 55 (71, 28, 2)\n",
      "39 55 (48, 28, 6)\n",
      "55 34 (28, 11, 2)\n",
      "134 39 (9, 48, 2)\n",
      "134 55 (9, 28, 2)\n",
      "134 166 (9, 11, 5)\n",
      "134 322 (9, 9, 2)\n",
      "322 39 (9, 48, 2)\n",
      "322 55 (9, 28, 3)\n"
     ]
    }
   ],
   "source": [
    "# print alert names\n",
    "def get_alert_titles(alert_ids: list):\n",
    "    alert_titles = []\n",
    "    for alert_id in alert_ids:\n",
    "        alert = security_alert[security_alert['SystemAlertId'] == alert_id]\n",
    "        if len(alert) > 0:\n",
    "            alert_titles.append(alert.iloc[0]['AlertName'])\n",
    "    return alert_titles\n",
    "\n",
    "def check_alert_name_overlap(incident_1, incident_2):\n",
    "    alert_ids_1 = json.loads(incident_1['AlertIds'])\n",
    "    alert_ids_2 = json.loads(incident_2['AlertIds'])\n",
    "    alert_titles_1 = get_alert_titles(alert_ids_1)\n",
    "    alert_titles_2 = get_alert_titles(alert_ids_2)\n",
    "    overlap = set(alert_titles_1).intersection(set(alert_titles_2))\n",
    "    return len(alert_ids_1), len(alert_ids_2), len(overlap)\n",
    "\n",
    "def compare_incidents(incident_1, incident_2):\n",
    "    print(incident_1['Title'])\n",
    "    print(incident_2['Title'])\n",
    "    labels_1 = [label['labelName'] for label in json.loads(incident_1['Labels'])]\n",
    "    labels_2 = [label['labelName'] for label in json.loads(incident_2['Labels'])]\n",
    "    print(labels_1)\n",
    "    print(labels_2)\n",
    "    \n",
    "    len_alerts_1, len_alerts_2, overlap = check_alert_name_overlap(incident_1, incident_2)\n",
    "    print(len_alerts_1, len_alerts_2, len(overlap))\n",
    "    \n",
    "    \n",
    "# get overlap of every two incidents\n",
    "for i, incident_1 in latest_incidents.iterrows():\n",
    "    for j, incident_2 in latest_incidents.iterrows():\n",
    "        if i < j:\n",
    "            _, _, overlap = check_alert_name_overlap(incident_1, incident_2)\n",
    "            if overlap ==0:\n",
    "                continue\n",
    "            print(incident_1['IncidentNumber'], incident_2['IncidentNumber'], check_alert_name_overlap(incident_1, incident_2))"
   ]
  }
 ],
 "metadata": {
  "kernelspec": {
   "display_name": "secbench",
   "language": "python",
   "name": "python3"
  },
  "language_info": {
   "codemirror_mode": {
    "name": "ipython",
    "version": 3
   },
   "file_extension": ".py",
   "mimetype": "text/x-python",
   "name": "python",
   "nbconvert_exporter": "python",
   "pygments_lexer": "ipython3",
   "version": "3.11.9"
  }
 },
 "nbformat": 4,
 "nbformat_minor": 2
}
